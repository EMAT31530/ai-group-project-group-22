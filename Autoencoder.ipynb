{
  "cells": [
    {
      "cell_type": "markdown",
      "metadata": {
        "id": "view-in-github",
        "colab_type": "text"
      },
      "source": [
        "<a href=\"https://colab.research.google.com/github/EMAT31530/ai-group-project-group-22/blob/master/Autoencoder.ipynb\" target=\"_parent\"><img src=\"https://colab.research.google.com/assets/colab-badge.svg\" alt=\"Open In Colab\"/></a>"
      ]
    },
    {
      "cell_type": "code",
      "execution_count": null,
      "metadata": {
        "id": "maAYFeCR0Bf-"
      },
      "outputs": [],
      "source": [
        "import matplotlib.pyplot as plt\n",
        "import numpy as np\n",
        "import cv2\n",
        "import csv\n",
        "import sys\n",
        "import tensorflow as tf \n",
        "from tensorflow.keras import layers\n",
        "from keras.preprocessing.image import img_to_array\n",
        "from tensorflow.keras.models import Sequential\n",
        "from sklearn.model_selection import train_test_split\n",
        "from keras import regularizers\n",
        "import os\n",
        "import pandas as pd\n",
        "from keras.layers import Dense,Conv2D,MaxPooling2D,UpSampling2D,BatchNormalization,Dropout\n",
        "from keras import Input, Model"
      ]
    },
    {
      "cell_type": "code",
      "execution_count": null,
      "metadata": {
        "id": "OCPieDrm05z6",
        "colab": {
          "base_uri": "https://localhost:8080/"
        },
        "outputId": "0245aebc-48be-4d72-ff97-e42cc622f9fe"
      },
      "outputs": [
        {
          "output_type": "stream",
          "name": "stdout",
          "text": [
            "Drive already mounted at /content/drive; to attempt to forcibly remount, call drive.mount(\"/content/drive\", force_remount=True).\n"
          ]
        }
      ],
      "source": [
        "from google.colab import drive\n",
        "drive.mount('/content/drive')"
      ]
    },
    {
      "cell_type": "code",
      "execution_count": null,
      "metadata": {
        "id": "SZruhdlt0BgA"
      },
      "outputs": [],
      "source": [
        "def loadImages(directory):\n",
        "    all_images = []\n",
        "    for img in os.listdir(directory):\n",
        "        if img.endswith(\".tif\"):\n",
        "          image = cv2.imread(directory + '/' + img)\n",
        "          crop_image = image[32:64, 32:64]\n",
        "          all_images.append(crop_image)\n",
        "    return all_images"
      ]
    },
    {
      "cell_type": "code",
      "execution_count": null,
      "metadata": {
        "id": "SAo3FvlI0BgB"
      },
      "outputs": [],
      "source": [
        "# Paths to access images in subfolders small enough to load into colab\n",
        "#samplePath = r\"C:\\Users\\charlie\\Documents\\uni\\year_3\\IntroAI\\histopathologic-cancer-detection\\sample\"\n",
        "samplePath = r\"/content/drive/MyDrive/sample\" \n",
        "samplePath2 = r\"/content/drive/MyDrive/sample2\" \n",
        "samplePath3 = r\"/content/drive/MyDrive/sample3\"\n",
        "samplePath4 = r\"/content/drive/MyDrive/sample4\" \n",
        "samplePath5 = r\"/content/drive/MyDrive/sample5\"\n",
        "samplePath6 = r\"/content/drive/MyDrive/sample6\"\n",
        "samplePath7 = r\"/content/drive/MyDrive/sample7\"\n",
        "all_sample_paths = [samplePath, samplePath2,samplePath3, samplePath4, samplePath5, samplePath6, samplePath7]\n",
        "all_images = []\n",
        "\n",
        "# Loading each image from the subfolders\n",
        "for i in all_sample_paths:\n",
        "  images = loadImages(i)\n",
        "  for ii in images:\n",
        "    all_images.append(ii)"
      ]
    },
    {
      "cell_type": "code",
      "source": [
        "samplePath = r\"/content/drive/MyDrive/sample\" \n",
        "samplePath2 = r\"/content/drive/MyDrive/sample2\" \n",
        "samplePath3 = r\"/content/drive/MyDrive/sample3\"\n",
        "samplePath4 = r\"/content/drive/MyDrive/sample4\" \n",
        "samplePath5 = r\"/content/drive/MyDrive/sample5\"\n",
        "samplePath6 = r\"/content/drive/MyDrive/sample6\"\n",
        "samplePath7 = r\"/content/drive/MyDrive/sample7\"\n",
        "\n",
        "all_SL_images = []\n",
        "all_SL_Paths = [samplePath, samplePath2,samplePath3, samplePath4, samplePath5]\n",
        "for i in all_SL_Paths:\n",
        "  images = loadImages(i)\n",
        "  for ii in images:\n",
        "    all_SL_images.append(ii)\n",
        "\n",
        "all_SL_stack = np.stack(all_SL_images).astype('uint8')\n",
        "# Combined labels that match up with images\n",
        "all_SL_labels = sample_labels1 + sample_labels2 + sample_labels3 + sample_labels4 +  sample_labels5"
      ],
      "metadata": {
        "id": "cVqP_YAQBg33"
      },
      "execution_count": null,
      "outputs": []
    },
    {
      "cell_type": "code",
      "source": [
        "# image processing and test, train split\n",
        "X_SL = all_SL_stack.astype('float32') / 255.0 - 0.5\n",
        "SLX_train,SLX_test, SLy_train, SLy_test = train_test_split(X_SL,all_SL_labels, test_size=0.2, random_state=42)\n",
        "\n",
        "augmented_SL_images = data_augmentation(X_SL)\n",
        "ASLX_train,ASLX_test, ASLy_train, ASLy_test = train_test_split(np.array(augmented_SL_images),all_SL_labels, test_size=0.2, random_state=42)\n",
        "\n",
        "allSL_X_train = np.concatenate((SLX_train, ASLX_train))\n",
        "allSL_y_train = np.concatenate((SLy_train, ASLy_train))\n",
        "allSL_X_test = np.concatenate((SLX_test, ASLX_test))\n",
        "allSL_y_test = np.concatenate((SLy_test, ASLy_test))\n"
      ],
      "metadata": {
        "id": "G98tQydiCrX3"
      },
      "execution_count": null,
      "outputs": []
    },
    {
      "cell_type": "code",
      "execution_count": null,
      "metadata": {
        "id": "4iQ_SgdI0BgB"
      },
      "outputs": [],
      "source": [
        "all_images_stack = np.stack(all_images).astype('uint8')"
      ]
    },
    {
      "cell_type": "code",
      "execution_count": null,
      "metadata": {
        "id": "TDOxBFuR0BgC"
      },
      "outputs": [],
      "source": [
        "dummy_attributes = np.random.choice([0, 1], size=(24056,))\n",
        "# can be used for autoencoder training as it is unsupervised"
      ]
    },
    {
      "cell_type": "code",
      "execution_count": null,
      "metadata": {
        "id": "HNCptV1u0BgD"
      },
      "outputs": [],
      "source": [
        "# Due to changes in order of images when extracting the zip folder, some names are needed to be found iterativly \n",
        "def loadImageNames(directory):\n",
        "    all_images_names = []\n",
        "    for img in os.listdir(directory):\n",
        "        if img.endswith(\".tif\"):\n",
        "            img = img.replace('.tif','')\n",
        "            all_images_names.append(img)\n",
        "\n",
        "    return all_images_names"
      ]
    },
    {
      "cell_type": "code",
      "execution_count": null,
      "metadata": {
        "id": "pHEF3xJP0BgD"
      },
      "outputs": [],
      "source": [
        "all_images_names5 = loadImageNames(samplePath5)\n"
      ]
    },
    {
      "cell_type": "code",
      "execution_count": null,
      "metadata": {
        "id": "o-LjDP7k0BgD"
      },
      "outputs": [],
      "source": [
        "labels = []\n",
        "\n",
        "#locating labels from csv file \n",
        "\n",
        "def id_finder(image_name):\n",
        "    #labels_path = r'C:\\Users\\charlie\\Documents\\uni\\year_3\\IntroAI\\histopathologic-cancer-detection\\train_labels.csv'\n",
        "    labels_path = r'/content/drive/MyDrive/train_labels.csv'\n",
        "    csv_file = csv.reader(open(labels_path, \"r\"))\n",
        "    found = True\n",
        "    idx = []\n",
        "    #loop through the csv list\n",
        "    for row in csv_file:\n",
        "        \n",
        "        #if current rows 2nd value is equal to input, print that row\n",
        "        if image_name == row[0]:\n",
        "            idx = row[1]\n",
        "            found == True\n",
        "\n",
        "    if idx == []:\n",
        "       idx = '0'\n",
        "       found == False\n",
        "\n",
        "    return idx, found"
      ]
    },
    {
      "cell_type": "code",
      "execution_count": null,
      "metadata": {
        "id": "a7PLAxuq0BgE"
      },
      "outputs": [],
      "source": [
        "labels = []\n",
        "for i in all_images_names5:\n",
        "    idx, found = id_finder(i)\n",
        "    if found == False:\n",
        "      print(i)\n",
        "\n",
        "    labels.append(idx)"
      ]
    },
    {
      "cell_type": "code",
      "execution_count": null,
      "metadata": {
        "colab": {
          "base_uri": "https://localhost:8080/",
          "height": 182
        },
        "id": "A66j8AD30BgE",
        "outputId": "40bf5aae-0415-45c5-e814-b55858429e22"
      },
      "outputs": [
        {
          "ename": "NameError",
          "evalue": "ignored",
          "output_type": "error",
          "traceback": [
            "\u001b[0;31m---------------------------------------------------------------------------\u001b[0m",
            "\u001b[0;31mNameError\u001b[0m                                 Traceback (most recent call last)",
            "\u001b[0;32m<ipython-input-26-6906d532d34e>\u001b[0m in \u001b[0;36m<module>\u001b[0;34m()\u001b[0m\n\u001b[0;32m----> 1\u001b[0;31m \u001b[0mprint\u001b[0m\u001b[0;34m(\u001b[0m\u001b[0mlen\u001b[0m\u001b[0;34m(\u001b[0m\u001b[0mlabels\u001b[0m\u001b[0;34m)\u001b[0m\u001b[0;34m)\u001b[0m\u001b[0;34m\u001b[0m\u001b[0;34m\u001b[0m\u001b[0m\n\u001b[0m\u001b[1;32m      2\u001b[0m \u001b[0mids_labels\u001b[0m \u001b[0;34m=\u001b[0m \u001b[0mlabels\u001b[0m\u001b[0;34m\u001b[0m\u001b[0;34m\u001b[0m\u001b[0m\n",
            "\u001b[0;31mNameError\u001b[0m: name 'labels' is not defined"
          ]
        }
      ],
      "source": [
        "print(len(labels))\n",
        "ids_labels = labels"
      ]
    },
    {
      "cell_type": "code",
      "execution_count": null,
      "metadata": {
        "id": "DiN9wA1u0BgE"
      },
      "outputs": [],
      "source": [
        "labels = []\n",
        "for i in ids_labels: \n",
        "    labels.append(i[1])"
      ]
    },
    {
      "cell_type": "code",
      "execution_count": null,
      "metadata": {
        "colab": {
          "base_uri": "https://localhost:8080/"
        },
        "id": "g6g3htLEWgUU",
        "outputId": "aa2cc5a4-c8df-4780-c5b9-7fe75c9d3314"
      },
      "outputs": [
        {
          "name": "stdout",
          "output_type": "stream",
          "text": [
            "['1', '1', '1', '0', '1', '0', '1', '0', '0', '0', '0', '1', '0', '1', '0', '0', '1', '1', '0', '0', '0', '1', '0', '1', '1', '1', '0', '0', '1', '1', '0', '1', '1', '0', '0', '1', '1', '1', '0', '0', '1', '0', '0', '1', '0', '1', '1', '0', '1', '1', '0', '0', '0', '1', '0', '0', '0', '0', '1', '0', '1', '1', '0', '0', '0', '0', '1', '1', '0', '0', '0', '1', '0', '1', '1', '1', '1', '1', '1', '0', '1', '1', '0', '0', '1', '0', '0', '1', '1', '0', '0', '0', '1', '0', '1', '1', '0', '0', '1', '1', '1', '0', '1', '1', '0', '0', '0', '0', '0', '1', '0', '0', '1', '1', '0', '1', '0', '1', '1', '0', '1', '0', '1', '1', '0', '0', '0', '0', '1', '1', '1', '1', '0', '0', '1', '0', '1', '1', '1', '1', '0', '0', '1', '0', '0', '0', '0', '0', '0', '1', '0', '0', '1', '0', '1', '0', '1', '0', '1', '0', '0', '0', '0', '1', '1', '0', '0', '1', '0', '0', '0', '1', '1', '1', '1', '0', '1', '0', '0', '1', '0', '0', '0', '0', '1', '1', '1', '0', '0', '0', '0', '0', '1', '0', '0', '1', '0', '1', '1', '0', '0', '0', '1', '1', '0', '0', '0', '0', '1', '1', '1', '0', '1', '1', '0', '1', '1', '1', '1', '0', '0', '0', '1', '0', '1', '0', '0', '0', '1', '0', '0', '1', '0', '0', '0', '0', '0', '1', '0', '1', '1', '0', '1', '0', '0', '0', '0', '1', '0', '0', '1', '0', '0', '0', '1', '1', '0', '0', '1', '0', '1', '0', '1', '0', '1', '0', '0', '0', '0', '0', '0', '0', '0', '1', '1', '1', '1', '1', '1', '1', '0', '1', '1', '1', '0', '0', '1', '1', '0', '0', '0', '0', '0', '0', '0', '1', '1', '1', '1', '0', '1', '0', '0', '0', '0', '1', '0', '0', '1', '0', '1', '1', '0', '0', '0', '0', '0', '1', '0', '0', '0', '0', '1', '0', '0', '1', '1', '1', '1', '1', '1', '0', '0', '0', '0', '0', '0', '0', '0', '1', '1', '1', '0', '0', '1', '0', '0', '1', '0', '1', '1', '1', '0', '0', '1', '1', '1', '0', '1', '0', '0', '0', '0', '0', '1', '1', '0', '0', '0', '1', '0', '0', '1', '1', '0', '0', '1', '1', '0', '1', '1', '0', '0', '0', '0', '1', '0', '1', '0', '0', '0', '1', '0', '1', '0', '1', '0', '1', '1', '1', '0', '0', '1', '1', '1', '1', '1', '1', '0', '0', '0', '1', '0', '1', '1', '0', '1', '0', '1', '0', '0', '0', '0', '0', '0', '1', '1', '0', '0', '1', '0', '1', '1', '1', '1', '0', '0', '0', '1', '1', '1', '1', '0', '1', '1', '0', '1', '0', '0', '1', '0', '1', '1', '0', '1', '0', '0', '1', '0', '1', '0', '1', '1', '0', '0', '1', '0', '0', '1', '1', '1', '1', '1', '0', '1', '1', '0', '1', '1', '0', '0', '0', '0', '0', '0', '0', '0', '0', '1', '1', '1', '0', '1', '1', '1', '1', '1', '0', '1', '0', '0', '0', '0', '1', '0', '0', '0', '1', '1', '0', '0', '1', '1', '0', '1', '1', '0', '0', '0', '0', '0', '0', '1', '0', '0', '1', '0', '0', '0', '0', '1', '0', '0', '0', '1', '0', '0', '0', '1', '1', '1', '1', '0', '1', '1', '0', '1', '0', '0', '1', '1', '0', '0', '0', '0', '1', '0', '0', '0', '0', '0', '0', '0', '0', '0', '1', '0', '0', '0', '1', '1', '0', '0', '1', '1', '1', '1', '0', '1', '0', '0', '0', '1', '0', '0', '0', '0', '1', '0', '1', '0', '0', '0', '1', '0', '1', '1', '1', '0', '1', '0', '0', '0', '0', '0', '1', '1', '0', '0', '1', '1', '1', '1', '0', '0', '1', '1', '0', '0', '1', '1', '0', '1', '0', '0', '1', '0', '0', '1', '0', '0', '0', '0', '1', '0', '0', '0', '1', '0', '0', '1', '0', '1', '1', '1', '1', '0', '0', '0', '1', '0', '0', '1', '1', '0', '0', '0', '0', '0', '0', '1', '0', '0', '0', '0', '0', '0', '1', '0', '0', '1', '1', '0', '1', '0', '0', '0', '0', '1', '1', '0', '0', '1', '0', '0', '0', '0', '1', '1', '1', '0', '0', '1', '1', '0', '1', '0', '1', '0', '0', '0', '0', '1', '0', '1', '0', '0', '0', '1', '0', '0', '1', '1', '1', '0', '0', '1', '0', '0', '0', '0', '1', '0', '0', '1', '0', '0', '0', '0', '1', '1', '0', '1', '1', '0', '0', '0', '0', '0', '0', '0', '1', '1', '1', '0', '0', '0', '0', '1', '0', '0', '0', '0', '1', '0', '0', '1', '1', '0', '0', '0', '1', '0', '1', '0', '0', '0', '1', '0', '0', '0', '0', '1', '1', '0', '1', '1', '0', '0', '1', '1', '1', '1', '1', '1', '0', '1', '1', '1', '1', '1', '1', '0', '0', '0', '0', '0', '0', '1', '1', '0', '1', '0', '1', '1', '0', '0', '0', '1', '1', '0', '1', '1', '0', '1', '1', '1', '0', '0', '1', '1', '1', '0', '1', '0', '0', '0', '0', '0', '0', '0', '1', '0', '1', '0', '1', '0', '0', '1', '0', '0', '1', '0', '1', '1', '0', '1', '0', '0', '0', '0', '0', '0', '1', '1', '1', '1', '0', '0', '0', '1', '0', '1', '0', '0', '1', '0', '0', '0', '0', '0', '0', '0', '0', '0', '0', '1', '0', '1', '1', '0', '0', '1', '1', '0', '1', '0', '0', '0', '0', '1', '0', '0', '1', '0', '0', '0', '0', '0', '1', '0', '0', '0', '1', '1', '0', '0', '1', '0', '1', '0', '0', '1', '1', '0', '0', '0', '0', '0', '1', '0', '0', '0', '0', '0', '0', '0', '0', '1', '0', '1', '0', '1', '1', '0', '1', '1', '1', '1', '0', '1', '0', '0', '1', '0', '0', '1', '0', '1', '1', '0', '0', '0', '0', '0', '1', '0', '1', '0', '1', '0', '1', '1', '1', '1', '1', '0', '1', '0', '1', '0', '1', '0', '0', '0', '0', '1', '1', '1', '0', '1', '1', '0', '1', '0', '0', '0', '0', '1', '1', '0', '0', '0', '0', '0', '1', '0', '1', '0', '0', '0', '0', '0', '0', '1', '0', '0', '0', '0', '0', '1', '0', '1', '1', '0', '1', '0', '1', '0', '0', '1', '0', '1', '0', '1', '1', '0', '0', '1', '0', '1', '0', '1', '1', '1', '1', '1', '1', '1', '0', '1', '1', '1', '0', '1', '1', '0', '0', '0', '1', '0', '1', '0', '0', '0', '0', '0', '0', '0', '0', '1', '0', '0', '0', '0', '0', '0', '0', '0', '0', '0', '0', '0', '0', '0', '0', '0', '1', '1', '1', '0', '1', '1', '1', '1', '0', '0', '0', '1', '1', '1', '0', '0', '1', '0', '1', '0', '0', '1', '0', '1', '1', '1', '0', '1', '0', '1', '0', '1', '0', '0', '1', '0', '0', '1', '1', '0', '1', '0', '0', '1', '1', '1', '0', '0', '1', '0', '1', '1', '0', '0', '1', '0', '0', '0', '0', '1', '0', '1', '1', '1', '1', '1', '0', '0', '0', '1', '0', '1', '1', '0', '1', '1', '1', '0', '0', '1', '0', '0', '0', '1', '0', '0', '0', '0', '0', '0', '0', '1', '0', '1', '1', '0', '1', '0', '0', '0', '1', '0', '0', '0', '0', '0', '1', '1', '1', '0', '1', '1', '0', '0', '0', '0', '0', '0', '0', '0', '0', '0', '0', '0', '0', '1', '0', '0', '0', '1', '1', '1', '1', '0', '1', '0', '1', '0', '0', '1', '1', '0', '0', '0', '0', '1', '0', '1', '1', '1', '0', '0', '1', '0', '1', '0', '1', '1', '0', '0', '0', '0', '0', '1', '0', '0', '1', '0', '1', '1', '0', '1', '0', '0', '0', '0', '0', '0', '0', '0', '0', '0', '1', '1', '1', '0', '0', '1', '0', '1', '0', '0', '0', '0', '1', '0', '0', '1', '0', '0', '0', '1', '1', '0', '1', '0', '0', '0', '0', '0', '1', '1', '0', '0', '1', '1', '0', '0', '0', '0', '1', '0', '0', '1', '0', '0', '0', '1', '1', '1', '1', '0', '1', '0', '1', '0', '0', '0', '1', '1', '1', '0', '1', '0', '1', '0', '1', '1', '1', '1', '0', '1', '0', '1', '1', '0', '0', '0', '1', '0', '1', '0', '0', '1', '1', '0', '0', '0', '1', '0', '0', '1', '0', '0', '0', '1', '0', '1', '1', '1', '1', '1', '1', '0', '1', '0', '0', '0', '0', '1', '1', '0', '1', '1', '0', '0', '1', '0', '0', '1', '1', '0', '0', '1', '1', '0', '0', '0', '1', '0', '1', '1', '0', '0', '1', '0', '0', '1', '1', '0', '1', '1', '0', '1', '1', '0', '0', '0', '0', '0', '0', '1', '0', '0', '1', '0', '0', '1', '0', '0', '1', '1', '1', '0', '1', '0', '1', '0', '0', '0', '1', '0', '1', '1', '1', '1', '1', '1', '1', '0', '0', '0', '1', '0', '0', '0', '0', '0', '1', '0', '1', '0', '1', '1', '0', '0', '1', '0', '0', '0', '0', '1', '1', '0', '1', '0', '0', '1', '1', '0', '0', '1', '0', '1', '1', '0', '0', '0', '0', '1', '0', '0', '0', '0', '0', '0', '0', '1', '1', '0', '0', '1', '1', '1', '1', '1', '1', '0', '0', '0', '0', '1', '1', '1', '1', '0', '0', '1', '0', '1', '0', '0', '1', '1', '1', '1', '0', '0', '1', '0', '0', '0', '1', '0', '0', '0', '0', '0', '0', '1', '0', '0', '0', '0', '0', '0', '0', '0', '0', '1', '1', '0', '1', '0', '0', '1', '0', '0', '1', '0', '0', '1', '1', '0', '1', '0', '0', '0', '1', '0', '0', '0', '0', '1', '0', '0', '1', '1', '0', '1', '1', '0', '0', '0', '0', '0', '0', '1', '0', '1', '0', '0', '0', '0', '0', '0', '0', '0', '0', '1', '1', '0', '1', '0', '1', '0', '1', '0', '1', '0', '1', '1', '0', '1', '1', '0', '1', '0', '0', '0', '0', '0', '0', '1', '0', '0', '1', '0', '1', '1', '0', '1', '0', '1', '0', '1', '0', '0', '1', '0', '0', '0', '0', '1', '0', '0', '0', '1', '0', '0', '0', '0', '1', '0', '0', '0', '1', '0', '0', '1', '0', '0', '1', '0', '0', '0', '1', '0', '1', '1', '1', '1', '1', '0', '0', '0', '1', '0', '0', '1', '0', '1', '0', '1', '0', '1', '0', '1', '1', '1', '0', '0', '0', '0', '0', '1', '0', '0', '0', '1', '0', '1', '0', '0', '1', '0', '0', '1', '1', '1', '1', '1', '0', '1', '0', '0', '1', '0', '0', '1', '1', '1', '0', '1', '0', '1', '0', '1', '0', '0', '0', '0', '1', '1', '1', '1', '1', '1', '0', '0', '0', '0', '1', '1', '1', '1', '0', '1', '0', '0', '0', '0', '1', '0', '1', '0', '0', '0', '0', '0', '1', '0', '1', '1', '0', '1', '0', '0', '1', '0', '1', '0', '0', '0', '1', '1', '1', '1', '0', '0', '0', '0', '0', '1', '1', '1', '0', '0', '1', '0', '1', '0', '1', '0', '0', '0', '0', '0', '0', '0', '0', '1', '0', '0', '1', '0', '1', '0', '1', '0', '0', '1', '1', '0', '0', '0', '1', '1', '0', '0', '0', '0', '0', '0', '0', '0', '1', '1', '0', '1', '0', '0', '1', '0', '1', '1', '0', '0', '0', '0', '1', '1', '0', '0', '0', '0', '0', '1', '0', '0', '0', '0', '0', '1', '0', '1', '1', '0', '0', '0', '0', '0', '0', '1', '1', '0', '1', '1', '0', '1', '1', '1', '0', '1', '0', '0', '0', '1', '0', '1', '1', '1', '1', '1', '0', '0', '1', '0', '1', '0', '1', '0', '0', '0', '0', '0', '0', '0', '0', '1', '0', '0', '0', '0', '1', '0', '1', '1', '1', '0', '1', '0', '1', '0', '1', '1', '0', '0', '0', '0', '1', '0', '0', '1', '1', '0', '0', '0', '0', '0', '1', '1', '0', '0', '0', '1', '0', '0', '1', '0', '1', '0', '0', '1', '1', '1', '0', '0', '1', '0', '1', '1', '0', '1', '0', '0', '0', '0', '0', '1', '0', '0', '1', '1', '0', '0', '1', '1', '0', '1', '1', '0', '0', '0', '0', '0', '1', '0', '1', '0', '0', '1', '1', '1', '1', '0', '1', '1', '0', '1', '0', '0', '0', '0', '0', '0', '1', '1', '1', '1', '0', '1', '0', '1', '0', '0', '1', '0', '1', '1', '0', '0', '0', '0', '0', '0', '0', '1', '0', '0', '1', '0', '1', '0', '1', '1', '1', '0', '0', '0', '0', '0', '1', '0', '1', '0', '1', '1', '0', '1', '1', '0', '0', '0', '0', '0', '0', '0', '0', '1', '0', '1', '0', '1', '0', '0', '1', '0', '1', '1', '1', '1', '1', '1', '0', '0', '0', '1', '0', '0', '0', '1', '1', '0', '0', '0', '0', '0', '0', '0', '1', '0', '0', '0', '1', '1', '1', '0', '1', '0', '0', '0', '0', '0', '0', '0', '0', '0', '1', '1', '0', '0', '1', '1', '1', '1', '1', '1', '1', '0', '1', '1', '0', '0', '0', '0', '0', '0', '0', '0', '1', '1', '1', '0', '0', '0', '1', '1', '1', '0', '1', '1', '0', '1', '1', '0', '0', '0', '1', '0', '1', '0', '0', '1', '0', '1', '1', '0', '0', '0', '1', '0', '1', '1', '0', '1', '1', '0', '1', '1', '0', '1', '0', '1', '1', '0', '1', '1', '0', '1', '0', '0', '0', '1', '0', '0', '1', '1', '1', '1', '0', '0', '1', '1', '0', '0', '0', '1', '0', '1', '0', '1', '0', '1', '0', '0', '1', '0', '1', '0', '0', '0', '0', '0', '1', '0', '0', '1', '1', '0', '1', '1', '1', '1', '0', '1', '0', '0', '0', '0', '0', '1', '1', '1', '1', '0', '1', '1', '0', '0', '1', '1', '0', '0', '0', '0', '0', '0', '0', '0', '0', '1', '0', '0', '1', '1', '0', '0', '0', '1', '0', '1', '1', '1', '1', '1', '1', '1', '0', '1', '1', '0', '1', '0', '1', '1', '1', '1', '0', '1', '0', '1', '0', '1', '1', '1', '1', '0', '0', '1', '0', '0', '0', '0', '0', '0', '1', '0', '0', '0', '0', '1', '1', '0', '1', '1', '0', '0', '0', '0', '0', '1', '0', '0', '1', '0', '0', '0', '0', '1', '1', '1', '0', '1', '1', '0', '0', '0', '1', '0', '0', '1', '0', '1', '1', '0', '1', '0', '0', '1', '0', '0', '0', '1', '0', '0', '1', '1', '0', '0', '0', '0', '0', '0', '0', '0', '0', '1', '0', '0', '0', '1', '1', '0', '0', '0', '1', '0', '0', '0', '0', '0', '0', '1', '1', '0', '0', '0', '1', '0', '1', '1', '1', '1', '0', '0', '0', '1', '0', '0', '1', '1', '1', '0', '1', '0', '0', '0', '1', '0', '0', '0', '1', '0', '1', '1', '0', '0', '0', '0', '0', '1', '0', '0', '1', '0', '0', '0', '0', '0', '0', '1', '1', '0', '0', '0', '0', '0', '0', '0', '0', '0', '0', '0', '0', '1', '0', '0', '1', '1', '0', '0', '0', '0', '0', '0', '0', '1', '0', '0', '1', '0', '0', '0', '0', '1', '0', '1', '0', '0', '0', '1', '0', '0', '0', '0', '1', '0', '0', '1', '0', '0', '1', '0', '1', '0', '1', '0', '0', '1', '0', '0', '0', '0', '1', '0', '0', '0', '0', '0', '0', '1', '0', '0', '0', '1', '1', '0', '0', '0', '0', '0', '1', '0', '1', '0', '0', '0', '1', '0', '1', '0', '1', '1', '1', '0', '1', '1', '1', '0', '0', '0', '0', '0', '0', '1', '0', '0', '0', '0', '1', '1', '0', '0', '0', '0', '0', '1', '0', '0', '0', '1', '1', '1', '1', '1', '0', '0', '0', '0', '0', '1', '1', '1', '1', '0', '0', '1', '1', '1', '0', '1', '0', '1', '1', '1', '0', '0', '0', '0', '0', '1', '0', '1', '0', '0', '0', '0', '1', '0', '0', '1', '1', '0', '0', '1', '1', '1', '1', '1', '0', '0', '1', '0', '0', '0', '0', '0', '0', '0', '0', '1', '0', '0', '1', '1', '0', '0', '1', '0', '1', '0', '1', '0', '1', '1', '0', '0', '0', '0', '1', '0', '1', '1', '0', '1', '0', '0', '0', '0', '0', '0', '0', '0', '0', '0', '0', '0', '1', '0', '0', '1', '0', '0', '0', '1', '1', '0', '0', '1', '0', '0', '0', '0', '0', '0', '0', '0', '1', '0', '0', '1', '0', '1', '0', '0', '1', '0', '0', '1', '1', '1', '1', '1', '0', '1', '0', '1', '1', '0', '0', '0', '1', '0', '1', '1', '0', '0', '0', '0', '0', '0', '0', '0', '0', '1', '1', '0', '0', '1', '1', '1', '1', '1', '1', '1', '0', '0', '0', '0', '0', '0', '1', '1', '0', '1', '1', '0', '0', '1', '0', '1', '1', '0', '0', '0', '0', '1', '0', '0', '0', '0', '1', '0', '0', '0', '0', '1', '1', '0', '1', '0', '1', '1', '0', '0', '1', '0', '1', '0', '0', '1', '1', '0', '1', '0', '1', '1', '0', '0', '0', '0', '1', '1', '0', '0', '0', '1', '0', '0', '1', '0', '1', '0', '1', '0', '0', '0', '0', '0', '0', '0', '0', '0', '1', '0', '0', '1', '0', '0', '0', '1', '0', '0', '0', '1', '1', '1', '1', '0', '1', '0', '1', '1', '0', '0', '0', '0', '0', '0', '1', '0', '0', '1', '1', '0', '0', '1', '1', '0', '1', '0', '1', '0', '0', '1', '0', '0', '0', '1', '1', '0', '0', '0', '1', '0', '0', '1', '1', '0', '1', '0', '0', '1', '0', '1', '0', '1', '0', '1', '1', '0', '0', '0', '1', '0', '1', '0', '0', '1', '0', '0', '0', '0', '1', '1', '0', '0', '1', '0', '0', '1', '0', '0', '0', '0', '1', '0', '1', '0', '0', '0', '0', '0', '0', '0', '0', '0', '1', '1', '1', '0', '0', '1', '1', '0', '0', '0', '1', '0', '1', '0', '1', '0', '0', '0', '0', '1', '0', '0', '0', '1', '1', '0', '0', '1', '1', '0', '1', '1', '0', '0', '0', '0', '1', '0', '1', '1', '0', '0', '1', '0', '1', '1', '0', '1', '0', '0', '0', '0', '1', '0', '0', '1', '0', '0', '1', '0', '0', '0', '0', '0', '0', '1', '1', '1', '0', '0', '0', '1', '0', '1', '0', '0', '0', '0', '0', '1', '1', '0', '0', '1', '0', '1', '1', '1', '0', '0', '0', '0', '1', '1', '0', '1', '0', '1', '0', '1', '0', '0', '0', '0', '0', '0', '0', '0', '0', '0', '1', '0', '1', '0', '0', '0', '0', '1', '0', '0', '0', '1', '0', '0', '0', '0', '0', '0', '0', '1', '0', '1', '0', '0', '0', '0', '0', '0', '0', '0', '1', '0', '0', '0', '0', '0', '1', '0', '1', '1', '0', '0', '0', '0', '1', '0', '1', '1', '0', '1', '1', '1', '0', '1', '1', '0', '0', '0', '1', '0', '0', '0', '0', '0', '0', '0', '1', '0', '1', '1', '1', '1', '1', '0', '0', '1', '1', '0', '0', '0', '0', '0', '0', '1', '1', '0', '1', '1', '1', '0', '1', '1', '0', '1', '1', '1', '1', '0', '0', '1', '0', '0', '0', '1', '0', '0', '0', '0', '0', '1', '1', '0', '0', '1', '0', '1', '0', '1', '0', '1', '1', '1', '0', '0', '1', '0', '1', '1', '0', '0', '1', '0', '0', '0', '0', '1', '1', '0', '1', '0', '1', '1', '0', '0', '0', '0', '0', '1', '0', '0', '0', '0', '0']\n"
          ]
        }
      ],
      "source": [
        "print(sample5_labels)"
      ]
    },
    {
      "cell_type": "code",
      "execution_count": null,
      "metadata": {
        "id": "qXMRI_X_0BgF"
      },
      "outputs": [],
      "source": [
        "X = all_images_stack.astype('float32') / 255.0 - 0.5\n",
        "\n",
        "def show_image(x):\n",
        "    plt.imshow(np.clip(x + 0.5, 0, 1))\n"
      ]
    },
    {
      "cell_type": "code",
      "execution_count": null,
      "metadata": {
        "id": "KL-6eEQ30BgF"
      },
      "outputs": [],
      "source": [
        "from sklearn.model_selection import train_test_split\n",
        "X_train,X_test, y_train, y_test = train_test_split(X,dummy_attributes, test_size=0.1, random_state=42)"
      ]
    },
    {
      "cell_type": "code",
      "source": [
        "# Plotting image augmentation\n",
        "img1 = SLX_train[11]\n",
        "augmentation = tf.keras.Sequential([layers.experimental.preprocessing.RandomFlip(\"horizontal_and_vertical\"),layers.experimental.preprocessing.RandomRotation(0.2)])\n",
        "img2 = augmentation(img1)\n",
        "images = [img1, img2]\n",
        "\n",
        "fig = plt.figure(figsize=(8, 8))\n",
        "columns = 3\n",
        "rows = 3\n",
        "ii = 1\n",
        "fig.add_subplot(rows, columns, 1)\n",
        "plt.imshow(np.clip(img1 + 0.5, 0, 1))\n",
        "plt.title('Original')\n",
        "plt.axis('off')\n",
        "fig.add_subplot(rows, columns, 2)\n",
        "plt.imshow(np.rot90(np.clip(img2 + 0.5, 0, 1)).tolist())\n",
        "plt.title('Augmented')\n",
        "plt.axis('off')\n",
        "plt.show()"
      ],
      "metadata": {
        "id": "gLgAOOKmKX6g",
        "outputId": "8ce9d958-4b4a-4400-f30d-bc02c29ac250",
        "colab": {
          "base_uri": "https://localhost:8080/",
          "height": 175
        }
      },
      "execution_count": null,
      "outputs": [
        {
          "output_type": "display_data",
          "data": {
            "text/plain": [
              "<Figure size 576x576 with 2 Axes>"
            ],
            "image/png": "[encoded data removed]"
          },
          "metadata": {
            "needs_background": "light"
          }
        }
      ]
    },
    {
      "cell_type": "code",
      "execution_count": null,
      "metadata": {
        "colab": {
          "base_uri": "https://localhost:8080/",
          "height": 742
        },
        "id": "KhCIUqMJ0BgI",
        "outputId": "e6819012-56b0-492e-de5f-4f535b419410"
      },
      "outputs": [
        {
          "output_type": "display_data",
          "data": {
            "text/plain": [
              "<Figure size 432x288 with 3 Axes>"
            ],
            "image/png": "[encoded data removed]"
          },
          "metadata": {
            "needs_background": "light"
          }
        },
        {
          "output_type": "display_data",
          "data": {
            "text/plain": [
              "<Figure size 432x288 with 3 Axes>"
            ],
            "image/png": "[encoded data removed]"
          },
          "metadata": {
            "needs_background": "light"
          }
        },
        {
          "output_type": "display_data",
          "data": {
            "text/plain": [
              "<Figure size 432x288 with 3 Axes>"
            ],
            "image/png": "[encoded data removed]"
          },
          "metadata": {
            "needs_background": "light"
          }
        },
        {
          "output_type": "display_data",
          "data": {
            "text/plain": [
              "<Figure size 432x288 with 3 Axes>"
            ],
            "image/png": "[encoded data removed]"
          },
          "metadata": {
            "needs_background": "light"
          }
        },
        {
          "output_type": "display_data",
          "data": {
            "text/plain": [
              "<Figure size 432x288 with 3 Axes>"
            ],
            "image/png": "[encoded data removed]"
          },
          "metadata": {
            "needs_background": "light"
          }
        }
      ],
      "source": [
        "def show_image(x):\n",
        "    plt.imshow(np.clip(x + 0.5, 0, 1))\n",
        "\n",
        "def visualize(img,encoder,decoder):\n",
        "    \n",
        "    code = encoder.predict(img[None])[0]\n",
        "    reco = decoder.predict(code[None])[0]\n",
        "\n",
        "    plt.subplot(1,3,1)\n",
        "    plt.title(\"Original\")\n",
        "    show_image(img)\n",
        "\n",
        "    plt.subplot(1,3,2)\n",
        "    plt.title(\"Code\")\n",
        "    plt.imshow(code.reshape([code.shape[-1]//2,-1]))\n",
        "\n",
        "    plt.subplot(1,3,3)\n",
        "    plt.title(\"Reconstructed\")\n",
        "    show_image(reco)\n",
        "    plt.show()\n",
        "\n",
        "for i in range(5):\n",
        "    img = SLX_train[2*i+16]\n",
        "    visualize(img,encoderC,decoderC)\n",
        "\n",
        "# REF plotting function: https://stackabuse.com/autoencoders-for-image-reconstruction-in-python-and-keras/\n",
        "# \n",
        "# Author: Ali Abdelaal\n"
      ]
    },
    {
      "cell_type": "code",
      "source": [
        "AX_train,AX_test, Ay_train, Ay_test = train_test_split(np.array(augmented_images),dummy_attributes, test_size=0.1, random_state=42)"
      ],
      "metadata": {
        "id": "ydymC4owg3nt"
      },
      "execution_count": null,
      "outputs": []
    },
    {
      "cell_type": "code",
      "source": [
        "all_X_train = np.concatenate((X_train, AX_train))\n",
        "all_y_train = np.concatenate((y_train, Ay_train))\n",
        "all_X_test = np.concatenate((X_test, AX_test))\n",
        "all_y_test = np.concatenate((y_test, Ay_test))\n",
        "print(len(all_X_train))"
      ],
      "metadata": {
        "colab": {
          "base_uri": "https://localhost:8080/"
        },
        "id": "S_b1r1G1kVWL",
        "outputId": "df7b5648-e0d6-46a3-90b5-30b498642f2d"
      },
      "execution_count": null,
      "outputs": [
        {
          "output_type": "stream",
          "name": "stdout",
          "text": [
            "43300\n"
          ]
        }
      ]
    },
    {
      "cell_type": "code",
      "execution_count": null,
      "metadata": {
        "id": "cXQCMZ6V0BgG"
      },
      "outputs": [],
      "source": [
        "#Basic AE\n",
        "def basic_autoencoder(img_shape, code_size):\n",
        "\n",
        "    encoder = Sequential()\n",
        "    encoder.add(InputLayer(img_shape))\n",
        "    encoder.add(Flatten())\n",
        "    encoder.add(Dense(code_size,activation='relu'))\n",
        "    decoder = Sequential()\n",
        "    decoder.add(InputLayer((code_size,)))\n",
        "    decoder.add(Dense(np.prod(img_shape),activation='sigmoid'))\n",
        "    decoder.add(Reshape(img_shape))\n",
        "    # Split model into encoder and decoder \n",
        "    return encoder, decoder"
      ]
    },
    {
      "cell_type": "code",
      "source": [
        "# define image size for encoder\n",
        "x = X_SL.shape[1:]"
      ],
      "metadata": {
        "id": "m_bpZJH41H8k"
      },
      "execution_count": null,
      "outputs": []
    },
    {
      "cell_type": "code",
      "execution_count": null,
      "metadata": {
        "colab": {
          "base_uri": "https://localhost:8080/"
        },
        "id": "WxFE4mM60BgG",
        "outputId": "e2165153-9f83-418b-8403-a0950d55995f"
      },
      "outputs": [
        {
          "output_type": "stream",
          "name": "stdout",
          "text": [
            "Model: \"model_15\"\n",
            "_________________________________________________________________\n",
            " Layer (type)                Output Shape              Param #   \n",
            "=================================================================\n",
            " input_22 (InputLayer)       [(None, 32, 32, 3)]       0         \n",
            "                                                                 \n",
            " sequential_33 (Sequential)  (None, 25)                76825     \n",
            "                                                                 \n",
            " sequential_34 (Sequential)  (None, 32, 32, 3)         79872     \n",
            "                                                                 \n",
            "=================================================================\n",
            "Total params: 156,697\n",
            "Trainable params: 156,697\n",
            "Non-trainable params: 0\n",
            "_________________________________________________________________\n",
            "None\n"
          ]
        }
      ],
      "source": [
        "encoder, decoder = basic_autoencoder(x, 25)\n",
        "\n",
        "inp = Input(x)\n",
        "code = encoder(inp)\n",
        "reconstruction = decoder(code)\n",
        "\n",
        "autoencoder = Model(inp,reconstruction)\n",
        "opt = tf.keras.optimizers.Adam(0.001)\n",
        "autoencoder.compile(optimizer=opt, loss='mse', metrics=['accuracy', tf.keras.metrics.AUC()])\n",
        "\n",
        "print(autoencoder.summary())"
      ]
    },
    {
      "cell_type": "code",
      "execution_count": null,
      "metadata": {
        "colab": {
          "base_uri": "https://localhost:8080/"
        },
        "id": "-TregYka0BgH",
        "outputId": "a9a21537-12cf-46d3-d6b3-26230d415c9d"
      },
      "outputs": [
        {
          "output_type": "stream",
          "name": "stdout",
          "text": [
            "Epoch 1/25\n",
            "219/219 [==============================] - 19s 19ms/step - loss: 0.0534 - accuracy: 0.5247 - auc_3: 0.0000e+00 - val_loss: 0.0372 - val_accuracy: 0.5880 - val_auc_3: 0.0000e+00\n",
            "Epoch 2/25\n",
            "219/219 [==============================] - 5s 21ms/step - loss: 0.0405 - accuracy: 0.6351 - auc_3: 0.0000e+00 - val_loss: 0.0351 - val_accuracy: 0.7159 - val_auc_3: 0.0000e+00\n",
            "Epoch 3/25\n",
            "219/219 [==============================] - 4s 18ms/step - loss: 0.0386 - accuracy: 0.7396 - auc_3: 0.0000e+00 - val_loss: 0.0340 - val_accuracy: 0.7535 - val_auc_3: 0.0000e+00\n",
            "Epoch 4/25\n",
            "219/219 [==============================] - 4s 17ms/step - loss: 0.0377 - accuracy: 0.7474 - auc_3: 0.0000e+00 - val_loss: 0.0335 - val_accuracy: 0.7554 - val_auc_3: 0.0000e+00\n",
            "Epoch 5/25\n",
            "219/219 [==============================] - 4s 17ms/step - loss: 0.0369 - accuracy: 0.7447 - auc_3: 0.0000e+00 - val_loss: 0.0327 - val_accuracy: 0.7507 - val_auc_3: 0.0000e+00\n",
            "Epoch 6/25\n",
            "219/219 [==============================] - 4s 17ms/step - loss: 0.0361 - accuracy: 0.7465 - auc_3: 0.0000e+00 - val_loss: 0.0319 - val_accuracy: 0.7533 - val_auc_3: 0.0000e+00\n",
            "Epoch 7/25\n",
            "219/219 [==============================] - 4s 17ms/step - loss: 0.0355 - accuracy: 0.7468 - auc_3: 0.0000e+00 - val_loss: 0.0315 - val_accuracy: 0.7482 - val_auc_3: 0.0000e+00\n",
            "Epoch 8/25\n",
            "219/219 [==============================] - 4s 17ms/step - loss: 0.0351 - accuracy: 0.7487 - auc_3: 0.0000e+00 - val_loss: 0.0313 - val_accuracy: 0.7481 - val_auc_3: 0.0000e+00\n",
            "Epoch 9/25\n",
            "219/219 [==============================] - 4s 18ms/step - loss: 0.0347 - accuracy: 0.7484 - auc_3: 0.0000e+00 - val_loss: 0.0309 - val_accuracy: 0.7556 - val_auc_3: 0.0000e+00\n",
            "Epoch 10/25\n",
            "219/219 [==============================] - 4s 17ms/step - loss: 0.0344 - accuracy: 0.7485 - auc_3: 0.0000e+00 - val_loss: 0.0307 - val_accuracy: 0.7467 - val_auc_3: 0.0000e+00\n",
            "Epoch 11/25\n",
            "219/219 [==============================] - 4s 17ms/step - loss: 0.0342 - accuracy: 0.7490 - auc_3: 0.0000e+00 - val_loss: 0.0306 - val_accuracy: 0.7479 - val_auc_3: 0.0000e+00\n",
            "Epoch 12/25\n",
            "219/219 [==============================] - 4s 18ms/step - loss: 0.0341 - accuracy: 0.7482 - auc_3: 0.0000e+00 - val_loss: 0.0305 - val_accuracy: 0.7444 - val_auc_3: 0.0000e+00\n",
            "Epoch 13/25\n",
            "219/219 [==============================] - 4s 17ms/step - loss: 0.0340 - accuracy: 0.7488 - auc_3: 0.0000e+00 - val_loss: 0.0303 - val_accuracy: 0.7539 - val_auc_3: 0.0000e+00\n",
            "Epoch 14/25\n",
            "219/219 [==============================] - 4s 17ms/step - loss: 0.0338 - accuracy: 0.7476 - auc_3: 0.0000e+00 - val_loss: 0.0303 - val_accuracy: 0.7504 - val_auc_3: 0.0000e+00\n",
            "Epoch 15/25\n",
            "219/219 [==============================] - 4s 17ms/step - loss: 0.0338 - accuracy: 0.7477 - auc_3: 0.0000e+00 - val_loss: 0.0302 - val_accuracy: 0.7546 - val_auc_3: 0.0000e+00\n",
            "Epoch 16/25\n",
            "219/219 [==============================] - 4s 17ms/step - loss: 0.0337 - accuracy: 0.7466 - auc_3: 0.0000e+00 - val_loss: 0.0302 - val_accuracy: 0.7481 - val_auc_3: 0.0000e+00\n",
            "Epoch 17/25\n",
            "219/219 [==============================] - 4s 17ms/step - loss: 0.0336 - accuracy: 0.7480 - auc_3: 0.0000e+00 - val_loss: 0.0302 - val_accuracy: 0.7515 - val_auc_3: 0.0000e+00\n",
            "Epoch 18/25\n",
            "219/219 [==============================] - 4s 17ms/step - loss: 0.0336 - accuracy: 0.7478 - auc_3: 0.0000e+00 - val_loss: 0.0301 - val_accuracy: 0.7507 - val_auc_3: 0.0000e+00\n",
            "Epoch 19/25\n",
            "219/219 [==============================] - 4s 17ms/step - loss: 0.0335 - accuracy: 0.7483 - auc_3: 0.0000e+00 - val_loss: 0.0301 - val_accuracy: 0.7528 - val_auc_3: 0.0000e+00\n",
            "Epoch 20/25\n",
            "219/219 [==============================] - 4s 17ms/step - loss: 0.0335 - accuracy: 0.7489 - auc_3: 0.0000e+00 - val_loss: 0.0300 - val_accuracy: 0.7535 - val_auc_3: 0.0000e+00\n",
            "Epoch 21/25\n",
            "219/219 [==============================] - 4s 17ms/step - loss: 0.0335 - accuracy: 0.7492 - auc_3: 0.0000e+00 - val_loss: 0.0300 - val_accuracy: 0.7522 - val_auc_3: 0.0000e+00\n",
            "Epoch 22/25\n",
            "219/219 [==============================] - 4s 17ms/step - loss: 0.0334 - accuracy: 0.7481 - auc_3: 0.0000e+00 - val_loss: 0.0300 - val_accuracy: 0.7441 - val_auc_3: 0.0000e+00\n",
            "Epoch 23/25\n",
            "219/219 [==============================] - 4s 17ms/step - loss: 0.0334 - accuracy: 0.7486 - auc_3: 0.0000e+00 - val_loss: 0.0299 - val_accuracy: 0.7523 - val_auc_3: 0.0000e+00\n",
            "Epoch 24/25\n",
            "219/219 [==============================] - 6s 25ms/step - loss: 0.0333 - accuracy: 0.7500 - auc_3: 0.0000e+00 - val_loss: 0.0302 - val_accuracy: 0.7452 - val_auc_3: 0.0000e+00\n",
            "Epoch 25/25\n",
            "219/219 [==============================] - 4s 17ms/step - loss: 0.0334 - accuracy: 0.7486 - auc_3: 0.0000e+00 - val_loss: 0.0300 - val_accuracy: 0.7515 - val_auc_3: 0.0000e+00\n"
          ]
        }
      ],
      "source": [
        "history_Basic = autoencoder.fit(x=allSL_X_train[:7000], y=allSL_X_train[:7000], epochs=25, validation_data=[allSL_X_test[:7000], allSL_X_test[:7000]])"
      ]
    },
    {
      "cell_type": "code",
      "source": [
        "#save augementation history\n",
        "augment_basic = history_Basic"
      ],
      "metadata": {
        "id": "GL1bCw-BEA8H"
      },
      "execution_count": null,
      "outputs": []
    },
    {
      "cell_type": "code",
      "source": [
        "# Dense Codes Predictor\n",
        "def findCodes(X):\n",
        "    codes = []\n",
        "    s = 1\n",
        "    for i in X:\n",
        "        code = encoder.predict(i[None])[0]\n",
        "        #counter\n",
        "        s = s+1\n",
        "        print(s)\n",
        "        codes.append(code)\n",
        "    return codes\n",
        "    \n",
        "Basic_codes_train = findCodes(SLX_train)\n",
        "Basic_codes_test = findCodes(SLX_test)"
      ],
      "metadata": {
        "id": "JYOVmd4g2lSv"
      },
      "execution_count": null,
      "outputs": []
    },
    {
      "cell_type": "code",
      "source": [
        "# Dense AE\n",
        "\n",
        "def build_autoencoderDen(img_shape, code_size):\n",
        "    encoder = Sequential()\n",
        "    encoder.add(Input(img_shape))\n",
        "    encoder.add(Flatten())\n",
        "    encoder.add(Dense(512, activation='relu'))\n",
        "    encoder.add(BatchNormalization(axis=1, momentum=0.99,epsilon=0.001,))\n",
        "    encoder.add(Dropout(0.1))\n",
        "    encoder.add(Dense(256, activation='relu'))\n",
        "    encoder.add(BatchNormalization(axis=1, momentum=0.99,epsilon=0.001,))\n",
        "    encoder.add(Dropout(0.2))\n",
        "    encoder.add(Dense(128, activation='relu'))\n",
        "    encoder.add(Dense(code_size, activation='relu'))\n",
        "\n",
        "    decoder = Sequential()\n",
        "    decoder.add(Dense(128, activation='relu'))\n",
        "    decoder.add(Dropout(0.1))\n",
        "    decoder.add(Dense(256, activation='relu'))\n",
        "    decoder.add(BatchNormalization(axis=1, momentum=0.99,epsilon=0.001,))\n",
        "    decoder.add(Dropout(0.2))\n",
        "    decoder.add(Dense(512, activation='relu'))\n",
        "    decoder.add(BatchNormalization(axis=1, momentum=0.99,epsilon=0.001,))\n",
        "    decoder.add(Dense(np.prod(img_shape),activation='sigmoid'))\n",
        "    decoder.add(Reshape(img_shape))\n",
        "\n",
        "\n",
        "    return encoder, decoder"
      ],
      "metadata": {
        "id": "uemWN06TZG1y"
      },
      "execution_count": null,
      "outputs": []
    },
    {
      "cell_type": "code",
      "source": [
        "encoderDen, decoderDen = build_autoencoderDen(x, 25)\n",
        "\n",
        "inp = Input(x)\n",
        "code = encoderDen(inp)\n",
        "reconstruction = decoderDen(code)\n",
        "\n",
        "autoencoderDen = Model(inp,reconstruction)\n",
        "opt = tf.keras.optimizers.Adam(0.001)\n",
        "autoencoderDen.compile(optimizer=opt, loss='mse', metrics=['accuracy'])\n",
        "\n",
        "print(autoencoderDen.summary())"
      ],
      "metadata": {
        "colab": {
          "base_uri": "https://localhost:8080/"
        },
        "id": "03vprQ7JZM3W",
        "outputId": "1c185114-d2c7-4bbe-89c0-4763d1fcefe6"
      },
      "execution_count": null,
      "outputs": [
        {
          "output_type": "stream",
          "name": "stdout",
          "text": [
            "Model: \"model\"\n",
            "_________________________________________________________________\n",
            " Layer (type)                Output Shape              Param #   \n",
            "=================================================================\n",
            " input_2 (InputLayer)        [(None, 32, 32, 3)]       0         \n",
            "                                                                 \n",
            " sequential_2 (Sequential)   (None, 25)                1743897   \n",
            "                                                                 \n",
            " sequential_3 (Sequential)   (None, 32, 32, 3)         1746944   \n",
            "                                                                 \n",
            "=================================================================\n",
            "Total params: 3,490,841\n",
            "Trainable params: 3,487,769\n",
            "Non-trainable params: 3,072\n",
            "_________________________________________________________________\n",
            "None\n"
          ]
        }
      ]
    },
    {
      "cell_type": "code",
      "source": [
        "history_Dense = autoencoderDen.fit(x=all_X_train, y=all_X_train, epochs=25, validation_data=[all_X_test, all_X_test])"
      ],
      "metadata": {
        "colab": {
          "base_uri": "https://localhost:8080/"
        },
        "id": "6iP_Y8YIe4Gw",
        "outputId": "3cfd9de9-18fa-4b25-eadf-f2649550a6c6"
      },
      "execution_count": null,
      "outputs": [
        {
          "output_type": "stream",
          "name": "stdout",
          "text": [
            "Epoch 1/25\n",
            "1354/1354 [==============================] - 69s 49ms/step - loss: 0.0417 - accuracy: 0.6899 - auc: 0.0000e+00 - val_loss: 0.0327 - val_accuracy: 0.7381 - val_auc: 0.0000e+00\n",
            "Epoch 2/25\n",
            "1354/1354 [==============================] - 64s 47ms/step - loss: 0.0333 - accuracy: 0.7304 - auc: 0.0000e+00 - val_loss: 0.0321 - val_accuracy: 0.7449 - val_auc: 0.0000e+00\n",
            "Epoch 3/25\n",
            "1354/1354 [==============================] - 63s 47ms/step - loss: 0.0329 - accuracy: 0.7346 - auc: 0.0000e+00 - val_loss: 0.0323 - val_accuracy: 0.7461 - val_auc: 0.0000e+00\n",
            "Epoch 4/25\n",
            "1354/1354 [==============================] - 63s 47ms/step - loss: 0.0324 - accuracy: 0.7377 - auc: 0.0000e+00 - val_loss: 0.0318 - val_accuracy: 0.7424 - val_auc: 0.0000e+00\n",
            "Epoch 5/25\n",
            "1354/1354 [==============================] - 64s 47ms/step - loss: 0.0322 - accuracy: 0.7414 - auc: 0.0000e+00 - val_loss: 0.0316 - val_accuracy: 0.7589 - val_auc: 0.0000e+00\n",
            "Epoch 6/25\n",
            "1354/1354 [==============================] - 64s 47ms/step - loss: 0.0321 - accuracy: 0.7387 - auc: 0.0000e+00 - val_loss: 0.0314 - val_accuracy: 0.7544 - val_auc: 0.0000e+00\n",
            "Epoch 7/25\n",
            "1354/1354 [==============================] - 63s 46ms/step - loss: 0.0319 - accuracy: 0.7386 - auc: 0.0000e+00 - val_loss: 0.0311 - val_accuracy: 0.7595 - val_auc: 0.0000e+00\n",
            "Epoch 8/25\n",
            "1354/1354 [==============================] - 66s 49ms/step - loss: 0.0317 - accuracy: 0.7425 - auc: 0.0000e+00 - val_loss: 0.0314 - val_accuracy: 0.7404 - val_auc: 0.0000e+00\n",
            "Epoch 9/25\n",
            "1354/1354 [==============================] - 64s 47ms/step - loss: 0.0317 - accuracy: 0.7435 - auc: 0.0000e+00 - val_loss: 0.0312 - val_accuracy: 0.7579 - val_auc: 0.0000e+00\n",
            "Epoch 10/25\n",
            "1354/1354 [==============================] - 63s 47ms/step - loss: 0.0315 - accuracy: 0.7458 - auc: 0.0000e+00 - val_loss: 0.0310 - val_accuracy: 0.7609 - val_auc: 0.0000e+00\n",
            "Epoch 11/25\n",
            "1354/1354 [==============================] - 63s 47ms/step - loss: 0.0314 - accuracy: 0.7478 - auc: 0.0000e+00 - val_loss: 0.0308 - val_accuracy: 0.7612 - val_auc: 0.0000e+00\n",
            "Epoch 12/25\n",
            "1354/1354 [==============================] - 64s 47ms/step - loss: 0.0314 - accuracy: 0.7475 - auc: 0.0000e+00 - val_loss: 0.0308 - val_accuracy: 0.7634 - val_auc: 0.0000e+00\n",
            "Epoch 13/25\n",
            "1354/1354 [==============================] - 64s 47ms/step - loss: 0.0313 - accuracy: 0.7473 - auc: 0.0000e+00 - val_loss: 0.0305 - val_accuracy: 0.7726 - val_auc: 0.0000e+00\n",
            "Epoch 14/25\n",
            "1354/1354 [==============================] - 66s 49ms/step - loss: 0.0312 - accuracy: 0.7505 - auc: 0.0000e+00 - val_loss: 0.0306 - val_accuracy: 0.7581 - val_auc: 0.0000e+00\n",
            "Epoch 15/25\n",
            "1354/1354 [==============================] - 64s 48ms/step - loss: 0.0311 - accuracy: 0.7512 - auc: 0.0000e+00 - val_loss: 0.0306 - val_accuracy: 0.7734 - val_auc: 0.0000e+00\n",
            "Epoch 16/25\n",
            "1354/1354 [==============================] - 64s 47ms/step - loss: 0.0310 - accuracy: 0.7534 - auc: 0.0000e+00 - val_loss: 0.0305 - val_accuracy: 0.7815 - val_auc: 0.0000e+00\n",
            "Epoch 17/25\n",
            "1354/1354 [==============================] - 64s 47ms/step - loss: 0.0311 - accuracy: 0.7518 - auc: 0.0000e+00 - val_loss: 0.0307 - val_accuracy: 0.7659 - val_auc: 0.0000e+00\n",
            "Epoch 18/25\n",
            "1354/1354 [==============================] - 66s 49ms/step - loss: 0.0309 - accuracy: 0.7536 - auc: 0.0000e+00 - val_loss: 0.0304 - val_accuracy: 0.7781 - val_auc: 0.0000e+00\n",
            "Epoch 19/25\n",
            "1354/1354 [==============================] - 65s 48ms/step - loss: 0.0309 - accuracy: 0.7527 - auc: 0.0000e+00 - val_loss: 0.0303 - val_accuracy: 0.7674 - val_auc: 0.0000e+00\n",
            "Epoch 20/25\n",
            "1354/1354 [==============================] - 64s 47ms/step - loss: 0.0309 - accuracy: 0.7530 - auc: 0.0000e+00 - val_loss: 0.0304 - val_accuracy: 0.7795 - val_auc: 0.0000e+00\n",
            "Epoch 21/25\n",
            "1354/1354 [==============================] - 64s 47ms/step - loss: 0.0310 - accuracy: 0.7500 - auc: 0.0000e+00 - val_loss: 0.0305 - val_accuracy: 0.7600 - val_auc: 0.0000e+00\n",
            "Epoch 22/25\n",
            "1354/1354 [==============================] - 64s 47ms/step - loss: 0.0309 - accuracy: 0.7499 - auc: 0.0000e+00 - val_loss: 0.0305 - val_accuracy: 0.7641 - val_auc: 0.0000e+00\n",
            "Epoch 23/25\n",
            "1354/1354 [==============================] - 64s 47ms/step - loss: 0.0308 - accuracy: 0.7497 - auc: 0.0000e+00 - val_loss: 0.0304 - val_accuracy: 0.7635 - val_auc: 0.0000e+00\n",
            "Epoch 24/25\n",
            "1354/1354 [==============================] - 64s 47ms/step - loss: 0.0308 - accuracy: 0.7485 - auc: 0.0000e+00 - val_loss: 0.0302 - val_accuracy: 0.7750 - val_auc: 0.0000e+00\n",
            "Epoch 25/25\n",
            "1354/1354 [==============================] - 64s 47ms/step - loss: 0.0308 - accuracy: 0.7508 - auc: 0.0000e+00 - val_loss: 0.0301 - val_accuracy: 0.7723 - val_auc: 0.0000e+00\n"
          ]
        }
      ]
    },
    {
      "cell_type": "code",
      "source": [
        "# Dense Codes Predictor\n",
        "def findCodes(X):\n",
        "    codes = []\n",
        "    s = 1\n",
        "    for i in X:\n",
        "        code = encoderDen.predict(i[None])[0]\n",
        "        s = s+1\n",
        "        print(s)\n",
        "        codes.append(code)\n",
        "    return codes\n",
        "    \n",
        "Den_codes_train = findCodes(SLX_train)\n",
        "Den_codes_test = findCodes(SLX_test)\n"
      ],
      "metadata": {
        "id": "cR0_8ma4BJQQ"
      },
      "execution_count": null,
      "outputs": []
    },
    {
      "cell_type": "code",
      "source": [
        "# Dense Codes Predictor\n",
        "def findCodes(X):\n",
        "    codes = []\n",
        "    s = 1\n",
        "    for i in X:\n",
        "        code = encoderS.predict(i[None])[0]\n",
        "        s = s+1\n",
        "        print(s)\n",
        "        codes.append(code)\n",
        "    return codes\n",
        "    \n",
        "Sparse_codes_train = findCodes(SLX_train)\n",
        "Sparse_codes_test = findCodes(SLX_test)\n",
        "\n",
        "np.save(r'/content/drive/MyDrive/SparseTrain',Sparse_codes_train)\n",
        "np.save(r'/content/drive/MyDrive/SparseTest',Sparse_codes_test)"
      ],
      "metadata": {
        "id": "HP2KLk8Bnp9R"
      },
      "execution_count": null,
      "outputs": []
    },
    {
      "cell_type": "code",
      "source": [
        "\n",
        "np.save(r'/content/drive/MyDrive/DenseTrain',Den_codes_train)\n",
        "np.save(r'/content/drive/MyDrive/DenseTest',Den_codes_test)"
      ],
      "metadata": {
        "id": "5zUBOsHqgxiT"
      },
      "execution_count": null,
      "outputs": []
    },
    {
      "cell_type": "code",
      "source": [
        "np.save(r'/content/drive/MyDrive/BasicTrain',Basic_codes_train)\n",
        "np.save(r'/content/drive/MyDrive/BasicTest',Basic_codes_test)"
      ],
      "metadata": {
        "id": "sH17KfHi-wf_"
      },
      "execution_count": null,
      "outputs": []
    },
    {
      "cell_type": "code",
      "execution_count": null,
      "metadata": {
        "id": "QLWTTruXtWnZ"
      },
      "outputs": [],
      "source": [
        "from keras.layers import Dense,Conv2D,MaxPooling2D,UpSampling2D,BatchNormalization,Dropout\n",
        "from keras import Input, Model\n",
        "from keras.datasets import mnist\n",
        "import numpy as np\n",
        "import matplotlib.pyplot as plt \n",
        "\n",
        "def build_autoencoder_Conv(img_shape, code_size):\n",
        "\n",
        "  # The encoder\n",
        "  encoder = Sequential()\n",
        "  encoder.add(Conv2D(32, 3, activation= 'relu', padding='same', input_shape = (32,32,3)))\n",
        "  encoder.add(MaxPooling2D(2, padding= 'same'))\n",
        "  encoder.add(Conv2D(16, 3, activation= 'relu', padding='same'))\n",
        "  encoder.add(Conv2D(16, 3, activation= 'relu', padding='same'))\n",
        "  encoder.add(Conv2D(16, 3, activation= 'relu', padding='same'))\n",
        "  #encoder.add(BatchNormalization(axis=1, momentum=0.99,epsilon=0.001,))\n",
        "  #encoder.add(Dropout(0.25))\n",
        "  encoder.add(MaxPooling2D(2, padding= 'same')) \n",
        "  encoder.add(Conv2D(8, 3, activation= 'relu', padding='same'))\n",
        "  encoder.add(MaxPooling2D(2, padding= 'same')) \n",
        "\n",
        "  # The decoder\n",
        "  decoder = Sequential()\n",
        "  decoder.add(Conv2D(8, 3, activation= 'relu', padding='same'))\n",
        "  decoder.add(UpSampling2D(2))\n",
        "  #decoder.add(Conv2D(16, 3, activation= 'relu', padding='same'))\n",
        "  #decoder.add(Conv2D(16, 3, activation= 'relu', padding='same'))\n",
        "  decoder.add(Conv2D(16, 3, activation= 'relu', padding='same'))\n",
        "  #decoder.add(BatchNormalization(axis=1, momentum=0.99,epsilon=0.001,))\n",
        "  #decoder.add(Dropout(0.25))\n",
        "  decoder.add(UpSampling2D(2))\n",
        "  decoder.add(Conv2D(32, 3, activation= 'relu', padding='same'))\n",
        "  #decoder.add(Conv2D(32, 3, activation= 'relu', padding='same'))\n",
        "  #decoder.add(Conv2D(32, 3, activation= 'relu', padding='same'))\n",
        "  decoder.add(UpSampling2D(2))\n",
        "  decoder.add(Conv2D(3,3,activation='sigmoid', padding= 'same')) \n",
        "  decoder.add(Reshape(img_shape))\n",
        "\n",
        "  return encoder, decoder\n"
      ]
    },
    {
      "cell_type": "code",
      "execution_count": null,
      "metadata": {
        "colab": {
          "base_uri": "https://localhost:8080/"
        },
        "id": "5zbEeXyPh0tm",
        "outputId": "e39065b0-52f1-4531-f0d5-b233d22465d6"
      },
      "outputs": [
        {
          "output_type": "stream",
          "name": "stdout",
          "text": [
            "Model: \"model_13\"\n",
            "_________________________________________________________________\n",
            " Layer (type)                Output Shape              Param #   \n",
            "=================================================================\n",
            " input_16 (InputLayer)       [(None, 32, 32, 3)]       0         \n",
            "                                                                 \n",
            " sequential_29 (Sequential)  (None, 4, 4, 8)           29816     \n",
            "                                                                 \n",
            " sequential_30 (Sequential)  (None, 32, 32, 3)         30395     \n",
            "                                                                 \n",
            "=================================================================\n",
            "Total params: 60,211\n",
            "Trainable params: 60,211\n",
            "Non-trainable params: 0\n",
            "_________________________________________________________________\n",
            "None\n"
          ]
        }
      ],
      "source": [
        "encoderC, decoderC = build_autoencoder_Conv(x, 20)\n",
        "\n",
        "inp = Input(x)\n",
        "code = encoderC(inp)\n",
        "reconstruction = decoderC(code)\n",
        "\n",
        "autoencoderC = Model(inp,reconstruction)\n",
        "opt = tf.keras.optimizers.Adam(0.001)\n",
        "autoencoderC.compile(optimizer=opt, loss='mse', metrics=['accuracy'])\n",
        "\n",
        "print(autoencoderC.summary())"
      ]
    },
    {
      "cell_type": "code",
      "execution_count": null,
      "metadata": {
        "colab": {
          "base_uri": "https://localhost:8080/",
          "height": 497
        },
        "id": "TvwlhTBUzIeG",
        "outputId": "44d6ec90-30b8-4844-d882-a7c6374ae634"
      },
      "outputs": [
        {
          "output_type": "stream",
          "name": "stdout",
          "text": [
            "Epoch 1/5\n",
            "623/623 [==============================] - 256s 407ms/step - loss: 0.0841 - accuracy: 0.3979 - val_loss: 0.0843 - val_accuracy: 0.3959\n",
            "Epoch 2/5\n",
            "623/623 [==============================] - 250s 401ms/step - loss: 0.0831 - accuracy: 0.3976 - val_loss: 0.0843 - val_accuracy: 0.3959\n",
            "Epoch 3/5\n",
            "623/623 [==============================] - 254s 407ms/step - loss: 0.0831 - accuracy: 0.3976 - val_loss: 0.0843 - val_accuracy: 0.3959\n",
            "Epoch 4/5\n",
            "623/623 [==============================] - 252s 405ms/step - loss: 0.0831 - accuracy: 0.3976 - val_loss: 0.0843 - val_accuracy: 0.3959\n",
            "Epoch 5/5\n",
            "117/623 [====>.........................] - ETA: 3:14 - loss: 0.0833 - accuracy: 0.3982"
          ]
        },
        {
          "output_type": "error",
          "ename": "KeyboardInterrupt",
          "evalue": "ignored",
          "traceback": [
            "\u001b[0;31m---------------------------------------------------------------------------\u001b[0m",
            "\u001b[0;31mKeyboardInterrupt\u001b[0m                         Traceback (most recent call last)",
            "\u001b[0;32m<ipython-input-154-932054de29c3>\u001b[0m in \u001b[0;36m<module>\u001b[0;34m()\u001b[0m\n\u001b[0;32m----> 1\u001b[0;31m \u001b[0mhistory_Dense\u001b[0m \u001b[0;34m=\u001b[0m \u001b[0mautoencoderC\u001b[0m\u001b[0;34m.\u001b[0m\u001b[0mfit\u001b[0m\u001b[0;34m(\u001b[0m\u001b[0mx\u001b[0m\u001b[0;34m=\u001b[0m\u001b[0mallSL_X_train\u001b[0m\u001b[0;34m,\u001b[0m \u001b[0my\u001b[0m\u001b[0;34m=\u001b[0m\u001b[0mallSL_X_train\u001b[0m\u001b[0;34m,\u001b[0m \u001b[0mepochs\u001b[0m\u001b[0;34m=\u001b[0m\u001b[0;36m5\u001b[0m\u001b[0;34m,\u001b[0m \u001b[0mvalidation_data\u001b[0m\u001b[0;34m=\u001b[0m\u001b[0;34m[\u001b[0m\u001b[0mallSL_X_test\u001b[0m\u001b[0;34m,\u001b[0m \u001b[0mallSL_X_test\u001b[0m\u001b[0;34m]\u001b[0m\u001b[0;34m)\u001b[0m\u001b[0;34m\u001b[0m\u001b[0;34m\u001b[0m\u001b[0m\n\u001b[0m",
            "\u001b[0;32m/usr/local/lib/python3.7/dist-packages/keras/utils/traceback_utils.py\u001b[0m in \u001b[0;36merror_handler\u001b[0;34m(*args, **kwargs)\u001b[0m\n\u001b[1;32m     62\u001b[0m     \u001b[0mfiltered_tb\u001b[0m \u001b[0;34m=\u001b[0m \u001b[0;32mNone\u001b[0m\u001b[0;34m\u001b[0m\u001b[0;34m\u001b[0m\u001b[0m\n\u001b[1;32m     63\u001b[0m     \u001b[0;32mtry\u001b[0m\u001b[0;34m:\u001b[0m\u001b[0;34m\u001b[0m\u001b[0;34m\u001b[0m\u001b[0m\n\u001b[0;32m---> 64\u001b[0;31m       \u001b[0;32mreturn\u001b[0m \u001b[0mfn\u001b[0m\u001b[0;34m(\u001b[0m\u001b[0;34m*\u001b[0m\u001b[0margs\u001b[0m\u001b[0;34m,\u001b[0m \u001b[0;34m**\u001b[0m\u001b[0mkwargs\u001b[0m\u001b[0;34m)\u001b[0m\u001b[0;34m\u001b[0m\u001b[0;34m\u001b[0m\u001b[0m\n\u001b[0m\u001b[1;32m     65\u001b[0m     \u001b[0;32mexcept\u001b[0m \u001b[0mException\u001b[0m \u001b[0;32mas\u001b[0m \u001b[0me\u001b[0m\u001b[0;34m:\u001b[0m  \u001b[0;31m# pylint: disable=broad-except\u001b[0m\u001b[0;34m\u001b[0m\u001b[0;34m\u001b[0m\u001b[0m\n\u001b[1;32m     66\u001b[0m       \u001b[0mfiltered_tb\u001b[0m \u001b[0;34m=\u001b[0m \u001b[0m_process_traceback_frames\u001b[0m\u001b[0;34m(\u001b[0m\u001b[0me\u001b[0m\u001b[0;34m.\u001b[0m\u001b[0m__traceback__\u001b[0m\u001b[0;34m)\u001b[0m\u001b[0;34m\u001b[0m\u001b[0;34m\u001b[0m\u001b[0m\n",
            "\u001b[0;32m/usr/local/lib/python3.7/dist-packages/keras/engine/training.py\u001b[0m in \u001b[0;36mfit\u001b[0;34m(self, x, y, batch_size, epochs, verbose, callbacks, validation_split, validation_data, shuffle, class_weight, sample_weight, initial_epoch, steps_per_epoch, validation_steps, validation_batch_size, validation_freq, max_queue_size, workers, use_multiprocessing)\u001b[0m\n\u001b[1;32m   1382\u001b[0m                 _r=1):\n\u001b[1;32m   1383\u001b[0m               \u001b[0mcallbacks\u001b[0m\u001b[0;34m.\u001b[0m\u001b[0mon_train_batch_begin\u001b[0m\u001b[0;34m(\u001b[0m\u001b[0mstep\u001b[0m\u001b[0;34m)\u001b[0m\u001b[0;34m\u001b[0m\u001b[0;34m\u001b[0m\u001b[0m\n\u001b[0;32m-> 1384\u001b[0;31m               \u001b[0mtmp_logs\u001b[0m \u001b[0;34m=\u001b[0m \u001b[0mself\u001b[0m\u001b[0;34m.\u001b[0m\u001b[0mtrain_function\u001b[0m\u001b[0;34m(\u001b[0m\u001b[0miterator\u001b[0m\u001b[0;34m)\u001b[0m\u001b[0;34m\u001b[0m\u001b[0;34m\u001b[0m\u001b[0m\n\u001b[0m\u001b[1;32m   1385\u001b[0m               \u001b[0;32mif\u001b[0m \u001b[0mdata_handler\u001b[0m\u001b[0;34m.\u001b[0m\u001b[0mshould_sync\u001b[0m\u001b[0;34m:\u001b[0m\u001b[0;34m\u001b[0m\u001b[0;34m\u001b[0m\u001b[0m\n\u001b[1;32m   1386\u001b[0m                 \u001b[0mcontext\u001b[0m\u001b[0;34m.\u001b[0m\u001b[0masync_wait\u001b[0m\u001b[0;34m(\u001b[0m\u001b[0;34m)\u001b[0m\u001b[0;34m\u001b[0m\u001b[0;34m\u001b[0m\u001b[0m\n",
            "\u001b[0;32m/usr/local/lib/python3.7/dist-packages/tensorflow/python/util/traceback_utils.py\u001b[0m in \u001b[0;36merror_handler\u001b[0;34m(*args, **kwargs)\u001b[0m\n\u001b[1;32m    148\u001b[0m     \u001b[0mfiltered_tb\u001b[0m \u001b[0;34m=\u001b[0m \u001b[0;32mNone\u001b[0m\u001b[0;34m\u001b[0m\u001b[0;34m\u001b[0m\u001b[0m\n\u001b[1;32m    149\u001b[0m     \u001b[0;32mtry\u001b[0m\u001b[0;34m:\u001b[0m\u001b[0;34m\u001b[0m\u001b[0;34m\u001b[0m\u001b[0m\n\u001b[0;32m--> 150\u001b[0;31m       \u001b[0;32mreturn\u001b[0m \u001b[0mfn\u001b[0m\u001b[0;34m(\u001b[0m\u001b[0;34m*\u001b[0m\u001b[0margs\u001b[0m\u001b[0;34m,\u001b[0m \u001b[0;34m**\u001b[0m\u001b[0mkwargs\u001b[0m\u001b[0;34m)\u001b[0m\u001b[0;34m\u001b[0m\u001b[0;34m\u001b[0m\u001b[0m\n\u001b[0m\u001b[1;32m    151\u001b[0m     \u001b[0;32mexcept\u001b[0m \u001b[0mException\u001b[0m \u001b[0;32mas\u001b[0m \u001b[0me\u001b[0m\u001b[0;34m:\u001b[0m\u001b[0;34m\u001b[0m\u001b[0;34m\u001b[0m\u001b[0m\n\u001b[1;32m    152\u001b[0m       \u001b[0mfiltered_tb\u001b[0m \u001b[0;34m=\u001b[0m \u001b[0m_process_traceback_frames\u001b[0m\u001b[0;34m(\u001b[0m\u001b[0me\u001b[0m\u001b[0;34m.\u001b[0m\u001b[0m__traceback__\u001b[0m\u001b[0;34m)\u001b[0m\u001b[0;34m\u001b[0m\u001b[0;34m\u001b[0m\u001b[0m\n",
            "\u001b[0;32m/usr/local/lib/python3.7/dist-packages/tensorflow/python/eager/def_function.py\u001b[0m in \u001b[0;36m__call__\u001b[0;34m(self, *args, **kwds)\u001b[0m\n\u001b[1;32m    913\u001b[0m \u001b[0;34m\u001b[0m\u001b[0m\n\u001b[1;32m    914\u001b[0m       \u001b[0;32mwith\u001b[0m \u001b[0mOptionalXlaContext\u001b[0m\u001b[0;34m(\u001b[0m\u001b[0mself\u001b[0m\u001b[0;34m.\u001b[0m\u001b[0m_jit_compile\u001b[0m\u001b[0;34m)\u001b[0m\u001b[0;34m:\u001b[0m\u001b[0;34m\u001b[0m\u001b[0;34m\u001b[0m\u001b[0m\n\u001b[0;32m--> 915\u001b[0;31m         \u001b[0mresult\u001b[0m \u001b[0;34m=\u001b[0m \u001b[0mself\u001b[0m\u001b[0;34m.\u001b[0m\u001b[0m_call\u001b[0m\u001b[0;34m(\u001b[0m\u001b[0;34m*\u001b[0m\u001b[0margs\u001b[0m\u001b[0;34m,\u001b[0m \u001b[0;34m**\u001b[0m\u001b[0mkwds\u001b[0m\u001b[0;34m)\u001b[0m\u001b[0;34m\u001b[0m\u001b[0;34m\u001b[0m\u001b[0m\n\u001b[0m\u001b[1;32m    916\u001b[0m \u001b[0;34m\u001b[0m\u001b[0m\n\u001b[1;32m    917\u001b[0m       \u001b[0mnew_tracing_count\u001b[0m \u001b[0;34m=\u001b[0m \u001b[0mself\u001b[0m\u001b[0;34m.\u001b[0m\u001b[0mexperimental_get_tracing_count\u001b[0m\u001b[0;34m(\u001b[0m\u001b[0;34m)\u001b[0m\u001b[0;34m\u001b[0m\u001b[0;34m\u001b[0m\u001b[0m\n",
            "\u001b[0;32m/usr/local/lib/python3.7/dist-packages/tensorflow/python/eager/def_function.py\u001b[0m in \u001b[0;36m_call\u001b[0;34m(self, *args, **kwds)\u001b[0m\n\u001b[1;32m    945\u001b[0m       \u001b[0;31m# In this case we have created variables on the first call, so we run the\u001b[0m\u001b[0;34m\u001b[0m\u001b[0;34m\u001b[0m\u001b[0;34m\u001b[0m\u001b[0m\n\u001b[1;32m    946\u001b[0m       \u001b[0;31m# defunned version which is guaranteed to never create variables.\u001b[0m\u001b[0;34m\u001b[0m\u001b[0;34m\u001b[0m\u001b[0;34m\u001b[0m\u001b[0m\n\u001b[0;32m--> 947\u001b[0;31m       \u001b[0;32mreturn\u001b[0m \u001b[0mself\u001b[0m\u001b[0;34m.\u001b[0m\u001b[0m_stateless_fn\u001b[0m\u001b[0;34m(\u001b[0m\u001b[0;34m*\u001b[0m\u001b[0margs\u001b[0m\u001b[0;34m,\u001b[0m \u001b[0;34m**\u001b[0m\u001b[0mkwds\u001b[0m\u001b[0;34m)\u001b[0m  \u001b[0;31m# pylint: disable=not-callable\u001b[0m\u001b[0;34m\u001b[0m\u001b[0;34m\u001b[0m\u001b[0m\n\u001b[0m\u001b[1;32m    948\u001b[0m     \u001b[0;32melif\u001b[0m \u001b[0mself\u001b[0m\u001b[0;34m.\u001b[0m\u001b[0m_stateful_fn\u001b[0m \u001b[0;32mis\u001b[0m \u001b[0;32mnot\u001b[0m \u001b[0;32mNone\u001b[0m\u001b[0;34m:\u001b[0m\u001b[0;34m\u001b[0m\u001b[0;34m\u001b[0m\u001b[0m\n\u001b[1;32m    949\u001b[0m       \u001b[0;31m# Release the lock early so that multiple threads can perform the call\u001b[0m\u001b[0;34m\u001b[0m\u001b[0;34m\u001b[0m\u001b[0;34m\u001b[0m\u001b[0m\n",
            "\u001b[0;32m/usr/local/lib/python3.7/dist-packages/tensorflow/python/eager/function.py\u001b[0m in \u001b[0;36m__call__\u001b[0;34m(self, *args, **kwargs)\u001b[0m\n\u001b[1;32m   2955\u001b[0m        filtered_flat_args) = self._maybe_define_function(args, kwargs)\n\u001b[1;32m   2956\u001b[0m     return graph_function._call_flat(\n\u001b[0;32m-> 2957\u001b[0;31m         filtered_flat_args, captured_inputs=graph_function.captured_inputs)  # pylint: disable=protected-access\n\u001b[0m\u001b[1;32m   2958\u001b[0m \u001b[0;34m\u001b[0m\u001b[0m\n\u001b[1;32m   2959\u001b[0m   \u001b[0;34m@\u001b[0m\u001b[0mproperty\u001b[0m\u001b[0;34m\u001b[0m\u001b[0;34m\u001b[0m\u001b[0m\n",
            "\u001b[0;32m/usr/local/lib/python3.7/dist-packages/tensorflow/python/eager/function.py\u001b[0m in \u001b[0;36m_call_flat\u001b[0;34m(self, args, captured_inputs, cancellation_manager)\u001b[0m\n\u001b[1;32m   1852\u001b[0m       \u001b[0;31m# No tape is watching; skip to running the function.\u001b[0m\u001b[0;34m\u001b[0m\u001b[0;34m\u001b[0m\u001b[0;34m\u001b[0m\u001b[0m\n\u001b[1;32m   1853\u001b[0m       return self._build_call_outputs(self._inference_function.call(\n\u001b[0;32m-> 1854\u001b[0;31m           ctx, args, cancellation_manager=cancellation_manager))\n\u001b[0m\u001b[1;32m   1855\u001b[0m     forward_backward = self._select_forward_and_backward_functions(\n\u001b[1;32m   1856\u001b[0m         \u001b[0margs\u001b[0m\u001b[0;34m,\u001b[0m\u001b[0;34m\u001b[0m\u001b[0;34m\u001b[0m\u001b[0m\n",
            "\u001b[0;32m/usr/local/lib/python3.7/dist-packages/tensorflow/python/eager/function.py\u001b[0m in \u001b[0;36mcall\u001b[0;34m(self, ctx, args, cancellation_manager)\u001b[0m\n\u001b[1;32m    502\u001b[0m               \u001b[0minputs\u001b[0m\u001b[0;34m=\u001b[0m\u001b[0margs\u001b[0m\u001b[0;34m,\u001b[0m\u001b[0;34m\u001b[0m\u001b[0;34m\u001b[0m\u001b[0m\n\u001b[1;32m    503\u001b[0m               \u001b[0mattrs\u001b[0m\u001b[0;34m=\u001b[0m\u001b[0mattrs\u001b[0m\u001b[0;34m,\u001b[0m\u001b[0;34m\u001b[0m\u001b[0;34m\u001b[0m\u001b[0m\n\u001b[0;32m--> 504\u001b[0;31m               ctx=ctx)\n\u001b[0m\u001b[1;32m    505\u001b[0m         \u001b[0;32melse\u001b[0m\u001b[0;34m:\u001b[0m\u001b[0;34m\u001b[0m\u001b[0;34m\u001b[0m\u001b[0m\n\u001b[1;32m    506\u001b[0m           outputs = execute.execute_with_cancellation(\n",
            "\u001b[0;32m/usr/local/lib/python3.7/dist-packages/tensorflow/python/eager/execute.py\u001b[0m in \u001b[0;36mquick_execute\u001b[0;34m(op_name, num_outputs, inputs, attrs, ctx, name)\u001b[0m\n\u001b[1;32m     53\u001b[0m     \u001b[0mctx\u001b[0m\u001b[0;34m.\u001b[0m\u001b[0mensure_initialized\u001b[0m\u001b[0;34m(\u001b[0m\u001b[0;34m)\u001b[0m\u001b[0;34m\u001b[0m\u001b[0;34m\u001b[0m\u001b[0m\n\u001b[1;32m     54\u001b[0m     tensors = pywrap_tfe.TFE_Py_Execute(ctx._handle, device_name, op_name,\n\u001b[0;32m---> 55\u001b[0;31m                                         inputs, attrs, num_outputs)\n\u001b[0m\u001b[1;32m     56\u001b[0m   \u001b[0;32mexcept\u001b[0m \u001b[0mcore\u001b[0m\u001b[0;34m.\u001b[0m\u001b[0m_NotOkStatusException\u001b[0m \u001b[0;32mas\u001b[0m \u001b[0me\u001b[0m\u001b[0;34m:\u001b[0m\u001b[0;34m\u001b[0m\u001b[0;34m\u001b[0m\u001b[0m\n\u001b[1;32m     57\u001b[0m     \u001b[0;32mif\u001b[0m \u001b[0mname\u001b[0m \u001b[0;32mis\u001b[0m \u001b[0;32mnot\u001b[0m \u001b[0;32mNone\u001b[0m\u001b[0;34m:\u001b[0m\u001b[0;34m\u001b[0m\u001b[0;34m\u001b[0m\u001b[0m\n",
            "\u001b[0;31mKeyboardInterrupt\u001b[0m: "
          ]
        }
      ],
      "source": [
        "history_Dense = autoencoderC.fit(x=allSL_X_train, y=allSL_X_train, epochs=5, validation_data=[allSL_X_test, allSL_X_test])"
      ]
    },
    {
      "cell_type": "code",
      "source": [
        "# Dense Codes Predictor\n",
        "def findCodes(X):\n",
        "    codes = []\n",
        "    s = 1\n",
        "    for i in X:\n",
        "        code = encoderC.predict(i[None])[0]\n",
        "        s = s+1\n",
        "        print(s)\n",
        "        codes.append(code)\n",
        "    return codes\n",
        "    \n",
        "Conv_codes_train = findCodes(SLX_train)\n",
        "Conv_codes_test = findCodes(SLX_test)\n",
        "\n",
        "np.save(r'/content/drive/MyDrive/ConvTrain',Conv_codes_train)\n",
        "np.save(r'/content/drive/MyDrive/ConvTest',Conv_codes_test)"
      ],
      "metadata": {
        "id": "TbmyQiX3cS3r"
      },
      "execution_count": null,
      "outputs": []
    },
    {
      "cell_type": "code",
      "execution_count": null,
      "metadata": {
        "id": "e-iSwUA8l4wr"
      },
      "outputs": [],
      "source": [
        "# Sparse Autoencoder\n",
        "def build_autoencoder_S(img_shape, code_size):\n",
        "\n",
        "      # The encoder\n",
        "    encoder = Sequential()\n",
        "    encoder.add(InputLayer(img_shape))\n",
        "    encoder.add(Flatten())\n",
        "    encoder.add(Dense(128,activation='relu',activity_regularizer=regularizers.l1(10e-5)))\n",
        "    encoder.add(BatchNormalization(axis=1, momentum=0.99,epsilon=0.001,))\n",
        "    encoder.add(Dropout(0.25))\n",
        "    encoder.add(Dense(code_size,activation='relu',activity_regularizer=regularizers.l1(10e-5)))\n",
        "\n",
        "    # The decoder\n",
        "    decoder = Sequential()\n",
        "    decoder.add(InputLayer((code_size,)))\n",
        "    decoder.add(Dense(np.prod(img_shape),activation='sigmoid'))\n",
        "    decoder.add(Reshape(img_shape))\n",
        "\n",
        "    return encoder, decoder\n"
      ]
    },
    {
      "cell_type": "code",
      "execution_count": null,
      "metadata": {
        "colab": {
          "base_uri": "https://localhost:8080/",
          "height": 240
        },
        "id": "sQ7erF7DnKf4",
        "outputId": "292a84f5-93e5-4a85-89df-34e3093d7bc8"
      },
      "outputs": [
        {
          "output_type": "error",
          "ename": "NameError",
          "evalue": "ignored",
          "traceback": [
            "\u001b[0;31m---------------------------------------------------------------------------\u001b[0m",
            "\u001b[0;31mNameError\u001b[0m                                 Traceback (most recent call last)",
            "\u001b[0;32m<ipython-input-147-718eb88c2720>\u001b[0m in \u001b[0;36m<module>\u001b[0;34m()\u001b[0m\n\u001b[1;32m      1\u001b[0m \u001b[0;31m# Same as (32,32,3), we neglect the number of instances from shape\u001b[0m\u001b[0;34m\u001b[0m\u001b[0;34m\u001b[0m\u001b[0;34m\u001b[0m\u001b[0m\n\u001b[0;32m----> 2\u001b[0;31m \u001b[0mIMG_SHAPE\u001b[0m \u001b[0;34m=\u001b[0m \u001b[0mX\u001b[0m\u001b[0;34m.\u001b[0m\u001b[0mshape\u001b[0m\u001b[0;34m[\u001b[0m\u001b[0;36m1\u001b[0m\u001b[0;34m:\u001b[0m\u001b[0;34m]\u001b[0m\u001b[0;34m\u001b[0m\u001b[0;34m\u001b[0m\u001b[0m\n\u001b[0m\u001b[1;32m      3\u001b[0m \u001b[0mencoderS\u001b[0m\u001b[0;34m,\u001b[0m \u001b[0mdecoderS\u001b[0m \u001b[0;34m=\u001b[0m \u001b[0mbuild_autoencoder_S\u001b[0m\u001b[0;34m(\u001b[0m\u001b[0mIMG_SHAPE\u001b[0m\u001b[0;34m,\u001b[0m \u001b[0;36m20\u001b[0m\u001b[0;34m)\u001b[0m\u001b[0;34m\u001b[0m\u001b[0;34m\u001b[0m\u001b[0m\n\u001b[1;32m      4\u001b[0m \u001b[0;34m\u001b[0m\u001b[0m\n\u001b[1;32m      5\u001b[0m \u001b[0minp\u001b[0m \u001b[0;34m=\u001b[0m \u001b[0mInput\u001b[0m\u001b[0;34m(\u001b[0m\u001b[0mIMG_SHAPE\u001b[0m\u001b[0;34m)\u001b[0m\u001b[0;34m\u001b[0m\u001b[0;34m\u001b[0m\u001b[0m\n",
            "\u001b[0;31mNameError\u001b[0m: name 'X' is not defined"
          ]
        }
      ],
      "source": [
        "encoderS, decoderS = build_autoencoder_S(x, 20)\n",
        "\n",
        "inp = Input(x)\n",
        "code = encoderS(inp)\n",
        "reconstruction = decoderS(code)\n",
        "\n",
        "autoencoderS = Model(inp,reconstruction)\n",
        "opt = tf.keras.optimizers.Adam(0.0001)\n",
        "autoencoderS.compile(optimizer=opt, loss='mse', metrics=['accuracy', tf.keras.metrics.AUC()])\n",
        "\n",
        "print(autoencoderS.summary())"
      ]
    },
    {
      "cell_type": "code",
      "execution_count": null,
      "metadata": {
        "colab": {
          "base_uri": "https://localhost:8080/"
        },
        "id": "dg_OxRpouZtO",
        "outputId": "57da09c6-cfea-48cf-ff59-1e5b52632f3d"
      },
      "outputs": [
        {
          "output_type": "stream",
          "name": "stdout",
          "text": [
            "Epoch 1/25\n",
            "339/339 [==============================] - 17s 39ms/step - loss: 0.0505 - accuracy: 0.6406 - auc_1: 0.0000e+00 - val_loss: 0.0389 - val_accuracy: 0.7370 - val_auc_1: 0.0000e+00\n",
            "Epoch 2/25\n",
            "339/339 [==============================] - 13s 37ms/step - loss: 0.0379 - accuracy: 0.7562 - auc_1: 0.0000e+00 - val_loss: 0.0425 - val_accuracy: 0.7475 - val_auc_1: 0.0000e+00\n",
            "Epoch 3/25\n",
            "339/339 [==============================] - 13s 37ms/step - loss: 0.0363 - accuracy: 0.7645 - auc_1: 0.0000e+00 - val_loss: 0.0364 - val_accuracy: 0.7562 - val_auc_1: 0.0000e+00\n",
            "Epoch 4/25\n",
            "339/339 [==============================] - 13s 37ms/step - loss: 0.0355 - accuracy: 0.7621 - auc_1: 0.0000e+00 - val_loss: 0.0354 - val_accuracy: 0.7604 - val_auc_1: 0.0000e+00\n",
            "Epoch 5/25\n",
            "339/339 [==============================] - 13s 38ms/step - loss: 0.0350 - accuracy: 0.7604 - auc_1: 0.0000e+00 - val_loss: 0.0352 - val_accuracy: 0.7506 - val_auc_1: 0.0000e+00\n",
            "Epoch 6/25\n",
            "339/339 [==============================] - 13s 38ms/step - loss: 0.0347 - accuracy: 0.7593 - auc_1: 0.0000e+00 - val_loss: 0.0385 - val_accuracy: 0.7141 - val_auc_1: 0.0000e+00\n",
            "Epoch 7/25\n",
            "339/339 [==============================] - 13s 37ms/step - loss: 0.0343 - accuracy: 0.7579 - auc_1: 0.0000e+00 - val_loss: 0.0349 - val_accuracy: 0.7519 - val_auc_1: 0.0000e+00\n",
            "Epoch 8/25\n",
            "339/339 [==============================] - 13s 39ms/step - loss: 0.0342 - accuracy: 0.7549 - auc_1: 0.0000e+00 - val_loss: 0.0354 - val_accuracy: 0.7256 - val_auc_1: 0.0000e+00\n",
            "Epoch 9/25\n",
            "339/339 [==============================] - 13s 37ms/step - loss: 0.0340 - accuracy: 0.7528 - auc_1: 0.0000e+00 - val_loss: 0.0352 - val_accuracy: 0.7499 - val_auc_1: 0.0000e+00\n",
            "Epoch 10/25\n",
            "339/339 [==============================] - 13s 38ms/step - loss: 0.0337 - accuracy: 0.7526 - auc_1: 0.0000e+00 - val_loss: 0.0338 - val_accuracy: 0.7473 - val_auc_1: 0.0000e+00\n",
            "Epoch 11/25\n",
            "339/339 [==============================] - 13s 37ms/step - loss: 0.0336 - accuracy: 0.7515 - auc_1: 0.0000e+00 - val_loss: 0.0342 - val_accuracy: 0.7383 - val_auc_1: 0.0000e+00\n",
            "Epoch 12/25\n",
            "339/339 [==============================] - 13s 37ms/step - loss: 0.0335 - accuracy: 0.7519 - auc_1: 0.0000e+00 - val_loss: 0.0344 - val_accuracy: 0.7379 - val_auc_1: 0.0000e+00\n",
            "Epoch 13/25\n",
            "339/339 [==============================] - 13s 37ms/step - loss: 0.0336 - accuracy: 0.7513 - auc_1: 0.0000e+00 - val_loss: 0.0342 - val_accuracy: 0.7308 - val_auc_1: 0.0000e+00\n",
            "Epoch 14/25\n",
            "339/339 [==============================] - 12s 37ms/step - loss: 0.0334 - accuracy: 0.7525 - auc_1: 0.0000e+00 - val_loss: 0.0336 - val_accuracy: 0.7460 - val_auc_1: 0.0000e+00\n",
            "Epoch 15/25\n",
            "339/339 [==============================] - 14s 42ms/step - loss: 0.0333 - accuracy: 0.7522 - auc_1: 0.0000e+00 - val_loss: 0.0338 - val_accuracy: 0.7537 - val_auc_1: 0.0000e+00\n",
            "Epoch 16/25\n",
            "339/339 [==============================] - 13s 39ms/step - loss: 0.0332 - accuracy: 0.7519 - auc_1: 0.0000e+00 - val_loss: 0.0337 - val_accuracy: 0.7469 - val_auc_1: 0.0000e+00\n",
            "Epoch 17/25\n",
            "339/339 [==============================] - 13s 37ms/step - loss: 0.0331 - accuracy: 0.7518 - auc_1: 0.0000e+00 - val_loss: 0.0347 - val_accuracy: 0.7413 - val_auc_1: 0.0000e+00\n",
            "Epoch 18/25\n",
            "339/339 [==============================] - 13s 38ms/step - loss: 0.0331 - accuracy: 0.7518 - auc_1: 0.0000e+00 - val_loss: 0.0332 - val_accuracy: 0.7467 - val_auc_1: 0.0000e+00\n",
            "Epoch 19/25\n",
            "339/339 [==============================] - 13s 37ms/step - loss: 0.0331 - accuracy: 0.7511 - auc_1: 0.0000e+00 - val_loss: 0.0338 - val_accuracy: 0.7487 - val_auc_1: 0.0000e+00\n",
            "Epoch 20/25\n",
            "339/339 [==============================] - 13s 37ms/step - loss: 0.0330 - accuracy: 0.7518 - auc_1: 0.0000e+00 - val_loss: 0.0332 - val_accuracy: 0.7475 - val_auc_1: 0.0000e+00\n",
            "Epoch 21/25\n",
            "339/339 [==============================] - 13s 37ms/step - loss: 0.0328 - accuracy: 0.7525 - auc_1: 0.0000e+00 - val_loss: 0.0336 - val_accuracy: 0.7503 - val_auc_1: 0.0000e+00\n",
            "Epoch 22/25\n",
            "339/339 [==============================] - 13s 37ms/step - loss: 0.0328 - accuracy: 0.7517 - auc_1: 0.0000e+00 - val_loss: 0.0332 - val_accuracy: 0.7485 - val_auc_1: 0.0000e+00\n",
            "Epoch 23/25\n",
            "339/339 [==============================] - 13s 37ms/step - loss: 0.0328 - accuracy: 0.7519 - auc_1: 0.0000e+00 - val_loss: 0.0334 - val_accuracy: 0.7407 - val_auc_1: 0.0000e+00\n",
            "Epoch 24/25\n",
            "339/339 [==============================] - 13s 40ms/step - loss: 0.0327 - accuracy: 0.7524 - auc_1: 0.0000e+00 - val_loss: 0.0331 - val_accuracy: 0.7435 - val_auc_1: 0.0000e+00\n",
            "Epoch 25/25\n",
            "339/339 [==============================] - 13s 38ms/step - loss: 0.0327 - accuracy: 0.7526 - auc_1: 0.0000e+00 - val_loss: 0.0348 - val_accuracy: 0.7268 - val_auc_1: 0.0000e+00\n"
          ]
        }
      ],
      "source": [
        "history_Sparse = autoencoderS.fit(all_X_train, all_X_train,\n",
        "                 epochs=25,\n",
        "                 batch_size=128,\n",
        "                 validation_data=(all_X_test, all_X_test)) "
      ]
    },
    {
      "cell_type": "code",
      "execution_count": null,
      "metadata": {
        "colab": {
          "base_uri": "https://localhost:8080/"
        },
        "id": "zkrmaYFHqVhi",
        "outputId": "3c384204-0c3a-467e-ca51-f91082aaa6fc"
      },
      "outputs": [
        {
          "output_type": "stream",
          "name": "stdout",
          "text": [
            "Epoch 1/40\n",
            "85/85 [==============================] - 3s 18ms/step - loss: 0.0847 - accuracy: 0.4636 - auc_3: 0.0000e+00 - val_loss: 0.0531 - val_accuracy: 0.5536 - val_auc_3: 0.0000e+00\n",
            "Epoch 2/40\n",
            "85/85 [==============================] - 1s 9ms/step - loss: 0.0497 - accuracy: 0.5362 - auc_3: 0.0000e+00 - val_loss: 0.0475 - val_accuracy: 0.5501 - val_auc_3: 0.0000e+00\n",
            "Epoch 3/40\n",
            "85/85 [==============================] - 1s 9ms/step - loss: 0.0457 - accuracy: 0.5619 - auc_3: 0.0000e+00 - val_loss: 0.0446 - val_accuracy: 0.5799 - val_auc_3: 0.0000e+00\n",
            "Epoch 4/40\n",
            "85/85 [==============================] - 1s 9ms/step - loss: 0.0435 - accuracy: 0.5888 - auc_3: 0.0000e+00 - val_loss: 0.0432 - val_accuracy: 0.6322 - val_auc_3: 0.0000e+00\n",
            "Epoch 5/40\n",
            "85/85 [==============================] - 1s 9ms/step - loss: 0.0424 - accuracy: 0.6787 - auc_3: 0.0000e+00 - val_loss: 0.0423 - val_accuracy: 0.7298 - val_auc_3: 0.0000e+00\n",
            "Epoch 6/40\n",
            "85/85 [==============================] - 1s 9ms/step - loss: 0.0412 - accuracy: 0.7478 - auc_3: 0.0000e+00 - val_loss: 0.0412 - val_accuracy: 0.7520 - val_auc_3: 0.0000e+00\n",
            "Epoch 7/40\n",
            "85/85 [==============================] - 1s 8ms/step - loss: 0.0406 - accuracy: 0.7607 - auc_3: 0.0000e+00 - val_loss: 0.0409 - val_accuracy: 0.7534 - val_auc_3: 0.0000e+00\n",
            "Epoch 8/40\n",
            "85/85 [==============================] - 1s 8ms/step - loss: 0.0402 - accuracy: 0.7616 - auc_3: 0.0000e+00 - val_loss: 0.0405 - val_accuracy: 0.7554 - val_auc_3: 0.0000e+00\n",
            "Epoch 9/40\n",
            "85/85 [==============================] - 1s 8ms/step - loss: 0.0398 - accuracy: 0.7638 - auc_3: 0.0000e+00 - val_loss: 0.0401 - val_accuracy: 0.7560 - val_auc_3: 0.0000e+00\n",
            "Epoch 10/40\n",
            "85/85 [==============================] - 1s 9ms/step - loss: 0.0396 - accuracy: 0.7628 - auc_3: 0.0000e+00 - val_loss: 0.0400 - val_accuracy: 0.7547 - val_auc_3: 0.0000e+00\n",
            "Epoch 11/40\n",
            "85/85 [==============================] - 1s 9ms/step - loss: 0.0394 - accuracy: 0.7628 - auc_3: 0.0000e+00 - val_loss: 0.0397 - val_accuracy: 0.7528 - val_auc_3: 0.0000e+00\n",
            "Epoch 12/40\n",
            "85/85 [==============================] - 1s 9ms/step - loss: 0.0392 - accuracy: 0.7582 - auc_3: 0.0000e+00 - val_loss: 0.0396 - val_accuracy: 0.7514 - val_auc_3: 0.0000e+00\n",
            "Epoch 13/40\n",
            "85/85 [==============================] - 1s 9ms/step - loss: 0.0390 - accuracy: 0.7591 - auc_3: 0.0000e+00 - val_loss: 0.0395 - val_accuracy: 0.7511 - val_auc_3: 0.0000e+00\n",
            "Epoch 14/40\n",
            "85/85 [==============================] - 1s 9ms/step - loss: 0.0389 - accuracy: 0.7603 - auc_3: 0.0000e+00 - val_loss: 0.0393 - val_accuracy: 0.7548 - val_auc_3: 0.0000e+00\n",
            "Epoch 15/40\n",
            "85/85 [==============================] - 1s 9ms/step - loss: 0.0388 - accuracy: 0.7598 - auc_3: 0.0000e+00 - val_loss: 0.0392 - val_accuracy: 0.7548 - val_auc_3: 0.0000e+00\n",
            "Epoch 16/40\n",
            "85/85 [==============================] - 1s 8ms/step - loss: 0.0386 - accuracy: 0.7609 - auc_3: 0.0000e+00 - val_loss: 0.0391 - val_accuracy: 0.7518 - val_auc_3: 0.0000e+00\n",
            "Epoch 17/40\n",
            "85/85 [==============================] - 1s 8ms/step - loss: 0.0385 - accuracy: 0.7608 - auc_3: 0.0000e+00 - val_loss: 0.0390 - val_accuracy: 0.7547 - val_auc_3: 0.0000e+00\n",
            "Epoch 18/40\n",
            "85/85 [==============================] - 1s 8ms/step - loss: 0.0385 - accuracy: 0.7573 - auc_3: 0.0000e+00 - val_loss: 0.0389 - val_accuracy: 0.7535 - val_auc_3: 0.0000e+00\n",
            "Epoch 19/40\n",
            "85/85 [==============================] - 1s 8ms/step - loss: 0.0383 - accuracy: 0.7583 - auc_3: 0.0000e+00 - val_loss: 0.0387 - val_accuracy: 0.7522 - val_auc_3: 0.0000e+00\n",
            "Epoch 20/40\n",
            "85/85 [==============================] - 1s 9ms/step - loss: 0.0382 - accuracy: 0.7578 - auc_3: 0.0000e+00 - val_loss: 0.0387 - val_accuracy: 0.7538 - val_auc_3: 0.0000e+00\n",
            "Epoch 21/40\n",
            "85/85 [==============================] - 1s 9ms/step - loss: 0.0381 - accuracy: 0.7581 - auc_3: 0.0000e+00 - val_loss: 0.0385 - val_accuracy: 0.7533 - val_auc_3: 0.0000e+00\n",
            "Epoch 22/40\n",
            "85/85 [==============================] - 1s 8ms/step - loss: 0.0380 - accuracy: 0.7578 - auc_3: 0.0000e+00 - val_loss: 0.0384 - val_accuracy: 0.7550 - val_auc_3: 0.0000e+00\n",
            "Epoch 23/40\n",
            "85/85 [==============================] - 1s 9ms/step - loss: 0.0379 - accuracy: 0.7571 - auc_3: 0.0000e+00 - val_loss: 0.0384 - val_accuracy: 0.7521 - val_auc_3: 0.0000e+00\n",
            "Epoch 24/40\n",
            "85/85 [==============================] - 1s 8ms/step - loss: 0.0378 - accuracy: 0.7563 - auc_3: 0.0000e+00 - val_loss: 0.0382 - val_accuracy: 0.7494 - val_auc_3: 0.0000e+00\n",
            "Epoch 25/40\n",
            "85/85 [==============================] - 1s 8ms/step - loss: 0.0377 - accuracy: 0.7552 - auc_3: 0.0000e+00 - val_loss: 0.0383 - val_accuracy: 0.7517 - val_auc_3: 0.0000e+00\n",
            "Epoch 26/40\n",
            "85/85 [==============================] - 1s 8ms/step - loss: 0.0377 - accuracy: 0.7531 - auc_3: 0.0000e+00 - val_loss: 0.0380 - val_accuracy: 0.7476 - val_auc_3: 0.0000e+00\n",
            "Epoch 27/40\n",
            "85/85 [==============================] - 1s 8ms/step - loss: 0.0375 - accuracy: 0.7531 - auc_3: 0.0000e+00 - val_loss: 0.0380 - val_accuracy: 0.7500 - val_auc_3: 0.0000e+00\n",
            "Epoch 28/40\n",
            "85/85 [==============================] - 1s 8ms/step - loss: 0.0374 - accuracy: 0.7539 - auc_3: 0.0000e+00 - val_loss: 0.0378 - val_accuracy: 0.7501 - val_auc_3: 0.0000e+00\n",
            "Epoch 29/40\n",
            "85/85 [==============================] - 1s 9ms/step - loss: 0.0374 - accuracy: 0.7557 - auc_3: 0.0000e+00 - val_loss: 0.0378 - val_accuracy: 0.7513 - val_auc_3: 0.0000e+00\n",
            "Epoch 30/40\n",
            "85/85 [==============================] - 1s 8ms/step - loss: 0.0373 - accuracy: 0.7552 - auc_3: 0.0000e+00 - val_loss: 0.0377 - val_accuracy: 0.7525 - val_auc_3: 0.0000e+00\n",
            "Epoch 31/40\n",
            "85/85 [==============================] - 1s 8ms/step - loss: 0.0372 - accuracy: 0.7562 - auc_3: 0.0000e+00 - val_loss: 0.0377 - val_accuracy: 0.7525 - val_auc_3: 0.0000e+00\n",
            "Epoch 32/40\n",
            "85/85 [==============================] - 1s 8ms/step - loss: 0.0372 - accuracy: 0.7572 - auc_3: 0.0000e+00 - val_loss: 0.0377 - val_accuracy: 0.7525 - val_auc_3: 0.0000e+00\n",
            "Epoch 33/40\n",
            "85/85 [==============================] - 1s 9ms/step - loss: 0.0372 - accuracy: 0.7559 - auc_3: 0.0000e+00 - val_loss: 0.0377 - val_accuracy: 0.7501 - val_auc_3: 0.0000e+00\n",
            "Epoch 34/40\n",
            "85/85 [==============================] - 1s 15ms/step - loss: 0.0372 - accuracy: 0.7561 - auc_3: 0.0000e+00 - val_loss: 0.0376 - val_accuracy: 0.7524 - val_auc_3: 0.0000e+00\n",
            "Epoch 35/40\n",
            "85/85 [==============================] - 1s 15ms/step - loss: 0.0371 - accuracy: 0.7567 - auc_3: 0.0000e+00 - val_loss: 0.0375 - val_accuracy: 0.7509 - val_auc_3: 0.0000e+00\n",
            "Epoch 36/40\n",
            "85/85 [==============================] - 1s 12ms/step - loss: 0.0371 - accuracy: 0.7564 - auc_3: 0.0000e+00 - val_loss: 0.0376 - val_accuracy: 0.7474 - val_auc_3: 0.0000e+00\n",
            "Epoch 37/40\n",
            "85/85 [==============================] - 1s 14ms/step - loss: 0.0371 - accuracy: 0.7556 - auc_3: 0.0000e+00 - val_loss: 0.0375 - val_accuracy: 0.7514 - val_auc_3: 0.0000e+00\n",
            "Epoch 38/40\n",
            "85/85 [==============================] - 1s 14ms/step - loss: 0.0371 - accuracy: 0.7552 - auc_3: 0.0000e+00 - val_loss: 0.0374 - val_accuracy: 0.7497 - val_auc_3: 0.0000e+00\n",
            "Epoch 39/40\n",
            "85/85 [==============================] - 1s 14ms/step - loss: 0.0370 - accuracy: 0.7556 - auc_3: 0.0000e+00 - val_loss: 0.0374 - val_accuracy: 0.7471 - val_auc_3: 0.0000e+00\n",
            "Epoch 40/40\n",
            "85/85 [==============================] - 1s 15ms/step - loss: 0.0370 - accuracy: 0.7536 - auc_3: 0.0000e+00 - val_loss: 0.0374 - val_accuracy: 0.7516 - val_auc_3: 0.0000e+00\n"
          ]
        }
      ],
      "source": [
        "history_S256 = autoencoderS.fit(X_train, X_train,\n",
        "                 epochs= 40,\n",
        "                 batch_size=256,\n",
        "                 validation_data=(X_test, X_test)) "
      ]
    },
    {
      "cell_type": "code",
      "execution_count": null,
      "metadata": {
        "colab": {
          "background_save": true
        },
        "id": "Zs-uw6AZ0BgH"
      },
      "outputs": [],
      "source": [
        "def findCodes(X):\n",
        "    codes = []\n",
        "    for i in X:\n",
        "        code = encoder.predict(i[None])[0]\n",
        "        codes.append(code)\n",
        "    return codes\n",
        "    \n",
        "codes_train = findCodes(X_train)\n",
        "codes_test = findCodes(X_test)"
      ]
    },
    {
      "cell_type": "code",
      "execution_count": null,
      "metadata": {
        "colab": {
          "base_uri": "https://localhost:8080/",
          "height": 295
        },
        "id": "oQYaOMwi0BgI",
        "outputId": "98a28659-ae31-41be-d894-9a247aed4215"
      },
      "outputs": [
        {
          "output_type": "display_data",
          "data": {
            "text/plain": [
              "<Figure size 432x288 with 1 Axes>"
            ],
            "image/png": "[encoded data removed]"
          },
          "metadata": {
            "needs_background": "light"
          }
        }
      ],
      "source": [
        "\n",
        "#plt.plot(history_Basic.history['accuracy'])\n",
        "plt.plot(history_Basic.history['val_accuracy'])\n",
        "#plt.plot(augment_basic.history['accuracy'])\n",
        "plt.plot(history_Aug)\n",
        "plt.title('Dense Autoencoder Test Accuracy')\n",
        "plt.ylabel('Accuracy\\%')\n",
        "plt.xlabel('epoch')\n",
        "plt.legend(['test_B', 'test_A',], loc='lower right')\n",
        "plt.show()"
      ]
    },
    {
      "cell_type": "code",
      "source": [
        "from sklearn.cluster import KMeans\n",
        "from sklearn.ensemble import RandomForestRegressor\n",
        "import matplotlib.pyplot as plt\n",
        "from sklearn.metrics import confusion_matrix\n",
        "from sklearn.metrics import classification_report, ConfusionMatrixDisplay\n",
        "from sklearn.metrics import confusion_matrix\n",
        "from sklearn.discriminant_analysis import LinearDiscriminantAnalysis\n",
        "from sklearn.discriminant_analysis import QuadraticDiscriminantAnalysis\n",
        "from sklearn.tree import DecisionTreeClassifier\n",
        "from sklearn import metrics \n",
        "from sklearn.model_selection import GridSearchCV\n",
        "from sklearn.neighbors import KNeighborsRegressor\n",
        "from sklearn.neighbors import KNeighborsClassifier\n"
      ],
      "metadata": {
        "id": "ab1ohNq41spb"
      },
      "execution_count": null,
      "outputs": []
    },
    {
      "cell_type": "code",
      "execution_count": null,
      "metadata": {
        "id": "u7njQ7JY0BgJ"
      },
      "outputs": [],
      "source": [
        "Den_train_save = Den_codes_train\n",
        "Den_test_save = Den_codes_test\n",
        "SLy_train, SLy_test"
      ]
    },
    {
      "cell_type": "code",
      "source": [
        "#Saving data features as secondary varibles \n",
        "y_train = SLy_train\n",
        "y_test = SLy_test\n",
        "codes_train = Conv_codes_train\n",
        "codes_test = Conv_codes_test"
      ],
      "metadata": {
        "id": "8RsPsFHHRSnY"
      },
      "execution_count": null,
      "outputs": []
    },
    {
      "cell_type": "code",
      "source": [
        "y_train = SLy_train\n",
        "y_test = SLy_test\n",
        "codes_train = Basic_codes_train\n",
        "codes_test = Basic_codes_test"
      ],
      "metadata": {
        "id": "hfwgeziR6gQW"
      },
      "execution_count": null,
      "outputs": []
    },
    {
      "cell_type": "code",
      "source": [
        "codes_train_array = np.array(Conv_codes_train)\n",
        "codes_test_array = np.array(Conv_codes_test)\n",
        "print(codes_test_array.shape)\n",
        "codes_train = codes_train_array.reshape(9964,128)\n",
        "codes_test = codes_test_array.reshape(2492,128)"
      ],
      "metadata": {
        "id": "DjwSc5nsiFd2",
        "outputId": "f5937e74-53a2-44b3-e261-220ab28a45f1",
        "colab": {
          "base_uri": "https://localhost:8080/"
        }
      },
      "execution_count": null,
      "outputs": [
        {
          "output_type": "stream",
          "name": "stdout",
          "text": [
            "(2492, 4, 4, 8)\n"
          ]
        }
      ]
    },
    {
      "cell_type": "code",
      "execution_count": null,
      "metadata": {
        "colab": {
          "base_uri": "https://localhost:8080/",
          "height": 1000
        },
        "id": "FFOhUzr40BgJ",
        "outputId": "05eccd9e-923c-4993-99cb-0325c997bfd0"
      },
      "outputs": [
        {
          "output_type": "stream",
          "name": "stdout",
          "text": [
            "Accuracy of LDA classifier on training set: 0.72\n",
            "Accuracy of LDA classifier on test set: 0.71\n"
          ]
        },
        {
          "output_type": "stream",
          "name": "stderr",
          "text": [
            "/usr/local/lib/python3.7/dist-packages/sklearn/discriminant_analysis.py:878: UserWarning: Variables are collinear\n",
            "  warnings.warn(\"Variables are collinear\")\n"
          ]
        },
        {
          "output_type": "stream",
          "name": "stdout",
          "text": [
            "Accuracy of QDA classifier on training set: 0.59\n",
            "Accuracy of QDA classifier on test set: 0.57\n",
            "[[1188  258]\n",
            " [ 471  575]]\n",
            "              precision    recall  f1-score   support\n",
            "\n",
            "           0       0.72      0.82      0.77      1446\n",
            "           1       0.69      0.55      0.61      1046\n",
            "\n",
            "    accuracy                           0.71      2492\n",
            "   macro avg       0.70      0.69      0.69      2492\n",
            "weighted avg       0.71      0.71      0.70      2492\n",
            "\n",
            "[[626 820]\n",
            " [246 800]]\n",
            "              precision    recall  f1-score   support\n",
            "\n",
            "           0       0.72      0.43      0.54      1446\n",
            "           1       0.49      0.76      0.60      1046\n",
            "\n",
            "    accuracy                           0.57      2492\n",
            "   macro avg       0.61      0.60      0.57      2492\n",
            "weighted avg       0.62      0.57      0.57      2492\n",
            "\n"
          ]
        },
        {
          "output_type": "execute_result",
          "data": {
            "text/plain": [
              "<sklearn.metrics._plot.confusion_matrix.ConfusionMatrixDisplay at 0x7fe4e299e8d0>"
            ]
          },
          "metadata": {},
          "execution_count": 115
        },
        {
          "output_type": "display_data",
          "data": {
            "text/plain": [
              "<Figure size 432x288 with 2 Axes>"
            ],
            "image/png": "[encoded data removed]"
          },
          "metadata": {
            "needs_background": "light"
          }
        },
        {
          "output_type": "display_data",
          "data": {
            "text/plain": [
              "<Figure size 432x288 with 2 Axes>"
            ],
            "image/png": "[encoded data removed]"
          },
          "metadata": {
            "needs_background": "light"
          }
        }
      ],
      "source": [
        "# Linear and Quadratic Discriminant Analysis\n",
        "lda = LinearDiscriminantAnalysis()\n",
        "lda.fit(codes_train, SLy_train)\n",
        "print('Accuracy of LDA classifier on training set: {:.2f}'\n",
        "     .format(lda.score(codes_train, SLy_train)))\n",
        "print('Accuracy of LDA classifier on test set: {:.2f}'\n",
        "     .format(lda.score(codes_test, SLy_test)))\n",
        "\n",
        "qda = QuadraticDiscriminantAnalysis()\n",
        "qda.fit(codes_train, SLy_train)\n",
        "print('Accuracy of QDA classifier on training set: {:.2f}'\n",
        "     .format(qda.score(codes_train, SLy_train)))\n",
        "print('Accuracy of QDA classifier on test set: {:.2f}'\n",
        "     .format(qda.score(codes_test, SLy_test)))\n",
        "\n",
        "y_pred_lda = lda.predict(codes_test)\n",
        "y_pred_qda = qda.predict(codes_test)\n",
        "\n",
        "print(confusion_matrix(SLy_test, y_pred_lda))\n",
        "print(classification_report(SLy_test, y_pred_lda))\n",
        "print(confusion_matrix(SLy_test, y_pred_qda))\n",
        "print(classification_report(SLy_test, y_pred_qda))\n",
        "\n",
        "ConfusionMatrixDisplay.from_predictions(SLy_test, y_pred_lda, display_labels=['Cancer', 'Cancer Free'])\n",
        "ConfusionMatrixDisplay.from_predictions(SLy_test, y_pred_qda, display_labels=['Cancer', 'Cancer Free'])"
      ]
    },
    {
      "cell_type": "code",
      "execution_count": null,
      "metadata": {
        "colab": {
          "base_uri": "https://localhost:8080/",
          "height": 296
        },
        "id": "ry4DPBhWeurh",
        "outputId": "97d9b208-b90a-43bb-99f6-5c56d5eca08d"
      },
      "outputs": [
        {
          "data": {
            "text/plain": [
              "<sklearn.metrics._plot.confusion_matrix.ConfusionMatrixDisplay at 0x7fb389623e10>"
            ]
          },
          "execution_count": 8,
          "metadata": {},
          "output_type": "execute_result"
        },
        {
          "data": {
            "image/png": "[encoded data removed]",
            "text/plain": [
              "<Figure size 432x288 with 2 Axes>"
            ]
          },
          "metadata": {},
          "output_type": "display_data"
        }
      ],
      "source": [
        "\n",
        "ConfusionMatrixDisplay.from_predictions(test_labels, pred_labels, display_labels=['Non-cancerous', 'Cancerous'], cmap='Purples')\n"
      ]
    },
    {
      "cell_type": "code",
      "execution_count": null,
      "metadata": {
        "colab": {
          "base_uri": "https://localhost:8080/",
          "height": 529
        },
        "id": "BHzPY91G0BgJ",
        "outputId": "37e55c9f-8b26-4faa-82b1-504f63713848"
      },
      "outputs": [
        {
          "output_type": "stream",
          "name": "stdout",
          "text": [
            "Accuracy of Decision Tree classifier on training set: 0.74\n",
            "Accuracy of Decision Tree classifier on test set: 0.71\n",
            "[[1045  401]\n",
            " [ 332  714]]\n",
            "              precision    recall  f1-score   support\n",
            "\n",
            "           0       0.76      0.72      0.74      1446\n",
            "           1       0.64      0.68      0.66      1046\n",
            "\n",
            "    accuracy                           0.71      2492\n",
            "   macro avg       0.70      0.70      0.70      2492\n",
            "weighted avg       0.71      0.71      0.71      2492\n",
            "\n"
          ]
        },
        {
          "output_type": "execute_result",
          "data": {
            "text/plain": [
              "<sklearn.metrics._plot.confusion_matrix.ConfusionMatrixDisplay at 0x7fe4e2431b50>"
            ]
          },
          "metadata": {},
          "execution_count": 124
        },
        {
          "output_type": "display_data",
          "data": {
            "text/plain": [
              "<Figure size 432x288 with 2 Axes>"
            ],
            "image/png": "[encoded data removed]"
          },
          "metadata": {
            "needs_background": "light"
          }
        }
      ],
      "source": [
        "# Decision Trees\n",
        "decTree = DecisionTreeClassifier(max_depth=6).fit(codes_train, y_train)\n",
        "print('Accuracy of Decision Tree classifier on training set: {:.2f}'\n",
        "     .format(decTree.score(codes_train, y_train)))\n",
        "print('Accuracy of Decision Tree classifier on test set: {:.2f}'\n",
        "     .format(decTree.score(codes_test, y_test)))\n",
        "\n",
        "y_pred_tree = decTree.predict(codes_test)\n",
        "\n",
        "\n",
        "print(confusion_matrix(y_test, y_pred_tree))\n",
        "print(classification_report(y_test, y_pred_tree))\n",
        "\n",
        "ConfusionMatrixDisplay.from_predictions(y_test, y_pred_tree, display_labels=['Cancer', 'Cancer Free'])"
      ]
    },
    {
      "cell_type": "code",
      "execution_count": null,
      "metadata": {
        "colab": {
          "base_uri": "https://localhost:8080/"
        },
        "id": "iuxWrgw60BgK",
        "outputId": "a3afc0e1-a914-4235-e274-a6c27a0ad26c"
      },
      "outputs": [
        {
          "output_type": "execute_result",
          "data": {
            "text/plain": [
              "{'n_neighbors': 22, 'weights': 'uniform'}"
            ]
          },
          "metadata": {},
          "execution_count": 125
        }
      ],
      "source": [
        "\n",
        "# Search Space for parameters \n",
        "parameters = {\"n_neighbors\": range(1, 50), \"weights\": [\"uniform\", \"distance\"]}\n",
        "gridsearch = GridSearchCV(KNeighborsClassifier(), parameters)\n",
        "gridsearch.fit(codes_train, y_train)\n",
        "gridsearch.best_params_"
      ]
    },
    {
      "cell_type": "code",
      "execution_count": null,
      "metadata": {
        "colab": {
          "base_uri": "https://localhost:8080/",
          "height": 529
        },
        "id": "X4LLvDCJ0BgK",
        "outputId": "17d8f079-64d6-4e71-ba9a-6df73551a222"
      },
      "outputs": [
        {
          "output_type": "stream",
          "name": "stdout",
          "text": [
            "Accuracy of K-NN classifier on training set: 0.74\n",
            "Accuracy of K-NN classifier on test set: 0.73\n",
            "[[1049  397]\n",
            " [ 279  767]]\n",
            "              precision    recall  f1-score   support\n",
            "\n",
            "           0       0.79      0.73      0.76      1446\n",
            "           1       0.66      0.73      0.69      1046\n",
            "\n",
            "    accuracy                           0.73      2492\n",
            "   macro avg       0.72      0.73      0.73      2492\n",
            "weighted avg       0.73      0.73      0.73      2492\n",
            "\n"
          ]
        },
        {
          "output_type": "execute_result",
          "data": {
            "text/plain": [
              "<sklearn.metrics._plot.confusion_matrix.ConfusionMatrixDisplay at 0x7fe4e2920810>"
            ]
          },
          "metadata": {},
          "execution_count": 127
        },
        {
          "output_type": "display_data",
          "data": {
            "text/plain": [
              "<Figure size 432x288 with 2 Axes>"
            ],
            "image/png": "[encoded data removed]"
          },
          "metadata": {
            "needs_background": "light"
          }
        }
      ],
      "source": [
        "# KNN Classifier -- see search for parameters for tuning \n",
        "knn = KNeighborsClassifier(n_neighbors=22, weights = 'uniform')\n",
        "knn.fit(codes_train, y_train)\n",
        "print('Accuracy of K-NN classifier on training set: {:.2f}'\n",
        "     .format(knn.score(codes_train, y_train)))\n",
        "print('Accuracy of K-NN classifier on test set: {:.2f}'\n",
        "     .format(knn.score(codes_test, y_test)))\n",
        "y_pred = knn.predict(codes_test)\n",
        "print(confusion_matrix(y_test, y_pred))\n",
        "print(classification_report(y_test, y_pred))\n",
        "\n",
        "ConfusionMatrixDisplay.from_predictions(y_test, y_pred, display_labels=['Cancer', 'Cancer Free'])"
      ]
    },
    {
      "cell_type": "code",
      "source": [
        "#A function which returns the corresponding SVC model kernels\n",
        "def getSVCParameters(i):\n",
        "    if i == 0:\n",
        "        # Polynomial \n",
        "        return SVC(kernel='poly', degree=8, gamma=\"auto\")\n",
        "    elif i == 1:\n",
        "        # Radial Basis Function \n",
        "        return SVC(kernel='rbf', gamma=\"auto\")\n",
        "    elif i == 2:\n",
        "        # Sigmoid\n",
        "        return SVC(kernel='sigmoid', gamma=\"auto\")\n",
        "    elif i == 3:\n",
        "        # Linear\n",
        "        return SVC(kernel='linear', gamma=\"auto\")\n",
        "\n",
        "\n"
      ],
      "metadata": {
        "id": "rWC1H3r5vdSX"
      },
      "execution_count": null,
      "outputs": []
    },
    {
      "cell_type": "code",
      "source": [
        "for i in range(4):\n",
        "    svclassifier = getSVCParameters(i) \n",
        "    svclassifier.fit(codes_train, y_train)# Make prediction\n",
        "    y_pred = svclassifier.predict(codes_test)\n",
        "    print(\"Evaluation:\", i, \"kernel\")\n",
        "    print(classification_report(y_test,y_pred))"
      ],
      "metadata": {
        "id": "nZPZOPZ7vsPO"
      },
      "execution_count": null,
      "outputs": []
    },
    {
      "cell_type": "code",
      "execution_count": null,
      "metadata": {
        "colab": {
          "base_uri": "https://localhost:8080/",
          "height": 532
        },
        "id": "mOH3JT-y0BgK",
        "outputId": "06e15cd6-9756-45d0-c270-71441390711c"
      },
      "outputs": [
        {
          "output_type": "stream",
          "name": "stdout",
          "text": [
            "Accuracy of SVM classifier on training set: 0.79\n",
            "Accuracy of SVM classifier on test set: 0.76\n",
            "[[1205  241]\n",
            " [ 365  681]]\n",
            "              precision    recall  f1-score   support\n",
            "\n",
            "           0       0.77      0.83      0.80      1446\n",
            "           1       0.74      0.65      0.69      1046\n",
            "\n",
            "    accuracy                           0.76      2492\n",
            "   macro avg       0.75      0.74      0.75      2492\n",
            "weighted avg       0.76      0.76      0.75      2492\n",
            "\n"
          ]
        },
        {
          "output_type": "execute_result",
          "data": {
            "text/plain": [
              "<sklearn.metrics._plot.confusion_matrix.ConfusionMatrixDisplay at 0x7fe4f2863990>"
            ]
          },
          "metadata": {},
          "execution_count": 132
        },
        {
          "output_type": "display_data",
          "data": {
            "text/plain": [
              "<Figure size 432x288 with 2 Axes>"
            ],
            "image/png": "[encoded data removed]"
          },
          "metadata": {
            "needs_background": "light"
          }
        }
      ],
      "source": [
        "from sklearn.svm import SVC\n",
        "\n",
        "# SVC without tuning\n",
        "svm = SVC()\n",
        "svm.fit(codes_train, y_train)\n",
        "print('Accuracy of SVM classifier on training set: {:.2f}'\n",
        "     .format(svm.score(codes_train, y_train)))\n",
        "print('Accuracy of SVM classifier on test set: {:.2f}'\n",
        "     .format(svm.score(codes_test, y_test)))\n",
        "y_pred = svm.predict(codes_test)\n",
        "print(confusion_matrix(y_test, y_pred))\n",
        "print(classification_report(y_test, y_pred))\n",
        "\n",
        "ConfusionMatrixDisplay.from_predictions(y_test, y_pred, display_labels=['Cancer','Cancer Free'])"
      ]
    },
    {
      "cell_type": "code",
      "source": [
        "from sklearn.linear_model import LogisticRegression\n",
        "from sklearn.preprocessing import StandardScaler\n",
        "x = StandardScaler().fit_transform(codes_train)\n",
        "y = StandardScaler().fit_transform(codes_test)\n",
        "from sklearn.decomposition import PCA\n",
        "# PCA model \n",
        "pca = PCA(.95)\n",
        "pca.fit(x)\n",
        "train_img = pca.transform(x)\n",
        "test_img = pca.transform(y)\n",
        "\n",
        "logisticRegr = LogisticRegression()\n",
        "logisticRegr.fit(train_img, y_train)\n",
        "\n",
        "logisticRegr.score(test_img, y_test)\n",
        "\n",
        "print('Accuracy of SVM classifier on training set: {:.2f}'\n",
        "     .format(logisticRegr.score(train_img, y_train)))\n",
        "print('Accuracy of SVM classifier on test set: {:.2f}'\n",
        "     .format(logisticRegr.score(test_img, y_test)))\n",
        "y_pred = logisticRegr.predict(test_img)\n",
        "print(confusion_matrix(y_test, y_pred))\n",
        "print(classification_report(y_test, y_pred))\n",
        "\n",
        "ConfusionMatrixDisplay.from_predictions(y_test, y_pred, display_labels=['Cancer','Cancer Free'])\n",
        "\n"
      ],
      "metadata": {
        "id": "XOoOp8XSlJ73",
        "colab": {
          "base_uri": "https://localhost:8080/",
          "height": 532
        },
        "outputId": "19a691a2-c722-4178-c4cc-942626c2a44a"
      },
      "execution_count": null,
      "outputs": [
        {
          "output_type": "stream",
          "name": "stdout",
          "text": [
            "Accuracy of SVM classifier on training set: 0.71\n",
            "Accuracy of SVM classifier on test set: 0.71\n",
            "[[1208  238]\n",
            " [ 476  570]]\n",
            "              precision    recall  f1-score   support\n",
            "\n",
            "           0       0.72      0.84      0.77      1446\n",
            "           1       0.71      0.54      0.61      1046\n",
            "\n",
            "    accuracy                           0.71      2492\n",
            "   macro avg       0.71      0.69      0.69      2492\n",
            "weighted avg       0.71      0.71      0.71      2492\n",
            "\n"
          ]
        },
        {
          "output_type": "execute_result",
          "data": {
            "text/plain": [
              "<sklearn.metrics._plot.confusion_matrix.ConfusionMatrixDisplay at 0x7fe4f2485bd0>"
            ]
          },
          "metadata": {},
          "execution_count": 137
        },
        {
          "output_type": "display_data",
          "data": {
            "text/plain": [
              "<Figure size 432x288 with 2 Axes>"
            ],
            "image/png": "[encoded data removed]"
          },
          "metadata": {
            "needs_background": "light"
          }
        }
      ]
    },
    {
      "cell_type": "code",
      "source": [
        "from sklearn.ensemble import RandomForestRegressor\n",
        "\n",
        "rf = RandomForestRegressor(n_estimators = 1000, random_state = 42)\n",
        "# Train the model on training data\n",
        "rf.fit(codes_train, y_train)\n",
        "predictions = rf.predict(codes_test)\n",
        "\n",
        "print('Accuracy of RandomForest classifier on training set: {:.2f}'\n",
        "     .format(rf.score(codes_train, y_train)))\n",
        "print('Accuracy of RandomForest classifier on test set: {:.2f}'\n",
        "     .format(rf.score(codes_test, y_test)))\n",
        "y_pred = rf.predict(codes_test)\n",
        "print(confusion_matrix(y_test, y_pred))\n",
        "print(classification_report(y_test, y_pred))\n",
        "\n",
        "ConfusionMatrixDisplay.from_predictions(y_test, y_pred, display_labels=['Cancer','Cancer Free'])"
      ],
      "metadata": {
        "id": "xj_5PFf1u7n8",
        "outputId": "4a5a079f-a28b-4a18-d7db-93587b3ad0e4",
        "colab": {
          "base_uri": "https://localhost:8080/",
          "height": 517
        }
      },
      "execution_count": null,
      "outputs": [
        {
          "output_type": "stream",
          "name": "stderr",
          "text": [
            "/usr/local/lib/python3.7/dist-packages/sklearn/metrics/_regression.py:95: FutureWarning: Arrays of bytes/strings is being converted to decimal numbers if dtype='numeric'. This behavior is deprecated in 0.24 and will be removed in 1.1 (renaming of 0.26). Please convert your data to numeric values explicitly instead.\n",
            "  y_true = check_array(y_true, ensure_2d=False, dtype=dtype)\n"
          ]
        },
        {
          "output_type": "stream",
          "name": "stdout",
          "text": [
            "Accuracy of SVM classifier on training set: 0.90\n"
          ]
        },
        {
          "output_type": "stream",
          "name": "stderr",
          "text": [
            "/usr/local/lib/python3.7/dist-packages/sklearn/metrics/_regression.py:95: FutureWarning: Arrays of bytes/strings is being converted to decimal numbers if dtype='numeric'. This behavior is deprecated in 0.24 and will be removed in 1.1 (renaming of 0.26). Please convert your data to numeric values explicitly instead.\n",
            "  y_true = check_array(y_true, ensure_2d=False, dtype=dtype)\n"
          ]
        },
        {
          "output_type": "stream",
          "name": "stdout",
          "text": [
            "Accuracy of SVM classifier on test set: 0.30\n"
          ]
        },
        {
          "output_type": "error",
          "ename": "ValueError",
          "evalue": "ignored",
          "traceback": [
            "\u001b[0;31m---------------------------------------------------------------------------\u001b[0m",
            "\u001b[0;31mValueError\u001b[0m                                Traceback (most recent call last)",
            "\u001b[0;32m<ipython-input-138-bcce16db9177>\u001b[0m in \u001b[0;36m<module>\u001b[0;34m()\u001b[0m\n\u001b[1;32m     12\u001b[0m      .format(rf.score(codes_test, y_test)))\n\u001b[1;32m     13\u001b[0m \u001b[0my_pred\u001b[0m \u001b[0;34m=\u001b[0m \u001b[0mrf\u001b[0m\u001b[0;34m.\u001b[0m\u001b[0mpredict\u001b[0m\u001b[0;34m(\u001b[0m\u001b[0mcodes_test\u001b[0m\u001b[0;34m)\u001b[0m\u001b[0;34m\u001b[0m\u001b[0;34m\u001b[0m\u001b[0m\n\u001b[0;32m---> 14\u001b[0;31m \u001b[0mprint\u001b[0m\u001b[0;34m(\u001b[0m\u001b[0mconfusion_matrix\u001b[0m\u001b[0;34m(\u001b[0m\u001b[0my_test\u001b[0m\u001b[0;34m,\u001b[0m \u001b[0my_pred\u001b[0m\u001b[0;34m)\u001b[0m\u001b[0;34m)\u001b[0m\u001b[0;34m\u001b[0m\u001b[0;34m\u001b[0m\u001b[0m\n\u001b[0m\u001b[1;32m     15\u001b[0m \u001b[0mprint\u001b[0m\u001b[0;34m(\u001b[0m\u001b[0mclassification_report\u001b[0m\u001b[0;34m(\u001b[0m\u001b[0my_test\u001b[0m\u001b[0;34m,\u001b[0m \u001b[0my_pred\u001b[0m\u001b[0;34m)\u001b[0m\u001b[0;34m)\u001b[0m\u001b[0;34m\u001b[0m\u001b[0;34m\u001b[0m\u001b[0m\n\u001b[1;32m     16\u001b[0m \u001b[0;34m\u001b[0m\u001b[0m\n",
            "\u001b[0;32m/usr/local/lib/python3.7/dist-packages/sklearn/metrics/_classification.py\u001b[0m in \u001b[0;36mconfusion_matrix\u001b[0;34m(y_true, y_pred, labels, sample_weight, normalize)\u001b[0m\n\u001b[1;32m    305\u001b[0m     \u001b[0;34m(\u001b[0m\u001b[0;36m0\u001b[0m\u001b[0;34m,\u001b[0m \u001b[0;36m2\u001b[0m\u001b[0;34m,\u001b[0m \u001b[0;36m1\u001b[0m\u001b[0;34m,\u001b[0m \u001b[0;36m1\u001b[0m\u001b[0;34m)\u001b[0m\u001b[0;34m\u001b[0m\u001b[0;34m\u001b[0m\u001b[0m\n\u001b[1;32m    306\u001b[0m     \"\"\"\n\u001b[0;32m--> 307\u001b[0;31m     \u001b[0my_type\u001b[0m\u001b[0;34m,\u001b[0m \u001b[0my_true\u001b[0m\u001b[0;34m,\u001b[0m \u001b[0my_pred\u001b[0m \u001b[0;34m=\u001b[0m \u001b[0m_check_targets\u001b[0m\u001b[0;34m(\u001b[0m\u001b[0my_true\u001b[0m\u001b[0;34m,\u001b[0m \u001b[0my_pred\u001b[0m\u001b[0;34m)\u001b[0m\u001b[0;34m\u001b[0m\u001b[0;34m\u001b[0m\u001b[0m\n\u001b[0m\u001b[1;32m    308\u001b[0m     \u001b[0;32mif\u001b[0m \u001b[0my_type\u001b[0m \u001b[0;32mnot\u001b[0m \u001b[0;32min\u001b[0m \u001b[0;34m(\u001b[0m\u001b[0;34m\"binary\"\u001b[0m\u001b[0;34m,\u001b[0m \u001b[0;34m\"multiclass\"\u001b[0m\u001b[0;34m)\u001b[0m\u001b[0;34m:\u001b[0m\u001b[0;34m\u001b[0m\u001b[0;34m\u001b[0m\u001b[0m\n\u001b[1;32m    309\u001b[0m         \u001b[0;32mraise\u001b[0m \u001b[0mValueError\u001b[0m\u001b[0;34m(\u001b[0m\u001b[0;34m\"%s is not supported\"\u001b[0m \u001b[0;34m%\u001b[0m \u001b[0my_type\u001b[0m\u001b[0;34m)\u001b[0m\u001b[0;34m\u001b[0m\u001b[0;34m\u001b[0m\u001b[0m\n",
            "\u001b[0;32m/usr/local/lib/python3.7/dist-packages/sklearn/metrics/_classification.py\u001b[0m in \u001b[0;36m_check_targets\u001b[0;34m(y_true, y_pred)\u001b[0m\n\u001b[1;32m     93\u001b[0m         raise ValueError(\n\u001b[1;32m     94\u001b[0m             \"Classification metrics can't handle a mix of {0} and {1} targets\".format(\n\u001b[0;32m---> 95\u001b[0;31m                 \u001b[0mtype_true\u001b[0m\u001b[0;34m,\u001b[0m \u001b[0mtype_pred\u001b[0m\u001b[0;34m\u001b[0m\u001b[0;34m\u001b[0m\u001b[0m\n\u001b[0m\u001b[1;32m     96\u001b[0m             )\n\u001b[1;32m     97\u001b[0m         )\n",
            "\u001b[0;31mValueError\u001b[0m: Classification metrics can't handle a mix of binary and continuous targets"
          ]
        }
      ]
    },
    {
      "cell_type": "code",
      "source": [
        "print(y_pred)\n",
        "y_pred_round = np.rint(y_pred).astype(int).astype(str)\n",
        "print(y_pred_round)"
      ],
      "metadata": {
        "id": "k_P64g9C0ip4",
        "outputId": "febb81ef-3403-41fe-ff65-3fcc1c7f84ad",
        "colab": {
          "base_uri": "https://localhost:8080/"
        }
      },
      "execution_count": null,
      "outputs": [
        {
          "output_type": "stream",
          "name": "stdout",
          "text": [
            "[0.437 0.173 0.856 ... 0.575 0.305 0.189]\n",
            "['0' '0' '1' ... '1' '0' '0']\n"
          ]
        }
      ]
    },
    {
      "cell_type": "code",
      "source": [
        "print(confusion_matrix(y_test, y_pred_round))\n",
        "print(classification_report(y_test, y_pred_round))\n",
        "\n",
        "ConfusionMatrixDisplay.from_predictions(y_test, y_pred_round, display_labels=['Cancer','Cancer Free'])"
      ],
      "metadata": {
        "id": "832TwOmL1itv",
        "outputId": "07d57052-49bf-4940-f29e-880899a72cf4",
        "colab": {
          "base_uri": "https://localhost:8080/",
          "height": 494
        }
      },
      "execution_count": null,
      "outputs": [
        {
          "output_type": "stream",
          "name": "stdout",
          "text": [
            "[[1246  200]\n",
            " [ 405  641]]\n",
            "              precision    recall  f1-score   support\n",
            "\n",
            "           0       0.75      0.86      0.80      1446\n",
            "           1       0.76      0.61      0.68      1046\n",
            "\n",
            "    accuracy                           0.76      2492\n",
            "   macro avg       0.76      0.74      0.74      2492\n",
            "weighted avg       0.76      0.76      0.75      2492\n",
            "\n"
          ]
        },
        {
          "output_type": "execute_result",
          "data": {
            "text/plain": [
              "<sklearn.metrics._plot.confusion_matrix.ConfusionMatrixDisplay at 0x7fe4ea75e410>"
            ]
          },
          "metadata": {},
          "execution_count": 146
        },
        {
          "output_type": "display_data",
          "data": {
            "text/plain": [
              "<Figure size 432x288 with 2 Axes>"
            ],
            "image/png": "[encoded data removed]"
          },
          "metadata": {
            "needs_background": "light"
          }
        }
      ]
    },
    {
      "cell_type": "code",
      "execution_count": null,
      "metadata": {
        "id": "ricVX5jH43j8"
      },
      "outputs": [],
      "source": [
        "basic_codes_train = np.array(codes_train)\n",
        "basic_codes_test = np.array(codes_test)"
      ]
    },
    {
      "cell_type": "code",
      "execution_count": null,
      "metadata": {
        "id": "T1R4uP_d1qr-"
      },
      "outputs": [],
      "source": [
        "# Now create CNN\n",
        "def build_fit_eval_model(train_data, test_data, train_labels, test_labels):\n",
        "    height = train_data.shape[1]\n",
        "    width = train_data.shape[2]\n",
        "    #channels = train_data.shape[3]\n",
        "    num_classes = 1\n",
        "\n",
        "    # build model here.\n",
        "    model = Sequential()\n",
        "\n",
        "    # model.add(\n",
        "    #     Conv2D(filters=16, kernel_size=(3, 3), padding='same', activation='relu', input_shape=(train_data.shape[1:])))\n",
        "    # model.add(tf.keras.layers.BatchNormalization())\n",
        "    # model.add(MaxPooling2D(pool_size=(2, 2), strides=(2, 2)))\n",
        "    # model.add(tf.keras.layers.Dropout(0.5))\n",
        "\n",
        "    model.add(\n",
        "        Conv2D(filters=32, kernel_size=(2, 2), padding='same', activation='relu', input_shape=(4,5,1)))\n",
        "    model.add(tf.keras.layers.BatchNormalization())\n",
        "    model.add(MaxPooling2D(pool_size=(2, 2), strides=(1, 1)))\n",
        "    model.add(tf.keras.layers.Dropout(0.4))\n",
        "    model.add(tf.keras.layers.BatchNormalization())\n",
        "\n",
        "\n",
        "    model.add(Conv2D(filters=64, kernel_size=(2, 2), padding='same',\n",
        "                     activation='relu'))#, input_shape=(train_data.shape[1:])))\n",
        "    model.add(tf.keras.layers.BatchNormalization())\n",
        "    model.add(MaxPooling2D(pool_size=(2, 2), strides=(1, 1)))\n",
        "    model.add(tf.keras.layers.Dropout(0.3))\n",
        "    model.add(tf.keras.layers.BatchNormalization())\n",
        "\n",
        "    model.add(Conv2D(filters=128, kernel_size=(2, 2), padding='same',\n",
        "                     activation='relu'))#, input_shape=(train_data.shape[1:])))\n",
        "    model.add(tf.keras.layers.BatchNormalization())\n",
        "    model.add(MaxPooling2D(pool_size=(2, 2), strides=(1, 1)))\n",
        "    model.add(tf.keras.layers.Dropout(0.2))\n",
        "    model.add(tf.keras.layers.BatchNormalization())\n",
        "\n",
        "    model.add(Conv2D(filters=256, kernel_size=(2, 2), padding='same',\n",
        "                     activation='relu'))  # , input_shape=(train_data.shape[1:])))\n",
        "    model.add(tf.keras.layers.BatchNormalization())\n",
        "    model.add(MaxPooling2D(pool_size=(2, 2), strides=(1, 1)))\n",
        "    model.add(tf.keras.layers.Dropout(0.1))\n",
        "    model.add(tf.keras.layers.BatchNormalization())\n",
        "\n",
        "    model.add(Flatten())\n",
        "\n",
        "    model.add(Dense(128, activation='relu'))\n",
        "    model.add(Dense(64, activation='relu'))\n",
        "    #model.add(Dense(32, activation='relu'))\n",
        "    model.add(Dense(16, activation='relu'))\n",
        "    model.add(Dense(8, activation='relu'))\n",
        "    model.add(Dense(1, activation='sigmoid'))\n",
        "    #model.add(tf.keras.layers.BatchNormalization()) #Doesn't help\n",
        "    opt = tf.keras.optimizers.Adam(0.001)\n",
        "    model.compile(loss='binary_crossentropy', optimizer=opt, metrics=['accuracy'])\n",
        "    \n",
        "    # fit model here\n",
        "    model.fit(train_data, train_labels, epochs=10)\n",
        "\n",
        "    # evaluate model on test set here\n",
        "    results = model.evaluate(test_data, test_labels)\n",
        "    print(results)\n",
        "    return model"
      ]
    },
    {
      "cell_type": "code",
      "execution_count": null,
      "metadata": {
        "id": "jdpgOwvH7Ar3"
      },
      "outputs": [],
      "source": [
        "codes_train_reshape = basic_codes_train.reshape(11210,4,5)\n",
        "codes_test_reshape = basic_codes_test.reshape(1246,4,5)"
      ]
    },
    {
      "cell_type": "code",
      "execution_count": null,
      "metadata": {
        "id": "Y5hxdcX4nCaE"
      },
      "outputs": [],
      "source": [
        "#Stored Sample Labels \n",
        "sample_labels1 = ['1', '0', '0', '1', '0', '0', '0', '1', '0', '0', '1', '1', '0', '0', '0', '1', '0', '1', '1', '0', '0', '1', '1', '1', '0', '0', '1', '0', '0', '1', '1', '1', '1', '1', '1', '1', '1', '0', '1', '1', '0', '0', '1', '0', '1', '0', '1', '0', '1', '0', '1', '1', '1', '1', '1', '0', '1', '0', '0', '0', '0', '0', '1', '0', '1', '1', '0', '0', '0', '0', '0', '0', '1', '0', '0', '1', '0', '0', '1', '0', '0', '1', '1', '0', '0', '0', '1', '1', '1', '1', '0', '0', '0', '1', '0', '1', '1', '0', '0', '0', '0', '0', '0', '1', '0', '1', '1', '0', '1', '1', '0', '1', '1', '1', '0', '0', '1', '1', '0', '1', '1', '0', '0', '1', '0', '1', '0', '0', '0', '1', '0', '0', '0', '0', '0', '0', '1', '0', '0', '0', '0', '0', '0', '0', '1', '0', '1', '0', '1', '0', '0', '0', '1', '0', '0', '0', '1', '0', '1', '0', '1', '0', '1', '1', '0', '0', '1', '1', '1', '1', '0', '1', '0', '1', '1', '0', '0', '0', '0', '1', '1', '1', '0', '0', '1', '1', '0', '1', '0', '1', '1', '1', '0', '0', '1', '1', '0', '1', '1', '1', '0', '0', '1', '0', '0', '1', '0', '1', '0', '1', '1', '1', '1', '1', '1', '1', '1', '0', '0', '0', '1', '1', '0', '0', '0', '0', '1', '0', '0', '0', '0', '0', '1', '0', '1', '1', '1', '0', '0', '1', '1', '1', '1', '1', '0', '0', '1', '0', '0', '0', '1', '1', '0', '1', '1', '1', '0', '1', '0', '0', '0', '0', '1', '0', '0', '1', '0', '1', '1', '1', '0', '0', '0', '0', '1', '0', '1', '0', '0', '0', '0', '1', '0', '1', '1', '1', '0', '0', '0', '1', '0', '0', '0', '0', '0', '1', '0', '0', '0', '0', '0', '1', '1', '1', '0', '0', '1', '0', '0', '0', '0', '1', '0', '0', '1', '1', '1', '0', '0', '0', '0', '0', '0', '0', '0', '0', '0', '0', '0', '1', '0', '0', '0', '1', '0', '0', '1', '0', '0', '0', '1', '0', '0', '0', '0', '0', '0', '0', '0', '0', '0', '0', '1', '1', '0', '0', '0', '0', '1', '0', '1', '0', '1', '1', '0', '1', '0', '0', '1', '1', '0', '1', '1', '1', '0', '0', '1', '1', '0', '0', '0', '0', '1', '0', '0', '1', '1', '1', '0', '1', '1', '1', '0', '0', '1', '0', '1', '0', '1', '1', '1', '1', '0', '0', '0', '0', '0', '0', '1', '1', '0', '0', '1', '1', '1', '1', '1', '1', '1', '1', '0', '0', '0', '0', '0', '0', '0', '1', '0', '1', '1', '0', '1', '0', '0', '1', '0', '1', '0', '1', '1', '1', '0', '0', '0', '1', '0', '0', '0', '1', '0', '0', '0', '0', '1', '1', '0', '1', '1', '1', '0', '0', '1', '1', '0', '1', '0', '0', '1', '0', '0', '1', '0', '1', '0', '1', '1', '1', '1', '0', '1', '0', '1', '1', '0', '0', '0', '0', '1', '1', '1', '0', '1', '1', '0', '1', '1', '1', '0', '0', '0', '1', '0', '1', '0', '0', '0', '1', '0', '0', '0', '1', '1', '1', '0', '0', '0', '0', '1', '0', '0', '1', '0', '1', '0', '1', '1', '1', '0', '1', '0', '0', '1', '0', '1', '1', '0', '1', '0', '0', '0', '1', '0', '1', '0', '0', '1', '0', '0', '1', '1', '1', '0', '1', '1', '0', '0', '1', '0', '0', '0', '0', '0', '0', '1', '1', '1', '1', '1', '0', '0', '1', '0', '1', '1', '0', '0', '0', '0', '1', '0', '0', '0', '0', '0', '0', '0', '1', '0', '0', '1', '0', '1', '1', '0', '1', '1', '0', '0', '0', '0', '1', '0', '1', '0', '0', '1', '1', '0', '1', '0', '0', '1', '0', '0', '1', '0', '0', '1', '0', '0', '1', '0', '0', '1', '0', '0', '0', '1', '0', '1', '1', '0', '0', '0', '1', '0', '0', '0', '1', '0', '0', '0', '1', '1', '0', '0', '0', '1', '0', '0', '0', '1', '0', '0', '1', '1', '1', '1', '1', '1', '1', '0', '1', '0', '1', '1', '0', '1', '1', '0', '0', '0', '0', '1', '0', '0', '1', '1', '0', '0', '1', '1', '1', '0', '1', '1', '0', '0', '0', '0', '1', '1', '0', '1', '0', '1', '0', '0', '0', '0', '0', '0', '1', '1', '0', '1', '0', '0', '0', '0', '1', '0', '0', '0', '1', '1', '1', '0', '0', '0', '0', '0', '0', '1', '1', '0', '0', '0', '0', '0', '1', '0', '0', '0', '0', '0', '1', '0', '1', '0', '0', '1', '0', '0', '1', '0', '1', '1', '1', '1', '1', '1', '0', '0', '0', '0', '0', '0', '0', '0', '1', '0', '0', '0', '1', '0', '1', '1', '0', '1', '0', '1', '0', '1', '0', '0', '1', '0', '0', '1', '0', '1', '1', '1', '1', '0', '1', '0', '0', '1', '0', '0', '0', '0', '0', '0', '0', '1', '0', '0', '1', '1', '1', '1', '0', '0', '0', '0', '1', '0', '1', '0', '0', '0', '0', '0', '0', '1', '1', '0', '0', '0', '0', '0', '0', '1', '1', '0', '0', '0', '1', '0', '1', '0', '0', '1', '0', '1', '0', '0', '1', '1', '1', '0', '0', '1', '1', '0', '0', '0', '1', '0', '0', '1', '1', '0', '1', '1', '0', '1', '0', '1', '1', '1', '1', '1', '1', '1', '1', '1', '0', '0', '1', '0', '1', '1', '1', '0', '1', '0', '0', '0', '0', '1', '0', '1', '0', '0', '1', '1', '1', '1', '1', '0', '0', '1', '1', '0', '0', '1', '0', '0', '0', '1', '0', '0', '1', '0', '0', '0', '1', '0', '1', '0', '1', '0', '0', '1', '0', '1', '1', '0', '0', '1', '1', '1', '0', '0', '1', '0', '1', '1', '0', '1', '1', '0', '0', '0', '0', '0', '0', '1', '1', '0', '0', '0', '0', '0', '0', '1', '1', '0', '0', '0', '1', '0', '1', '0', '0', '1', '1', '0', '1', '0', '0', '1', '0', '1', '0', '1', '1', '0', '0', '0', '0', '1', '1', '1', '0', '0', '1', '0', '1', '0', '0', '0', '0', '0', '1', '0', '0', '0', '0', '1', '0', '1', '1', '0', '0', '1', '0', '1', '1', '0', '1', '1', '1', '1', '0', '0', '1', '0', '1', '0', '0', '1', '0', '1', '0', '1', '1', '0', '0', '1', '1', '0', '1', '0', '0', '0', '0', '1', '0', '1', '1', '0', '1', '1', '1', '1', '0', '0', '0', '0', '1', '1', '0', '0', '0', '0', '0', '1', '0', '1', '0', '1', '0', '0', '0', '0', '1', '0', '0', '0', '0', '0', '0', '0', '0', '0', '1', '0', '1', '1', '0', '1', '0', '0', '0', '1', '0', '1', '1', '0', '1', '1', '0', '1', '0', '0', '1', '0', '0', '1', '1', '0', '0', '0', '0', '0', '0', '0', '0', '1', '0', '0', '0', '0', '1', '1', '0', '0', '0', '1', '1', '0', '0', '0', '0', '0', '1', '1', '0', '0', '1', '0', '0', '0', '1', '0', '1', '0', '0', '0', '0', '0', '1', '0', '0', '0', '0', '0', '1', '1', '1', '1', '1', '0', '0', '0', '0', '0', '1', '0', '0', '0', '1', '1', '0', '0', '1', '0', '0', '0', '1', '1', '0', '0', '0', '0', '0', '0', '0', '0', '1', '0', '0', '0', '1', '0', '1', '1', '0', '0', '1', '1', '1', '0', '1', '0', '1', '1', '0', '0', '1', '0', '0', '0', '1', '1', '0', '1', '0', '0', '1', '0', '0', '1', '1', '1', '1', '0', '1', '1', '1', '1', '0', '1', '0', '0', '0', '1', '0', '1', '0', '0', '0', '1', '1', '0', '1', '0', '0', '1', '0', '0', '1', '0', '1', '0', '1', '0', '1', '1', '1', '1', '0', '0', '0', '1', '0', '0', '0', '1', '0', '1', '0', '1', '1', '0', '0', '0', '0', '1', '1', '0', '0', '0', '1', '0', '1', '1', '0', '0', '1', '1', '1', '0', '1', '0', '0', '0', '1', '0', '1', '0', '0', '1', '0', '1', '1', '1', '0', '0', '0', '0', '0', '0', '0', '0', '1', '0', '0', '1', '1', '1', '0', '0', '0', '0', '0', '0', '0', '0', '0', '0', '1', '1', '1', '0', '0', '0', '1', '0', '1', '0', '0', '1', '1', '1', '0', '0', '1', '0', '0', '1', '1', '0', '0', '0', '0', '0', '0', '0', '1', '0', '1', '0', '1', '0', '0', '0', '0', '0', '1', '0', '0', '0', '0', '1', '0', '1', '1', '1', '1', '0', '0', '0', '0', '1', '1', '1', '1', '1', '1', '1', '0', '0', '0', '0', '1', '0', '0', '1', '0', '0', '0', '1', '0', '0', '1', '0', '0', '0', '1', '1', '0', '0', '0', '1', '1', '0', '1', '0', '0', '1', '0', '0', '0', '1', '0', '0', '1', '0', '0', '0', '1', '0', '0', '0', '0', '1', '0', '0', '0', '1', '1', '0', '0', '0', '1', '1', '1', '1', '0', '1', '0', '0', '0', '1', '0', '0', '1', '1', '0', '0', '0', '0', '0', '1', '0', '1', '1', '1', '1', '0', '1', '0', '0', '0', '1', '0', '1', '0', '0', '0', '1', '0', '1', '0', '0', '0', '0', '1', '0', '0', '1', '1', '0', '0', '0', '0', '0', '0', '1', '1', '0', '0', '0', '1', '1', '0', '0', '1', '0', '0', '0', '0', '0', '0', '0', '0', '0', '0', '1', '0', '0', '0', '0', '0', '0', '1', '0', '0', '0', '1', '0', '1', '0', '0', '1', '0', '1', '0', '0', '0', '1', '0', '0', '0', '1', '0', '0', '1', '0', '0', '1', '1', '0', '0', '0', '0', '0', '0', '0', '1', '0', '1', '0', '1', '0', '1', '0', '1', '0', '1', '1', '0', '0', '0', '0', '0', '0', '1', '0', '1', '0', '1', '0', '0', '0', '0', '0', '0', '0', '0', '0', '0', '0', '0', '0', '1', '0', '1', '0', '0', '1', '0', '1', '0', '0', '0', '1', '0', '1', '0', '1', '0', '1', '1', '0', '1', '0', '0', '1', '0', '1', '0', '0', '1', '0', '0', '1', '0', '1', '1', '0', '1', '1', '1', '1', '0', '1', '1', '1', '0', '1', '0', '0', '0', '0', '0', '1', '0', '0', '0', '0', '0', '1', '0', '0', '0', '1', '0', '1', '0', '1', '1', '1', '0', '1', '0', '1', '1', '0', '1', '1', '1', '0', '0', '1', '0', '0', '0', '0', '0', '1', '0', '0', '1', '1', '0', '0', '1', '0', '0', '1', '0', '0', '0', '0', '0', '1', '1', '1', '1', '0', '0', '0', '1', '1', '1', '0', '0', '1', '0', '0', '1', '1', '1', '0', '0', '0', '1', '1', '0', '0', '0', '0', '1', '1', '0', '0', '1', '0', '1', '0', '1', '0', '1', '0', '1', '0', '1', '0', '1', '1', '0', '0', '0', '1', '0', '0', '1', '0', '0', '1', '0', '1', '1', '1', '0', '0', '1', '0', '0', '0', '0', '1', '0', '0', '1', '0', '0', '0', '1', '0', '0', '0', '0', '0', '1', '1', '1', '1', '0', '0', '0', '0', '0', '0', '1', '0', '0', '1', '0', '0', '0', '0', '1', '0', '0', '1', '0', '0', '0', '0', '1', '0', '0', '1', '0', '1', '1', '1', '1', '0', '0', '1', '0', '1', '1', '0', '0', '0', '1', '1', '1', '0', '0', '0', '0', '0', '0', '0', '1', '1', '1', '1', '0', '0', '1', '0', '0', '1', '1', '0', '1', '1', '0', '0', '0', '0', '0', '0', '0', '0', '0', '1', '0', '0', '1', '0', '0', '1', '1', '1', '0', '1', '0', '0', '1', '1', '1', '1', '1', '0', '0', '1', '1', '0', '1', '0', '1', '0', '1', '0', '0', '0', '0', '1', '0', '0', '1', '1', '0', '1', '1', '0', '0', '0', '0', '0', '0', '1', '0', '1', '0', '0', '1', '0', '0', '0', '1', '1', '0', '0', '1', '0', '1', '0', '1', '0', '1', '1', '1', '1', '0', '0', '1', '0', '1', '0', '0', '0', '0', '0', '1', '1', '0', '0', '0', '0', '1', '1', '0', '0', '0', '0', '1', '0', '1', '1', '1', '0', '1', '0', '0', '1', '0', '1', '1', '0', '1', '0', '0', '1', '0', '0', '0', '0', '1', '0', '0', '1', '1', '0', '0', '1', '0', '1', '1', '1', '0', '1', '0', '1', '0', '0', '0', '0', '1', '0', '1', '1', '1', '0', '0', '0', '1', '0', '0', '1', '1', '0', '1', '0', '0', '0', '0', '0', '1', '0', '0', '0', '1', '0', '1', '1', '0', '0', '0', '1', '1', '1']\n",
        "\n",
        "sample_labels2 = ['1', '0', '1', '1', '0', '1', '0', '0', '0', '0', '1', '1', '0', '0', '0', '0', '0', '1', '0', '0', '0', '1', '0', '1', '0', '0', '0', '1', '1', '0', '1', '1', '0', '1', '1', '1', '1', '1', '1', '1', '1', '1', '0', '0', '1', '1', '1', '1', '0', '1', '1', '1', '0', '1', '1', '0', '0', '0', '0', '1', '1', '0', '1', '1', '0', '0', '1', '0', '1', '0', '0', '0', '0', '0', '0', '0', '0', '1', '1', '0', '1', '0', '0', '1', '1', '0', '0', '0', '0', '0', '0', '0', '0', '0', '0', '0', '0', '1', '1', '0', '0', '0', '0', '0', '1', '0', '0', '0', '1', '0', '1', '0', '1', '0', '0', '0', '0', '0', '0', '1', '0', '0', '0', '0', '0', '1', '0', '0', '1', '1', '1', '1', '1', '0', '0', '0', '1', '1', '1', '1', '1', '1', '0', '0', '0', '0', '0', '1', '0', '0', '0', '0', '1', '0', '0', '0', '0', '0', '1', '0', '1', '0', '0', '0', '0', '0', '0', '0', '1', '1', '0', '0', '1', '0', '0', '0', '1', '0', '0', '0', '0', '0', '0', '0', '0', '1', '0', '1', '1', '0', '1', '0', '0', '1', '0', '0', '0', '1', '1', '1', '1', '1', '0', '0', '0', '0', '1', '1', '0', '0', '1', '1', '0', '0', '1', '0', '0', '0', '1', '1', '0', '1', '0', '1', '1', '1', '1', '0', '0', '1', '0', '1', '0', '1', '0', '0', '0', '1', '0', '1', '1', '1', '0', '1', '0', '0', '1', '0', '1', '0', '1', '0', '1', '0', '1', '1', '0', '1', '1', '0', '0', '0', '1', '1', '0', '0', '0', '1', '1', '1', '0', '0', '0', '1', '0', '1', '1', '1', '0', '0', '0', '0', '0', '0', '0', '1', '0', '1', '0', '0', '1', '0', '1', '0', '0', '1', '0', '0', '0', '0', '0', '1', '1', '0', '0', '1', '0', '0', '1', '0', '1', '1', '0', '1', '0', '0', '0', '0', '0', '0', '0', '1', '1', '1', '1', '0', '0', '0', '0', '0', '0', '1', '0', '0', '0', '0', '1', '0', '0', '1', '1', '1', '1', '1', '0', '1', '1', '0', '1', '0', '0', '1', '0', '0', '0', '0', '0', '1', '0', '1', '0', '0', '0', '1', '0', '0', '0', '1', '0', '1', '1', '0', '0', '1', '0', '0', '0', '0', '1', '1', '0', '0', '1', '0', '0', '0', '1', '0', '1', '0', '1', '0', '0', '1', '0', '1', '0', '1', '0', '0', '0', '0', '0', '0', '0', '0', '1', '1', '0', '0', '0', '0', '1', '0', '0', '0', '1', '0', '1', '0', '0', '0', '0', '0', '1', '1', '0', '0', '0', '1', '0', '0', '0', '0', '0', '1', '0', '1', '1', '0', '1', '1', '0', '0', '0', '1', '1', '1', '0', '1', '0', '1', '1', '1', '0', '1', '1', '0', '1', '1', '1', '1', '0', '1', '1', '0', '1', '0', '1', '0', '0', '0', '1', '1', '0', '0', '0', '0', '0', '1', '0', '1', '0', '0', '1', '1', '0', '0', '0', '0', '0', '1', '1', '0', '1', '0', '1', '0', '0', '0', '0', '0', '1', '1', '0', '1', '0', '0', '0', '0', '0', '1', '0', '1', '1', '1', '1', '1', '1', '0', '1', '0', '0', '0', '0', '0', '0', '0', '0', '1', '0', '0', '0', '0', '1', '1', '0', '0', '0', '1', '0', '0', '1', '0', '1', '0', '1', '0', '0', '1', '0', '0', '1', '0', '0', '0', '0', '0', '0', '0', '0', '0', '1', '0', '0', '1', '0', '1', '0', '1', '0', '0', '1', '0', '0', '1', '0', '1', '0', '1', '0', '1', '1', '0', '1', '0', '0', '1', '0', '0', '0', '0', '1', '0', '1', '0', '0', '1', '0', '1', '0', '0', '0', '1', '0', '0', '1', '1', '0', '1', '1', '0', '0', '1', '1', '1', '0', '1', '0', '1', '1', '1', '0', '1', '0', '1', '1', '0', '0', '1', '1', '0', '0', '0', '1', '0', '1', '0', '0', '0', '1', '0', '1', '1', '0', '1', '0', '1', '1', '0', '1', '1', '0', '0', '1', '0', '1', '1', '0', '0', '0', '0', '0', '1', '0', '1', '0', '1', '0', '0', '0', '0', '1', '1', '1', '1', '0', '0', '0', '1', '1', '0', '1', '0', '0', '0', '1', '1', '0', '0', '0', '0', '0', '0', '0', '1', '0', '0', '0', '1', '0', '1', '0', '1', '0', '0', '1', '1', '1', '0', '0', '0', '0', '1', '0', '1', '0', '1', '0', '1', '0', '1', '1', '0', '1', '1', '1', '1', '0', '1', '0', '1', '1', '0', '1', '0', '0', '1', '1', '0', '0', '0', '1', '0', '1', '0', '0', '1', '0', '0', '0', '1', '0', '1', '0', '0', '1', '0', '0', '0', '1', '0', '0', '1', '0', '0', '1', '1', '0', '0', '0', '0', '1', '0', '1', '0', '0', '0', '0', '1', '0', '0', '1', '0', '0', '0', '0', '1', '1', '0', '0', '0', '1', '0', '0', '0', '1', '0', '1', '1', '0', '0', '0', '1', '1', '1', '1', '0', '0', '1', '1', '1', '0', '0', '0', '0', '0', '0', '0', '0', '1', '0', '0', '1', '1', '1', '0', '0', '0', '0', '1', '1', '1', '0', '0', '1', '1', '1', '0', '1', '0', '0', '0', '1', '0', '1', '0', '0', '0', '0', '1', '1', '1', '0', '1', '0', '1', '1', '1', '1', '1', '1', '0', '0', '0', '0', '0', '1', '1', '0', '0', '1', '0', '1', '1', '0', '1', '0', '0', '0', '1', '1', '1', '0', '1', '0', '0', '1', '0', '0', '1', '0', '0', '1', '1', '1', '0', '0', '0', '0', '1', '0', '1', '0', '0', '0', '1', '1', '0', '1', '1', '0', '1', '0', '1', '1', '0', '0', '0', '1', '0', '0', '0', '1', '0', '1', '0', '0', '0', '0', '1', '0', '0', '0', '0', '1', '0', '0', '0', '0', '0', '0', '0', '1', '1', '0', '0', '0', '1', '0', '1', '1', '0', '0', '1', '1', '1', '0', '0', '1', '1', '0', '0', '0', '1', '1', '0', '1', '0', '0', '1', '0', '0', '0', '1', '0', '1', '1', '1', '1', '0', '0', '0', '0', '1', '0', '1', '0', '1', '1', '0', '0', '0', '0', '0', '0', '0', '0', '0', '0', '1', '1', '1', '1', '0', '0', '0', '1', '1', '0', '1', '0', '0', '0', '0', '0', '0', '1', '0', '0', '1', '0', '1', '0', '1', '1', '0', '0', '0', '1', '1', '0', '0', '0', '0', '0', '0', '0', '0', '0', '1', '1', '0', '1', '1', '1', '0', '0', '1', '0', '0', '0', '1', '0', '0', '0', '0', '0', '1', '0', '0', '0', '1', '0', '1', '0', '0', '0', '0', '0', '1', '0', '1', '0', '1', '1', '1', '0', '0', '0', '1', '0', '0', '1', '0', '1', '1', '1', '0', '0', '0', '0', '0', '1', '0', '1', '1', '0', '0', '1', '1', '0', '0', '1', '0', '1', '0', '0', '0', '1', '0', '1', '0', '1', '0', '0', '0', '0', '1', '0', '0', '1', '0', '0', '0', '0', '1', '0', '1', '1', '0', '0', '0', '0', '0', '1', '1', '0', '0', '0', '1', '0', '0', '0', '0', '1', '0', '0', '0', '0', '0', '1', '1', '0', '1', '1', '0', '0', '1', '0', '1', '0', '1', '1', '0', '1', '1', '1', '0', '0', '0', '1', '1', '1', '0', '0', '0', '0', '1', '1', '0', '1', '0', '1', '0', '0', '0', '0', '0', '1', '1', '0', '0', '0', '1', '1', '0', '0', '1', '0', '1', '1', '1', '0', '1', '0', '1', '1', '1', '0', '0', '0', '0', '0', '0', '0', '0', '1', '1', '0', '0', '1', '0', '1', '0', '1', '1', '0', '0', '0', '1', '0', '1', '1', '0', '1', '1', '0', '1', '0', '0', '0', '1', '0', '1', '1', '0', '0', '0', '0', '0', '1', '1', '0', '1', '0', '0', '1', '1', '1', '0', '1', '1', '1', '0', '0', '1', '0', '1', '1', '0', '1', '1', '0', '0', '0', '0', '0', '0', '0', '1', '0', '1', '1', '1', '0', '0', '1', '0', '1', '1', '1', '1', '0', '0', '0', '1', '0', '1', '1', '1', '0', '0', '1', '1', '1', '0', '0', '1', '0', '0', '0', '1', '1', '0', '0', '0', '1', '0', '1', '0', '0', '0', '0', '0', '1', '1', '0', '0', '0', '0', '0', '0', '0', '0', '1', '1', '0', '1', '1', '1', '0', '1', '0', '1', '0', '0', '1', '1', '0', '1', '1', '0', '0', '1', '1', '1', '0', '0', '1', '0', '1', '1', '1', '1', '1', '1', '1', '0', '0', '0', '0', '1', '0', '0', '0', '1', '1', '1', '0', '0', '0', '1', '1', '1', '1', '0', '1', '1', '0', '1', '0', '0', '1', '0', '1', '1', '1', '0', '0', '1', '1', '1', '1', '1', '1', '1', '1', '0', '0', '1', '1', '0', '1', '0', '0', '1', '0', '0', '1', '0', '0', '0', '0', '0', '1', '0', '1', '0', '0', '1', '1', '0', '0', '0', '0', '0', '0', '0', '1', '1', '0', '0', '1', '0', '0', '1', '0', '1', '1', '0', '1', '0', '0', '0', '1', '0', '0', '1', '1', '0', '1', '0', '0', '0', '0', '1', '0', '0', '0', '1', '1', '0', '1', '0', '1', '0', '0', '1', '1', '0', '0', '0', '0', '0', '0', '0', '1', '0', '0', '0', '0', '1', '0', '0', '0', '0', '1', '1', '0', '1', '0', '1', '0', '0', '0', '0', '0', '0', '0', '0', '0', '0', '0', '0', '0', '1', '0', '0', '0', '0', '1', '1', '0', '1', '0', '1', '0', '1', '0', '1', '1', '0', '1', '0', '1', '0', '1', '1', '0', '0', '1', '0', '0', '0', '0', '0', '0', '0', '1', '0', '0', '1', '0', '1', '1', '0', '0', '1', '0', '0', '0', '0', '0', '1', '1', '1', '1', '0', '0', '0', '0', '0', '1', '0', '0', '0', '0', '0', '0', '1', '0', '1', '1', '0', '1', '0', '0', '0', '0', '0', '0', '0', '0', '1', '0', '1', '1', '0', '0', '0', '1', '0', '0', '1', '0', '0', '0', '0', '0', '0', '1', '1', '0', '0', '0', '0', '1', '1', '0', '0', '0', '0', '1', '0', '0', '0', '0', '1', '1', '0', '0', '0', '1', '0', '1', '1', '0', '1', '1', '1', '0', '1', '0', '0', '0', '0', '1', '0', '0', '0', '0', '0', '1', '0', '0', '0', '1', '1', '0', '0', '0', '0', '0', '0', '1', '0', '1', '1', '1', '0', '1', '0', '0', '0', '0', '0', '0', '0', '1', '0', '0', '0', '0', '0', '0', '1', '0', '1', '1', '0', '1', '0', '0', '0', '1', '0', '0', '1', '1', '0', '0', '1', '0', '1', '0', '1', '0', '1', '1', '1', '1', '1', '1', '0', '0', '0', '0', '0', '0', '1', '0', '1', '0', '1', '1', '0', '1', '0', '0', '0', '1', '1', '1', '0', '0', '0', '0', '0', '1', '0', '1', '0', '0', '1', '0', '1', '1', '1', '1', '0', '0', '0', '0', '0', '0', '0', '1', '0', '0', '1', '1', '0', '0', '0', '1', '1', '0', '1', '0', '0', '1', '1', '0', '1', '0', '0', '1', '0', '1', '0', '0', '0', '0', '0', '0', '0', '0', '0', '1', '0', '0', '0', '1', '0', '1', '1', '0', '0', '0', '0', '0', '1', '0', '1', '1', '0', '0', '1', '0', '0', '0', '0', '0', '1', '0', '1', '1', '0', '0', '0', '0', '0', '1', '1', '0', '0', '0', '1', '0', '0', '1', '0', '1', '0', '0', '1', '0', '1', '1', '1', '1', '0', '0', '0', '1', '0', '0', '0', '0', '1', '1', '0', '1', '1', '1', '1', '1', '0', '0', '1', '0', '0', '0', '0', '0', '0', '0', '1', '0', '1', '0', '0', '0', '0', '1', '0', '0', '0', '0', '0', '0', '0', '1', '0', '1', '0', '0', '0', '0', '0', '0', '0', '0', '0', '0', '0', '0', '0', '1', '0', '1', '0', '0', '0', '0', '0', '0', '1', '0', '1', '0', '1', '0', '0', '1', '1', '1', '0', '1', '0', '1', '1', '0', '1', '0', '0', '0', '1', '0', '0', '0', '1', '0', '1', '0', '0', '1', '0', '1', '0', '0', '0', '0', '0', '0', '0', '0', '0', '0', '0', '0', '1', '0', '0', '0', '1', '1', '0', '0', '0', '1', '0', '1', '1', '0', '1', '1', '0', '0', '0', '0', '0', '0', '0', '1', '0', '1', '0', '0', '0', '1', '1', '0', '0', '0', '0', '1', '1', '1', '0', '0', '1', '0', '1', '1', '1', '1', '1', '1', '0', '0']\n",
        "\n",
        "sample_labels3 = ['1', '0', '1', '0', '0', '1', '1', '0', '1', '1', '0', '0', '0', '0', '1', '0', '1', '0', '0', '0', '0', '0', '1', '0', '1', '0', '1', '0', '1', '0', '0', '1', '0', '0', '0', '0', '0', '0', '0', '0', '0', '1', '1', '0', '1', '0', '0', '0', '0', '1', '1', '1', '1', '0', '0', '0', '1', '0', '1', '0', '1', '0', '0', '0', '0', '0', '0', '0', '0', '0', '0', '1', '1', '1', '1', '0', '0', '0', '0', '1', '0', '0', '0', '1', '1', '1', '1', '1', '1', '0', '0', '1', '1', '1', '0', '0', '0', '0', '0', '0', '0', '1', '0', '1', '1', '0', '0', '0', '1', '1', '1', '0', '1', '1', '1', '0', '1', '0', '1', '0', '0', '1', '0', '1', '0', '0', '1', '0', '0', '1', '0', '0', '0', '0', '0', '1', '1', '1', '0', '1', '0', '0', '1', '1', '1', '1', '1', '0', '0', '1', '0', '0', '0', '0', '1', '0', '1', '1', '0', '0', '0', '0', '0', '0', '0', '0', '0', '0', '0', '0', '1', '0', '1', '0', '1', '1', '1', '0', '1', '0', '0', '1', '0', '1', '1', '0', '0', '0', '1', '0', '1', '0', '0', '0', '1', '0', '0', '0', '0', '1', '0', '1', '0', '0', '0', '1', '1', '0', '0', '1', '0', '1', '1', '0', '0', '1', '1', '1', '1', '0', '1', '1', '1', '0', '0', '1', '1', '1', '1', '1', '0', '1', '1', '0', '1', '1', '1', '0', '0', '1', '0', '0', '1', '0', '0', '0', '1', '0', '0', '0', '0', '1', '0', '0', '1', '0', '1', '1', '0', '1', '0', '0', '0', '1', '0', '0', '0', '1', '1', '0', '0', '0', '0', '1', '0', '1', '1', '0', '0', '1', '0', '0', '1', '0', '0', '0', '0', '0', '0', '0', '0', '1', '0', '0', '0', '1', '1', '1', '0', '1', '0', '0', '0', '0', '0', '0', '0', '0', '0', '0', '1', '1', '1', '0', '0', '0', '0', '1', '1', '0', '0', '0', '0', '1', '0', '1', '1', '0', '0', '0', '1', '0', '0', '0', '1', '0', '0', '0', '0', '1', '1', '0', '1', '0', '0', '1', '1', '0', '0', '0', '1', '0', '1', '1', '1', '1', '1', '0', '0', '0', '0', '0', '1', '0', '1', '1', '1', '1', '0', '1', '0', '0', '1', '0', '0', '0', '1', '0', '1', '0', '0', '0', '0', '1', '1', '0', '0', '0', '1', '0', '1', '0', '1', '0', '0', '1', '0', '0', '0', '0', '1', '1', '1', '0', '1', '0', '1', '0', '1', '0', '0', '0', '0', '0', '1', '0', '0', '0', '0', '1', '1', '0', '0', '1', '0', '0', '1', '0', '0', '0', '0', '1', '0', '1', '0', '0', '1', '0', '0', '1', '0', '0', '1', '0', '0', '0', '0', '0', '1', '0', '0', '0', '0', '1', '0', '0', '0', '1', '1', '0', '1', '1', '1', '1', '0', '0', '0', '0', '1', '0', '1', '0', '1', '0', '0', '0', '0', '0', '1', '1', '1', '1', '0', '0', '0', '0', '0', '0', '1', '0', '0', '0', '0', '1', '0', '0', '0', '1', '1', '0', '0', '1', '0', '0', '1', '0', '0', '0', '0', '1', '1', '1', '0', '0', '1', '1', '1', '0', '0', '1', '0', '0', '1', '1', '0', '0', '0', '0', '0', '0', '0', '0', '1', '1', '0', '1', '0', '0', '1', '0', '0', '1', '1', '0', '0', '0', '1', '1', '1', '0', '0', '0', '0', '1', '1', '0', '0', '1', '1', '0', '1', '1', '0', '0', '0', '1', '1', '0', '0', '1', '1', '0', '0', '0', '1', '0', '1', '0', '0', '0', '0', '0', '1', '1', '1', '0', '1', '1', '1', '1', '1', '1', '1', '0', '1', '0', '1', '1', '1', '1', '1', '1', '0', '0', '0', '1', '1', '0', '1', '0', '0', '0', '1', '1', '0', '1', '0', '1', '0', '0', '1', '1', '1', '0', '1', '0', '1', '0', '0', '0', '0', '0', '1', '0', '1', '0', '0', '0', '0', '1', '1', '1', '0', '1', '0', '1', '1', '0', '1', '0', '1', '1', '0', '0', '1', '0', '0', '0', '1', '0', '0', '1', '0', '0', '0', '1', '0', '0', '0', '0', '0', '1', '1', '0', '0', '0', '0', '0', '1', '1', '0', '0', '0', '0', '0', '1', '0', '1', '0', '1', '0', '1', '0', '1', '0', '0', '0', '1', '0', '1', '0', '1', '0', '0', '1', '0', '1', '1', '0', '0', '0', '0', '0', '1', '0', '0', '0', '1', '0', '0', '0', '0', '1', '0', '0', '0', '0', '1', '1', '0', '1', '1', '0', '1', '1', '1', '0', '1', '1', '0', '0', '0', '0', '0', '0', '1', '0', '1', '0', '1', '0', '0', '0', '0', '1', '0', '1', '0', '0', '0', '0', '0', '1', '0', '1', '1', '0', '1', '0', '1', '1', '0', '0', '1', '1', '0', '0', '0', '1', '1', '0', '0', '0', '0', '1', '1', '0', '0', '1', '0', '0', '1', '0', '0', '0', '1', '0', '1', '0', '1', '0', '0', '1', '0', '0', '0', '1', '0', '1', '0', '1', '1', '1', '1', '1', '0', '0', '0', '0', '1', '1', '0', '0', '0', '0', '0', '1', '0', '0', '0', '0', '1', '1', '1', '0', '0', '1', '0', '0', '1', '0', '0', '0', '1', '0', '1', '0', '0', '0', '0', '1', '0', '0', '0', '0', '0', '0', '0', '1', '0', '0', '0', '1', '0', '1', '1', '0', '1', '1', '1', '1', '1', '0', '0', '0', '1', '0', '0', '0', '0', '0', '0', '1', '1', '0', '0', '0', '0', '0', '0', '1', '0', '1', '0', '0', '0', '1', '0', '1', '0', '0', '0', '0', '1', '0', '1', '0', '0', '0', '0', '1', '1', '0', '0', '0', '1', '1', '1', '0', '1', '1', '0', '1', '0', '0', '0', '1', '1', '1', '0', '0', '0', '1', '0', '1', '1', '0', '0', '1', '0', '0', '0', '1', '0', '0', '0', '1', '0', '0', '1', '1', '0', '0', '0', '0', '0', '0', '0', '0', '1', '1', '1', '1', '0', '1', '0', '0', '0', '0', '1', '1', '0', '1', '1', '0', '0', '1', '0', '0', '0', '1', '0', '1', '0', '1', '0', '1', '0', '1', '1', '1', '0', '0', '0', '1', '1', '0', '0', '1', '0', '0', '1', '0', '0', '1', '1', '0', '1', '0', '0', '0', '1', '0', '0', '0', '0', '1', '1', '0', '0', '0', '1', '0', '0', '0', '0', '0', '0', '1', '1', '0', '1', '0', '0', '1', '0', '0', '0', '0', '1', '0', '1', '0', '0', '0', '1', '0', '0', '1', '0', '0', '1', '1', '1', '1', '1', '0', '1', '0', '1', '1', '1', '0', '0', '1', '0', '0', '0', '0', '0', '0', '1', '0', '1', '0', '1', '0', '1', '1', '1', '0', '1', '0', '1', '1', '0', '0', '1', '0', '0', '1', '1', '0', '0', '0', '0', '0', '1', '1', '0', '1', '0', '0', '1', '1', '0', '1', '0', '0', '0', '0', '0', '1', '0', '0', '0', '0', '0', '1', '0', '1', '1', '1', '0', '0', '0', '1', '1', '0', '0', '0', '0', '0', '0', '0', '0', '1', '0', '0', '0', '0', '1', '1', '1', '1', '0', '0', '0', '0', '0', '0', '0', '0', '1', '0', '1', '0', '0', '1', '0', '0', '0', '0', '0', '1', '0', '0', '0', '0', '1', '1', '0', '1', '1', '0', '0', '0', '1', '1', '0', '1', '0', '0', '0', '1', '0', '0', '0', '1', '0', '1', '0', '1', '0', '1', '0', '1', '0', '0', '1', '0', '0', '1', '0', '0', '0', '0', '0', '1', '1', '1', '0', '0', '0', '0', '0', '1', '1', '0', '0', '1', '0', '0', '0', '0', '0', '0', '0', '0', '0', '0', '0', '0', '1', '0', '0', '1', '0', '1', '1', '0', '1', '0', '0', '0', '1', '0', '0', '1', '0', '0', '1', '0', '0', '1', '1', '0', '0', '1', '1', '1', '1', '0', '1', '0', '1', '0', '1', '0', '0', '1', '0', '1', '0', '1', '0', '0', '0', '0', '0', '0', '0', '0', '1', '1', '0', '0', '1', '0', '0', '1', '0', '1', '1', '1', '1', '0', '1', '0', '0', '1', '0', '0', '1', '1', '0', '0', '1', '1', '1', '0', '1', '1', '0', '1', '1', '0', '0', '1', '1', '1', '0', '0', '0', '0', '1', '0', '0', '0', '1', '0', '0', '1', '1', '0', '0', '0', '1', '0', '0', '1', '1', '1', '1', '0', '1', '0', '1', '0', '0', '1', '1', '1', '0', '0', '0', '1', '0', '1', '0', '0', '0', '1', '1', '0', '0', '1', '0', '0', '1', '1', '0', '0', '0', '0', '1', '1', '0', '0', '1', '1', '1', '0', '0', '1', '0', '1', '0', '1', '1', '1', '1', '1', '1', '1', '0', '0', '0', '0', '1', '0', '0', '1', '0', '1', '0', '1', '0', '1', '1', '1', '0', '0', '1', '0', '1', '0', '0', '0', '1', '0', '0', '0', '1', '1', '0', '1', '1', '1', '0', '1', '1', '0', '1', '0', '1', '1', '0', '1', '1', '1', '1', '1', '1', '1', '0', '1', '1', '0', '0', '1', '1', '1', '1', '0', '0', '0', '1', '0', '1', '0', '0', '0', '0', '0', '0', '1', '1', '0', '1', '1', '0', '0', '1', '1', '0', '0', '1', '0', '1', '1', '0', '0', '0', '0', '0', '1', '1', '1', '0', '1', '0', '0', '1', '0', '0', '1', '1', '0', '0', '0', '0', '0', '0', '1', '0', '1', '0', '1', '1', '1', '1', '0', '1', '0', '1', '0', '1', '0', '0', '1', '1', '0', '1', '1', '0', '0', '1', '0', '1', '0', '1', '0', '0', '0', '0', '1', '1', '0', '0', '1', '1', '0', '0', '0', '1', '1', '0', '0', '0', '0', '1', '0', '0', '0', '0', '0', '1', '0', '0', '0', '0', '0', '0', '0', '0', '0', '0', '1', '0', '1', '1', '1', '0', '0', '0', '0', '0', '1', '0', '0', '0', '0', '1', '0', '0', '1', '1', '0', '0', '1', '1', '1', '1', '1', '1', '0', '0', '0', '0', '0', '1', '0', '0', '1', '1', '1', '0', '0', '1', '0', '0', '0', '1', '0', '0', '1', '1', '0', '1', '1', '0', '1', '0', '1', '0', '0', '1', '1', '1', '1', '1', '0', '0', '0', '0', '1', '0', '0', '0', '0', '0', '1', '0', '0', '0', '1', '1', '0', '1', '0', '0', '0', '1', '0', '0', '0', '0', '0', '0', '0', '0', '0', '0', '0', '0', '1', '1', '1', '0', '1', '1', '0', '0', '1', '0', '0', '0', '1', '1', '1', '1', '0', '0', '1', '0', '1', '1', '0', '1', '1', '1', '0', '1', '1', '0', '1', '1', '1', '1', '1', '1', '0', '0', '0', '0', '0', '0', '0', '0', '0', '1', '0', '0', '1', '0', '0', '0', '0', '1', '1', '0', '1', '0', '0', '0', '1', '0', '1', '1', '0', '0', '1', '0', '0', '0', '1', '1', '0', '0', '0', '1', '0', '0', '1', '0', '1', '0', '0', '1', '1', '0', '0', '0', '1', '0', '1', '1', '0', '0', '0', '1', '0', '0', '0', '0', '1', '0', '0', '0', '0', '0', '1', '0', '0', '1', '0', '0', '0', '0', '1', '0', '0', '1', '0', '1', '0', '0', '1', '1', '0', '0', '0', '1', '0', '0', '1', '0', '0', '0', '0', '1', '0', '1', '0', '0', '0', '0', '1', '1', '0', '1', '1', '0', '1', '1', '1', '1', '1', '1', '0', '1', '0', '1', '1', '0', '0', '0', '0', '0', '1', '0', '1', '0', '0', '0', '0', '0', '1', '0', '1', '1', '1', '1', '1', '0', '0', '1', '1', '0', '0', '0', '1', '0', '0', '1', '0', '1', '1', '1', '0', '1', '1', '0', '0', '1', '1', '0', '0', '1', '0', '1', '1', '1', '0', '0', '0', '0', '0', '1', '1', '1', '0', '1', '0', '1', '1', '0', '0', '0', '0', '0', '1', '0', '0', '0', '0', '0', '0', '0', '0', '0', '1', '0', '0', '1', '0', '0', '0', '0', '0', '0', '0', '1', '0', '1', '0', '1', '1', '0', '1', '1', '1', '1', '1', '0', '0', '0', '0', '0', '1', '0', '0', '0', '0', '0', '0', '1', '0', '0', '1', '0', '1', '1', '0', '1', '0', '0', '0', '1', '0', '0', '0', '0', '0', '0', '0', '0', '0', '0', '0', '0', '1', '0', '0', '1', '1', '0', '0', '0', '0', '0', '1', '1', '0', '0', '0', '1', '1', '0', '0', '0', '0', '0', '0', '0', '0', '1', '0', '1', '0', '1', '1', '1', '0', '0', '1', '0', '0', '1', '0', '0', '1', '1', '0', '1', '1', '1', '0', '0', '0', '0', '0', '1', '0', '1', '0', '1', '1', '1', '0', '1', '0', '1', '0', '0', '0', '1', '0', '0', '1', '0', '0', '1', '1', '0', '1', '0', '1', '0', '0', '1', '1', '0', '0', '0', '1', '0', '0', '0', '1', '1', '0', '1', '0', '0', '0', '0', '1', '1', '1', '1', '1', '0', '0', '0', '1', '1', '1', '1', '1', '1', '1', '0', '1', '0', '0', '0', '1', '1', '0', '1', '1', '0', '1', '0', '1', '0', '1', '1', '0', '0', '0', '1', '1', '0', '0', '0', '0', '1', '0', '0', '1', '0', '0', '0', '1', '0', '1', '0', '0', '0', '0', '1', '0', '0', '1', '0', '0', '0', '0', '0', '0', '0', '1', '1', '1', '0', '1', '0', '0', '0', '0', '0', '0', '1', '1', '1', '1', '0', '1', '0', '1', '0', '0', '0', '1', '1', '0', '0', '0', '0', '1', '1', '0', '1', '0', '1', '0', '0', '0', '0', '0', '1', '0', '0', '1', '1', '1', '0', '0', '0', '1', '1', '0', '1', '0', '0', '0', '1', '0', '0', '1', '1', '0', '1', '0', '0', '0', '0', '0', '0', '0', '0', '1', '1', '1', '1', '1', '0', '0', '0', '1', '0', '1', '0', '0', '0', '1', '0', '1', '1', '0', '1', '1', '1', '1', '0', '1', '0', '1', '0', '0', '1', '0', '0', '1', '0', '0', '0', '1', '0', '1', '1', '0', '1', '0', '1', '0', '1', '1', '1', '1', '1', '0', '1', '1', '0', '1', '0', '0', '0', '1', '0', '1', '1', '1', '1', '0', '1', '1', '1', '0', '1', '0', '1', '1', '0', '0', '1', '1', '0', '0', '0', '0', '1', '1', '0', '0', '1', '1', '0', '0', '0', '0', '1', '1', '1', '1', '0', '0', '1', '0', '1', '1', '0', '1', '0', '1', '0', '0', '0', '1', '0', '1', '1', '1', '0', '1', '0', '1', '1', '0', '0', '0', '0', '1', '0', '0', '0', '0', '1', '1', '1', '1', '0', '1', '0', '1', '0', '1', '1', '1', '1', '0', '0', '0', '0', '1', '1', '0', '1', '0', '0', '1', '0', '0', '0', '0', '0', '1', '0', '1', '0', '0', '0', '0', '1', '0', '0', '0', '0', '0', '1', '1', '1', '1', '1', '1', '0', '0', '0', '1', '0', '0', '1', '1', '0', '1', '1', '1', '0', '0', '0', '1', '1', '1', '1', '0', '1', '0', '0', '1', '1', '1', '1', '1', '0', '1', '0', '0', '1', '1', '0', '0', '1', '0', '1', '1', '1', '0', '0', '0', '0', '0', '1', '0', '0', '0', '0', '0', '0', '1', '1', '0', '0', '1', '1', '0', '1', '1', '1', '1', '1', '0', '0', '1', '1', '1', '0', '0', '1', '0', '0', '0', '0', '0', '1', '1', '1', '1', '1', '0', '0', '1', '0', '1', '0', '0', '0', '0', '0', '0', '1', '1', '0', '0', '0', '0', '1', '0', '1', '1', '1', '0', '1', '0', '0', '1', '0', '1', '1', '0', '1', '1', '0', '0', '0', '0', '1', '1', '0', '1', '1', '0', '1', '1', '0', '0', '0', '0', '1', '1', '0', '0', '0', '1', '0', '0', '1', '1', '0', '0', '1', '0', '1', '0', '0', '0', '1', '1', '0', '0', '0', '0', '0', '0', '0', '1', '0', '1', '0', '1', '0', '1', '0', '0', '0', '1', '1', '1', '0', '0', '0', '1', '1', '0', '1', '1', '1', '0', '1', '1', '0', '1', '0', '1', '1', '1', '0', '0', '1', '0', '1', '1', '1', '0', '1', '0', '0', '0', '0', '1', '0', '0', '0', '0', '0', '0', '1', '0', '0', '1', '1', '1', '0', '0', '1', '0', '0', '0', '1', '0', '0', '1', '0', '1', '1', '1']\n",
        "\n",
        "sample_labels4 = ['0', '0', '0', '0', '0', '0', '0', '1', '1', '0', '0', '0', '1', '1', '0', '0', '0', '1', '0', '1', '1', '1', '1', '0', '0', '0', '1', '1', '0', '1', '1', '0', '0', '1', '0', '1', '0', '0', '1', '1', '0', '1', '0', '1', '1', '0', '0', '0', '1', '1', '0', '1', '0', '0', '0', '0', '1', '1', '0', '1', '1', '0', '1', '1', '0', '0', '1', '0', '1', '0', '1', '1', '0', '0', '0', '1', '1', '0', '0', '1', '1', '0', '1', '0', '0', '0', '0', '1', '0', '0', '1', '0', '0', '0', '0', '0', '1', '1', '1', '0', '1', '0', '0', '0', '1', '1', '1', '1', '1', '0', '0', '0', '1', '1', '0', '0', '0', '0', '0', '1', '0', '0', '0', '0', '1', '0', '0', '0', '0', '1', '0', '1', '0', '1', '0', '0', '0', '1', '0', '0', '0', '0', '0', '0', '1', '0', '1', '1', '1', '1', '1', '1', '0', '0', '1', '0', '1', '0', '0', '0', '1', '1', '0', '0', '0', '1', '0', '1', '0', '0', '0', '1', '1', '0', '0', '1', '0', '0', '1', '1', '0', '0', '1', '0', '1', '0', '0', '0', '1', '0', '0', '1', '0', '0', '1', '1', '0', '0', '1', '0', '1', '1', '0', '1', '0', '0', '1', '1', '0', '0', '1', '0', '0', '1', '0', '0', '0', '0', '1', '1', '1', '0', '0', '1', '1', '0', '1', '1', '1', '0', '1', '1', '1', '1', '1', '1', '0', '0', '0', '1', '1', '1', '1', '0', '0', '0', '0', '0', '0', '1', '1', '0', '0', '0', '0', '1', '0', '1', '0', '0', '0', '0', '0', '0', '0', '1', '0', '0', '1', '0', '1', '0', '0', '1', '1', '1', '1', '0', '0', '1', '0', '1', '1', '1', '1', '1', '1', '1', '1', '0', '1', '0', '1', '1', '0', '1', '0', '0', '0', '1', '0', '0', '1', '0', '0', '0', '0', '0', '0', '0', '1', '0', '1', '0', '1', '0', '1', '0', '1', '0', '1', '1', '1', '0', '0', '1', '1', '0', '0', '1', '0', '1', '1', '0', '0', '1', '0', '1', '1', '0', '0', '1', '0', '1', '0', '1', '0', '1', '0', '0', '1', '1', '0', '0', '0', '1', '1', '0', '0', '0', '0', '0', '0', '1', '0', '1', '1', '1', '0', '1', '0', '0', '1', '0', '0', '0', '0', '1', '0', '1', '1', '0', '0', '1', '1', '1', '1', '1', '0', '1', '1', '0', '1', '0', '0', '1', '1', '0', '1', '1', '0', '1', '1', '1', '0', '0', '0', '1', '1', '0', '0', '0', '1', '1', '0', '0', '0', '0', '1', '0', '1', '0', '1', '1', '1', '0', '1', '1', '1', '0', '0', '0', '0', '0', '1', '0', '1', '0', '0', '1', '0', '0', '1', '0', '0', '0', '0', '0', '1', '1', '0', '1', '0', '0', '0', '1', '1', '0', '0', '1', '0', '0', '0', '0', '0', '1', '0', '0', '0', '0', '0', '0', '0', '0', '0', '0', '1', '0', '1', '0', '1', '0', '1', '1', '1', '0', '0', '0', '0', '1', '0', '1', '1', '1', '0', '0', '0', '0', '0', '0', '1', '1', '0', '0', '0', '0', '0', '0', '0', '0', '1', '0', '0', '1', '0', '0', '1', '0', '1', '0', '0', '0', '0', '1', '0', '1', '0', '0', '0', '0', '1', '0', '0', '0', '1', '1', '0', '0', '0', '0', '0', '0', '0', '0', '0', '0', '1', '0', '0', '1', '1', '1', '0', '1', '0', '0', '0', '1', '0', '1', '0', '0', '0', '0', '1', '0', '0', '1', '0', '1', '0', '1', '0', '1', '1', '0', '1', '0', '0', '0', '0', '0', '1', '0', '0', '0', '0', '1', '0', '1', '1', '0', '0', '1', '1', '0', '0', '0', '1', '1', '1', '1', '1', '0', '0', '1', '0', '0', '1', '0', '0', '0', '1', '0', '1', '0', '0', '1', '0', '0', '0', '1', '1', '0', '1', '0', '0', '0', '1', '0', '1', '1', '0', '0', '0', '0', '0', '0', '0', '0', '0', '0', '1', '0', '0', '0', '0', '1', '1', '1', '0', '1', '0', '0', '0', '0', '0', '0', '1', '1', '1', '0', '1', '0', '1', '0', '0', '0', '0', '1', '1', '1', '0', '1', '0', '0', '0', '1', '1', '0', '0', '1', '0', '0', '1', '1', '0', '1', '1', '0', '1', '1', '0', '0', '1', '0', '1', '0', '1', '0', '0', '0', '0', '1', '0', '0', '0', '0', '1', '0', '1', '1', '0', '1', '0', '0', '0', '0', '1', '0', '1', '1', '1', '0', '1', '0', '0', '0', '1', '1', '0', '1', '0', '0', '0', '0', '1', '1', '1', '1', '0', '0', '0', '0', '0', '1', '0', '0', '0', '1', '1', '1', '0', '1', '0', '0', '0', '0', '0', '1', '0', '0', '1', '0', '1', '0', '0', '0', '0', '0', '0', '0', '0', '0', '0', '0', '0', '0', '0', '0', '1', '1', '0', '1', '1', '0', '0', '0', '1', '1', '0', '1', '0', '0', '0', '0', '1', '0', '0', '0', '1', '0', '0', '0', '0', '0', '0', '0', '0', '0', '1', '0', '0', '1', '0', '0', '0', '0', '0', '0', '0', '0', '1', '1', '1', '1', '0', '0', '0', '0', '1', '1', '0', '0', '0', '0', '0', '1', '0', '0', '0', '0', '1', '0', '1', '1', '1', '1', '0', '1', '0', '1', '1', '1', '1', '1', '0', '1', '0', '1', '1', '0', '1', '0', '0', '1', '1', '1', '0', '1', '1', '0', '1', '1', '0', '0', '1', '0', '0', '0', '0', '0', '1', '0', '0', '1', '1', '0', '0', '1', '0', '1', '0', '0', '0', '1', '1', '1', '0', '1', '0', '0', '0', '0', '0', '0', '0', '0', '1', '1', '0', '0', '0', '0', '0', '0', '0', '1', '0', '1', '0', '0', '0', '1', '0', '0', '0', '0', '1', '0', '0', '0', '0', '0', '0', '1', '1', '1', '0', '1', '0', '1', '1', '0', '1', '0', '1', '0', '1', '1', '1', '0', '1', '1', '1', '0', '0', '1', '1', '0', '0', '1', '1', '1', '1', '0', '1', '0', '0', '0', '0', '0', '0', '0', '1', '0', '1', '1', '0', '0', '0', '0', '1', '0', '0', '0', '1', '1', '0', '1', '0', '0', '1', '0', '1', '0', '1', '0', '1', '0', '1', '0', '0', '0', '0', '1', '0', '0', '1', '0', '0', '0', '0', '0', '0', '0', '1', '1', '0', '0', '0', '0', '0', '1', '0', '0', '0', '0', '0', '0', '1', '0', '1', '1', '1', '0', '1', '1', '1', '1', '0', '0', '0', '1', '0', '0', '1', '0', '0', '0', '1', '0', '0', '0', '1', '0', '0', '0', '1', '0', '1', '0', '0', '0', '0', '0', '1', '0', '0', '0', '0', '0', '1', '0', '0', '1', '0', '0', '0', '0', '1', '0', '0', '0', '0', '0', '0', '1', '1', '0', '0', '0', '0', '0', '0', '0', '1', '1', '1', '0', '0', '0', '0', '0', '0', '1', '1', '0', '0', '1', '1', '0', '0', '0', '0', '0', '1', '0', '0', '1', '0', '0', '0', '1', '0', '0', '0', '0', '1', '0', '0', '0', '1', '1', '1', '0', '1', '1', '1', '0', '1', '1', '1', '0', '0', '1', '1', '0', '1', '0', '1', '0', '0', '1', '0', '1', '1', '1', '0', '1', '1', '1', '0', '1', '1', '1', '1', '0', '0', '0', '0', '0', '1', '0', '0', '0', '1', '0', '0', '1', '0', '1', '0', '0', '1', '0', '0', '1', '0', '0', '0', '1', '1', '0', '0', '0', '0', '0', '1', '1', '0', '1', '1', '1', '0', '1', '0', '1', '1', '0', '0', '1', '0', '1', '0', '0', '0', '0', '1', '0', '0', '1', '0', '1', '0', '0', '0', '0', '0', '0', '1', '0', '1', '1', '1', '1', '0', '0', '0', '0', '0', '1', '0', '0', '1', '0', '1', '1', '0', '1', '1', '0', '1', '0', '0', '0', '0', '1', '0', '1', '0', '0', '0', '0', '0', '1', '0', '0', '1', '0', '1', '0', '0', '0', '0', '0', '0', '1', '0', '0', '1', '0', '0', '0', '0', '0', '0', '0', '1', '1', '1', '0', '0', '0', '0', '1', '0', '0', '0', '1', '0', '0', '1', '1', '1', '0', '1', '0', '0', '0', '0', '0', '1', '0', '0', '1', '0', '1', '0', '0', '1', '0', '0', '0', '1', '0', '0', '1', '0', '0', '1', '0', '1', '0', '0', '0', '1', '1', '0', '0', '0', '0', '0', '0', '1', '1', '0', '0', '0', '1', '0', '1', '1', '1', '0', '1', '1', '1', '0', '1', '0', '1', '1', '1', '0', '0', '1', '1', '0', '0', '1', '0', '0', '0', '1', '0', '1', '0', '0', '0', '1', '0', '0', '1', '1', '1', '0', '1', '1', '0', '0', '1', '0', '1', '1', '0', '0', '0', '0', '0', '0', '1', '1', '0', '0', '1', '1', '0', '1', '0', '0', '0', '0', '0', '1', '0', '1', '0', '0', '0', '0', '0', '0', '0', '1', '1', '1', '0', '1', '0', '0', '0', '1', '0', '0', '1', '0', '0', '1', '0', '0', '0', '1', '0', '0', '1', '0', '0', '0', '0', '0', '0', '1', '0', '0', '1', '0', '0', '0', '0', '0', '0', '1', '0', '1', '0', '1', '1', '0', '1', '0', '0', '1', '0', '1', '1', '1', '1', '0', '0', '0', '0', '0', '0', '0', '1', '0', '0', '0', '0', '0', '1', '0', '1', '0', '0', '0', '1', '0', '0', '0', '1', '0', '0', '0', '1', '0', '1', '1', '0', '0', '0', '0', '0', '1', '0', '0', '1', '1', '1', '1', '0', '1', '0', '1', '0', '0', '0', '0', '1', '0', '1', '1', '1', '0', '0', '0', '1', '1', '1', '0', '0', '0', '0', '0', '1', '0', '0', '1', '1', '1', '0', '0', '0', '0', '1', '0', '0', '1', '0', '1', '1', '1', '0', '0', '0', '0', '1', '0', '1', '0', '0', '1', '0', '1', '1', '0', '0', '0', '1', '0', '0', '1', '0', '0', '0', '1', '1', '1', '0', '0', '0', '1', '0', '1', '1', '0', '1', '1', '0', '1', '0', '0', '1', '1', '0', '1', '0', '1', '0', '0', '0', '1', '0', '0', '1', '0', '0', '0', '0', '1', '1', '0', '0', '1', '1', '0', '0', '1', '1', '0', '1', '1', '0', '1', '1', '1', '1', '0', '0', '0', '0', '1', '0', '1', '0', '1', '0', '0', '1', '0', '0', '1', '0', '1', '0', '0', '0', '1', '1', '0', '1', '0', '0', '0', '1', '0', '1', '1', '0', '1', '1', '1', '1', '0', '1', '1', '0', '1', '0', '0', '0', '0', '1', '0', '0', '1', '0', '0', '0', '0', '0', '0', '1', '1', '0', '0', '0', '0', '0', '0', '1', '1', '1', '0', '0', '0', '0', '1', '1', '0', '0', '1', '0', '0', '0', '1', '1', '0', '0', '1', '0', '1', '1', '0', '0', '0', '1', '1', '1', '0', '0', '1', '0', '1', '0', '0', '0', '0', '0', '0', '1', '0', '0', '0', '0', '1', '0', '1', '1', '1', '1', '0', '0', '0', '0', '0', '1', '0', '0', '1', '1', '0', '0', '0', '0', '0', '0', '0', '0', '1', '0', '0', '1', '0', '1', '0', '0', '1', '1', '1', '0', '1', '0', '0', '1', '1', '0', '0', '0', '1', '0', '0', '1', '1', '1', '0', '0', '0', '1', '0', '0', '1', '0', '1', '0', '0', '0', '1', '1', '0', '0', '0', '0', '0', '0', '0', '0', '0', '1', '1', '0', '1', '0', '0', '0', '1', '1', '0', '1', '0', '0', '0', '0', '0', '1', '0', '1', '0', '0', '0', '0', '0', '0', '0', '0', '0', '0', '1', '1', '0', '1', '0', '1', '1', '0', '1', '1', '0', '0', '0', '1', '1', '0', '1', '0', '1', '0', '1', '0', '1', '0', '1', '0', '1', '1', '1', '1', '1', '1', '1', '0', '0', '1', '0', '0', '1', '1', '0', '1', '0', '1', '0', '1', '1', '1', '1', '0', '0', '0', '0', '1', '0', '0', '0', '0', '0', '0', '0', '1', '0', '0', '1', '0', '0', '0', '1', '0', '1', '1', '0', '0', '1', '0', '1', '0', '0', '0', '1', '0', '0', '0', '0', '0', '1', '0', '1', '1', '0', '1', '1', '0', '0', '1', '1', '0', '0', '1', '1', '1', '1', '1', '0', '0', '0', '1', '0', '0', '0', '0', '0', '1', '1', '0', '0', '1', '0', '0', '1', '0', '0', '1', '1', '0', '1', '0', '1', '1', '0', '1', '1', '1', '0', '0', '1', '0', '1', '0', '0', '0', '1', '0', '0', '1', '0', '0', '0', '1', '1', '0', '1', '0', '0', '0', '0', '0', '1', '0', '0', '1', '0', '0', '1', '0', '0', '1', '0', '0', '0', '0', '1', '0', '0', '0', '0', '0', '1', '0', '0', '0', '1', '0', '0', '0', '0', '0', '0', '1', '0', '1', '0', '0', '0', '0', '1', '0', '0', '1', '0', '1', '0', '1', '0', '0', '0', '0', '1', '0', '0', '0', '0', '0', '0', '0', '1', '0', '1', '0', '1', '0', '1', '1', '0', '0', '1', '0', '0', '0', '1', '0', '1', '1', '0', '1', '0', '1', '0', '1', '0', '1', '0', '0', '0', '1', '0', '0', '1', '0', '1', '1', '0', '1', '1', '0', '0', '1', '0', '1', '0', '0', '0', '1', '1', '0', '0', '0', '1', '0', '0', '0', '1', '1', '0', '0', '1', '1', '0', '0', '1', '0', '1', '1', '0', '0', '1', '0', '1', '0', '0', '1', '1', '1', '1', '0', '0', '0', '0', '0', '1', '1', '0', '1', '0', '0', '1', '1', '1', '1', '0', '1', '1', '0', '1', '1', '1', '1', '1', '0', '0', '1', '1', '0', '0', '1', '0', '1', '1', '0', '0', '0', '1', '1', '0', '0', '1', '1', '1', '0', '0', '0', '1', '0', '0', '0', '1', '0', '0', '0', '1', '0', '0', '1', '0', '0', '0', '0', '0', '1', '0', '0', '1', '0', '0', '0', '1', '1', '0', '1', '1', '1', '0', '1', '0', '1', '0', '0', '1', '0', '0', '1', '0', '1', '0', '0', '0', '0', '1', '0', '0', '0', '0', '0', '0', '1', '0', '0', '0', '1', '1', '0', '1', '0', '0', '0', '0', '0', '0', '0', '0', '0', '1', '0', '1', '0', '1', '1', '0', '0', '1', '1', '1', '1', '1', '1', '0', '1', '1', '1', '1', '1', '0', '1', '1', '0', '0', '1', '0', '0', '0', '1', '1', '1', '1', '1', '0', '0', '1', '0', '1', '0', '0', '1', '0', '1', '0', '0', '1', '1', '0', '0', '1', '1', '0', '0', '0', '1', '1', '0', '1', '0', '0', '0', '1', '1', '1', '0', '1', '1', '1', '0', '0', '0', '0', '0', '0', '0', '1', '0', '1', '0', '0', '0', '1', '0', '0', '0', '0', '0', '0', '0', '1', '0', '0', '0', '1', '1', '0', '1', '0', '0', '0', '0', '1', '1', '1', '0', '0', '1', '1', '0', '0', '1', '1', '1', '0', '0', '0', '0', '1', '1', '0', '0', '0', '0', '0', '0', '1', '0', '1', '0', '0', '1', '1', '0', '1', '0', '0', '0', '0', '1', '1', '1', '1', '1', '0', '1', '0', '0', '0', '1', '1', '0', '1', '0', '0', '0', '0', '0', '0', '1', '1', '0', '0', '1', '0', '1', '0', '0', '0', '0', '1', '0', '1', '1', '1', '0', '0', '0', '0', '0', '0', '1', '0', '0', '0', '0', '0', '1', '0', '0', '0', '0', '0', '0', '0', '0', '1', '1', '1', '0', '1', '1', '0', '0', '0', '1', '1', '1', '0', '1', '1', '1', '0', '1', '0', '1', '0', '1', '1', '1', '1', '0', '0', '0', '0', '0', '1', '1', '0', '0', '0', '1', '0', '0', '1', '0', '0', '1', '0', '1', '0', '0', '0', '0', '0', '0', '1', '1', '1', '1', '0', '1', '1', '0', '0', '1', '0', '0', '1', '1', '1', '1', '0', '1', '0', '0', '0', '0', '0', '0', '0', '1', '1', '0', '0', '0', '1', '0', '1', '1', '0', '1', '0', '0', '0', '1', '0', '1', '0', '0', '1', '0', '1', '0', '0', '0', '0', '0', '0', '0', '0', '1', '1', '0', '0', '0', '0', '0', '0', '1', '1', '0', '0', '0', '1', '0', '1', '0', '0', '0', '0', '1', '0', '1', '1', '0', '1', '0', '0', '0', '0', '0', '0', '0', '1', '0', '1', '1', '1', '1', '0', '0', '1', '1', '0', '0', '1', '0', '0', '0', '0', '0', '0', '0', '1', '1', '0', '1', '1', '1', '0', '0', '0', '0', '1', '1', '0', '1', '1', '1', '0', '1', '0', '1', '0', '0', '0', '0', '0', '0', '0', '0', '0', '0', '0', '0', '1', '0', '0', '1', '0', '0', '1', '1', '1', '0', '0', '0', '1', '0', '1', '0', '1', '1', '1', '1', '1', '0', '0', '1', '1', '1', '0', '1', '0', '0', '0', '0', '0', '0', '1', '0', '0', '0', '1', '0', '0', '1', '0', '1', '1', '1', '0', '1', '0', '1', '0', '1', '0', '1', '1', '0', '0', '1', '0', '0', '0', '0', '0', '1', '0', '1', '1', '1', '1', '1', '1', '1', '0', '1', '1']\n",
        "\n",
        "sample_labels5 = ['1', '1', '1', '0', '1', '0', '1', '0', '0', '0', '0', '1', '0', '1', '0', '0', '1', '1', '0', '0', '0', '1', '0', '1', '1', '1', '0', '0', '1', '1', '0', '1', '1', '0', '0', '1', '1', '1', '0', '0', '1', '0', '0', '1', '0', '1', '1', '0', '1', '1', '0', '0', '0', '1', '0', '0', '0', '0', '1', '0', '1', '1', '0', '0', '0', '0', '1', '1', '0', '0', '0', '1', '0', '1', '1', '1', '1', '1', '1', '0', '1', '1', '0', '0', '1', '0', '0', '1', '1', '0', '0', '0', '1', '0', '1', '1', '0', '0', '1', '1', '1', '0', '1', '1', '0', '0', '0', '0', '0', '1', '0', '0', '1', '1', '0', '1', '0', '1', '1', '0', '1', '0', '1', '1', '0', '0', '0', '0', '1', '1', '1', '1', '0', '0', '1', '0', '1', '1', '1', '1', '0', '0', '1', '0', '0', '0', '0', '0', '0', '1', '0', '0', '1', '0', '1', '0', '1', '0', '1', '0', '0', '0', '0', '1', '1', '0', '0', '1', '0', '0', '0', '1', '1', '1', '1', '0', '1', '0', '0', '1', '0', '0', '0', '0', '1', '1', '1', '0', '0', '0', '0', '0', '1', '0', '0', '1', '0', '1', '1', '0', '0', '0', '1', '1', '0', '0', '0', '0', '1', '1', '1', '0', '1', '1', '0', '1', '1', '1', '1', '0', '0', '0', '1', '0', '1', '0', '0', '0', '1', '0', '0', '1', '0', '0', '0', '0', '0', '1', '0', '1', '1', '0', '1', '0', '0', '0', '0', '1', '0', '0', '1', '0', '0', '0', '1', '1', '0', '0', '1', '0', '1', '0', '1', '0', '1', '0', '0', '0', '0', '0', '0', '0', '0', '1', '1', '1', '1', '1', '1', '1', '0', '1', '1', '1', '0', '0', '1', '1', '0', '0', '0', '0', '0', '0', '0', '1', '1', '1', '1', '0', '1', '0', '0', '0', '0', '1', '0', '0', '1', '0', '1', '1', '0', '0', '0', '0', '0', '1', '0', '0', '0', '0', '1', '0', '0', '1', '1', '1', '1', '1', '1', '0', '0', '0', '0', '0', '0', '0', '0', '1', '1', '1', '0', '0', '1', '0', '0', '1', '0', '1', '1', '1', '0', '0', '1', '1', '1', '0', '1', '0', '0', '0', '0', '0', '1', '1', '0', '0', '0', '1', '0', '0', '1', '1', '0', '0', '1', '1', '0', '1', '1', '0', '0', '0', '0', '1', '0', '1', '0', '0', '0', '1', '0', '1', '0', '1', '0', '1', '1', '1', '0', '0', '1', '1', '1', '1', '1', '1', '0', '0', '0', '1', '0', '1', '1', '0', '1', '0', '1', '0', '0', '0', '0', '0', '0', '1', '1', '0', '0', '1', '0', '1', '1', '1', '1', '0', '0', '0', '1', '1', '1', '1', '0', '1', '1', '0', '1', '0', '0', '1', '0', '1', '1', '0', '1', '0', '0', '1', '0', '1', '0', '1', '1', '0', '0', '1', '0', '0', '1', '1', '1', '1', '1', '0', '1', '1', '0', '1', '1', '0', '0', '0', '0', '0', '0', '0', '0', '0', '1', '1', '1', '0', '1', '1', '1', '1', '1', '0', '1', '0', '0', '0', '0', '1', '0', '0', '0', '1', '1', '0', '0', '1', '1', '0', '1', '1', '0', '0', '0', '0', '0', '0', '1', '0', '0', '1', '0', '0', '0', '0', '1', '0', '0', '0', '1', '0', '0', '0', '1', '1', '1', '1', '0', '1', '1', '0', '1', '0', '0', '1', '1', '0', '0', '0', '0', '1', '0', '0', '0', '0', '0', '0', '0', '0', '0', '1', '0', '0', '0', '1', '1', '0', '0', '1', '1', '1', '1', '0', '1', '0', '0', '0', '1', '0', '0', '0', '0', '1', '0', '1', '0', '0', '0', '1', '0', '1', '1', '1', '0', '1', '0', '0', '0', '0', '0', '1', '1', '0', '0', '1', '1', '1', '1', '0', '0', '1', '1', '0', '0', '1', '1', '0', '1', '0', '0', '1', '0', '0', '1', '0', '0', '0', '0', '1', '0', '0', '0', '1', '0', '0', '1', '0', '1', '1', '1', '1', '0', '0', '0', '1', '0', '0', '1', '1', '0', '0', '0', '0', '0', '0', '1', '0', '0', '0', '0', '0', '0', '1', '0', '0', '1', '1', '0', '1', '0', '0', '0', '0', '1', '1', '0', '0', '1', '0', '0', '0', '0', '1', '1', '1', '0', '0', '1', '1', '0', '1', '0', '1', '0', '0', '0', '0', '1', '0', '1', '0', '0', '0', '1', '0', '0', '1', '1', '1', '0', '0', '1', '0', '0', '0', '0', '1', '0', '0', '1', '0', '0', '0', '0', '1', '1', '0', '1', '1', '0', '0', '0', '0', '0', '0', '0', '1', '1', '1', '0', '0', '0', '0', '1', '0', '0', '0', '0', '1', '0', '0', '1', '1', '0', '0', '0', '1', '0', '1', '0', '0', '0', '1', '0', '0', '0', '0', '1', '1', '0', '1', '1', '0', '0', '1', '1', '1', '1', '1', '1', '0', '1', '1', '1', '1', '1', '1', '0', '0', '0', '0', '0', '0', '1', '1', '0', '1', '0', '1', '1', '0', '0', '0', '1', '1', '0', '1', '1', '0', '1', '1', '1', '0', '0', '1', '1', '1', '0', '1', '0', '0', '0', '0', '0', '0', '0', '1', '0', '1', '0', '1', '0', '0', '1', '0', '0', '1', '0', '1', '1', '0', '1', '0', '0', '0', '0', '0', '0', '1', '1', '1', '1', '0', '0', '0', '1', '0', '1', '0', '0', '1', '0', '0', '0', '0', '0', '0', '0', '0', '0', '0', '1', '0', '1', '1', '0', '0', '1', '1', '0', '1', '0', '0', '0', '0', '1', '0', '0', '1', '0', '0', '0', '0', '0', '1', '0', '0', '0', '1', '1', '0', '0', '1', '0', '1', '0', '0', '1', '1', '0', '0', '0', '0', '0', '1', '0', '0', '0', '0', '0', '0', '0', '0', '1', '0', '1', '0', '1', '1', '0', '1', '1', '1', '1', '0', '1', '0', '0', '1', '0', '0', '1', '0', '1', '1', '0', '0', '0', '0', '0', '1', '0', '1', '0', '1', '0', '1', '1', '1', '1', '1', '0', '1', '0', '1', '0', '1', '0', '0', '0', '0', '1', '1', '1', '0', '1', '1', '0', '1', '0', '0', '0', '0', '1', '1', '0', '0', '0', '0', '0', '1', '0', '1', '0', '0', '0', '0', '0', '0', '1', '0', '0', '0', '0', '0', '1', '0', '1', '1', '0', '1', '0', '1', '0', '0', '1', '0', '1', '0', '1', '1', '0', '0', '1', '0', '1', '0', '1', '1', '1', '1', '1', '1', '1', '0', '1', '1', '1', '0', '1', '1', '0', '0', '0', '1', '0', '1', '0', '0', '0', '0', '0', '0', '0', '0', '1', '0', '0', '0', '0', '0', '0', '0', '0', '0', '0', '0', '0', '0', '0', '0', '0', '1', '1', '1', '0', '1', '1', '1', '1', '0', '0', '0', '1', '1', '1', '0', '0', '1', '0', '1', '0', '0', '1', '0', '1', '1', '1', '0', '1', '0', '1', '0', '1', '0', '0', '1', '0', '0', '1', '1', '0', '1', '0', '0', '1', '1', '1', '0', '0', '1', '0', '1', '1', '0', '0', '1', '0', '0', '0', '0', '1', '0', '1', '1', '1', '1', '1', '0', '0', '0', '1', '0', '1', '1', '0', '1', '1', '1', '0', '0', '1', '0', '0', '0', '1', '0', '0', '0', '0', '0', '0', '0', '1', '0', '1', '1', '0', '1', '0', '0', '0', '1', '0', '0', '0', '0', '0', '1', '1', '1', '0', '1', '1', '0', '0', '0', '0', '0', '0', '0', '0', '0', '0', '0', '0', '0', '1', '0', '0', '0', '1', '1', '1', '1', '0', '1', '0', '1', '0', '0', '1', '1', '0', '0', '0', '0', '1', '0', '1', '1', '1', '0', '0', '1', '0', '1', '0', '1', '1', '0', '0', '0', '0', '0', '1', '0', '0', '1', '0', '1', '1', '0', '1', '0', '0', '0', '0', '0', '0', '0', '0', '0', '0', '1', '1', '1', '0', '0', '1', '0', '1', '0', '0', '0', '0', '1', '0', '0', '1', '0', '0', '0', '1', '1', '0', '1', '0', '0', '0', '0', '0', '1', '1', '0', '0', '1', '1', '0', '0', '0', '0', '1', '0', '0', '1', '0', '0', '0', '1', '1', '1', '1', '0', '1', '0', '1', '0', '0', '0', '1', '1', '1', '0', '1', '0', '1', '0', '1', '1', '1', '1', '0', '1', '0', '1', '1', '0', '0', '0', '1', '0', '1', '0', '0', '1', '1', '0', '0', '0', '1', '0', '0', '1', '0', '0', '0', '1', '0', '1', '1', '1', '1', '1', '1', '0', '1', '0', '0', '0', '0', '1', '1', '0', '1', '1', '0', '0', '1', '0', '0', '1', '1', '0', '0', '1', '1', '0', '0', '0', '1', '0', '1', '1', '0', '0', '1', '0', '0', '1', '1', '0', '1', '1', '0', '1', '1', '0', '0', '0', '0', '0', '0', '1', '0', '0', '1', '0', '0', '1', '0', '0', '1', '1', '1', '0', '1', '0', '1', '0', '0', '0', '1', '0', '1', '1', '1', '1', '1', '1', '1', '0', '0', '0', '1', '0', '0', '0', '0', '0', '1', '0', '1', '0', '1', '1', '0', '0', '1', '0', '0', '0', '0', '1', '1', '0', '1', '0', '0', '1', '1', '0', '0', '1', '0', '1', '1', '0', '0', '0', '0', '1', '0', '0', '0', '0', '0', '0', '0', '1', '1', '0', '0', '1', '1', '1', '1', '1', '1', '0', '0', '0', '0', '1', '1', '1', '1', '0', '0', '1', '0', '1', '0', '0', '1', '1', '1', '1', '0', '0', '1', '0', '0', '0', '1', '0', '0', '0', '0', '0', '0', '1', '0', '0', '0', '0', '0', '0', '0', '0', '0', '1', '1', '0', '1', '0', '0', '1', '0', '0', '1', '0', '0', '1', '1', '0', '1', '0', '0', '0', '1', '0', '0', '0', '0', '1', '0', '0', '1', '1', '0', '1', '1', '0', '0', '0', '0', '0', '0', '1', '0', '1', '0', '0', '0', '0', '0', '0', '0', '0', '0', '1', '1', '0', '1', '0', '1', '0', '1', '0', '1', '0', '1', '1', '0', '1', '1', '0', '1', '0', '0', '0', '0', '0', '0', '1', '0', '0', '1', '0', '1', '1', '0', '1', '0', '1', '0', '1', '0', '0', '1', '0', '0', '0', '0', '1', '0', '0', '0', '1', '0', '0', '0', '0', '1', '0', '0', '0', '1', '0', '0', '1', '0', '0', '1', '0', '0', '0', '1', '0', '1', '1', '1', '1', '1', '0', '0', '0', '1', '0', '0', '1', '0', '1', '0', '1', '0', '1', '0', '1', '1', '1', '0', '0', '0', '0', '0', '1', '0', '0', '0', '1', '0', '1', '0', '0', '1', '0', '0', '1', '1', '1', '1', '1', '0', '1', '0', '0', '1', '0', '0', '1', '1', '1', '0', '1', '0', '1', '0', '1', '0', '0', '0', '0', '1', '1', '1', '1', '1', '1', '0', '0', '0', '0', '1', '1', '1', '1', '0', '1', '0', '0', '0', '0', '1', '0', '1', '0', '0', '0', '0', '0', '1', '0', '1', '1', '0', '1', '0', '0', '1', '0', '1', '0', '0', '0', '1', '1', '1', '1', '0', '0', '0', '0', '0', '1', '1', '1', '0', '0', '1', '0', '1', '0', '1', '0', '0', '0', '0', '0', '0', '0', '0', '1', '0', '0', '1', '0', '1', '0', '1', '0', '0', '1', '1', '0', '0', '0', '1', '1', '0', '0', '0', '0', '0', '0', '0', '0', '1', '1', '0', '1', '0', '0', '1', '0', '1', '1', '0', '0', '0', '0', '1', '1', '0', '0', '0', '0', '0', '1', '0', '0', '0', '0', '0', '1', '0', '1', '1', '0', '0', '0', '0', '0', '0', '1', '1', '0', '1', '1', '0', '1', '1', '1', '0', '1', '0', '0', '0', '1', '0', '1', '1', '1', '1', '1', '0', '0', '1', '0', '1', '0', '1', '0', '0', '0', '0', '0', '0', '0', '0', '1', '0', '0', '0', '0', '1', '0', '1', '1', '1', '0', '1', '0', '1', '0', '1', '1', '0', '0', '0', '0', '1', '0', '0', '1', '1', '0', '0', '0', '0', '0', '1', '1', '0', '0', '0', '1', '0', '0', '1', '0', '1', '0', '0', '1', '1', '1', '0', '0', '1', '0', '1', '1', '0', '1', '0', '0', '0', '0', '0', '1', '0', '0', '1', '1', '0', '0', '1', '1', '0', '1', '1', '0', '0', '0', '0', '0', '1', '0', '1', '0', '0', '1', '1', '1', '1', '0', '1', '1', '0', '1', '0', '0', '0', '0', '0', '0', '1', '1', '1', '1', '0', '1', '0', '1', '0', '0', '1', '0', '1', '1', '0', '0', '0', '0', '0', '0', '0', '1', '0', '0', '1', '0', '1', '0', '1', '1', '1', '0', '0', '0', '0', '0', '1', '0', '1', '0', '1', '1', '0', '1', '1', '0', '0', '0', '0', '0', '0', '0', '0', '1', '0', '1', '0', '1', '0', '0', '1', '0', '1', '1', '1', '1', '1', '1', '0', '0', '0', '1', '0', '0', '0', '1', '1', '0', '0', '0', '0', '0', '0', '0', '1', '0', '0', '0', '1', '1', '1', '0', '1', '0', '0', '0', '0', '0', '0', '0', '0', '0', '1', '1', '0', '0', '1', '1', '1', '1', '1', '1', '1', '0', '1', '1', '0', '0', '0', '0', '0', '0', '0', '0', '1', '1', '1', '0', '0', '0', '1', '1', '1', '0', '1', '1', '0', '1', '1', '0', '0', '0', '1', '0', '1', '0', '0', '1', '0', '1', '1', '0', '0', '0', '1', '0', '1', '1', '0', '1', '1', '0', '1', '1', '0', '1', '0', '1', '1', '0', '1', '1', '0', '1', '0', '0', '0', '1', '0', '0', '1', '1', '1', '1', '0', '0', '1', '1', '0', '0', '0', '1', '0', '1', '0', '1', '0', '1', '0', '0', '1', '0', '1', '0', '0', '0', '0', '0', '1', '0', '0', '1', '1', '0', '1', '1', '1', '1', '0', '1', '0', '0', '0', '0', '0', '1', '1', '1', '1', '0', '1', '1', '0', '0', '1', '1', '0', '0', '0', '0', '0', '0', '0', '0', '0', '1', '0', '0', '1', '1', '0', '0', '0', '1', '0', '1', '1', '1', '1', '1', '1', '1', '0', '1', '1', '0', '1', '0', '1', '1', '1', '1', '0', '1', '0', '1', '0', '1', '1', '1', '1', '0', '0', '1', '0', '0', '0', '0', '0', '0', '1', '0', '0', '0', '0', '1', '1', '0', '1', '1', '0', '0', '0', '0', '0', '1', '0', '0', '1', '0', '0', '0', '0', '1', '1', '1', '0', '1', '1', '0', '0', '0', '1', '0', '0', '1', '0', '1', '1', '0', '1', '0', '0', '1', '0', '0', '0', '1', '0', '0', '1', '1', '0', '0', '0', '0', '0', '0', '0', '0', '0', '1', '0', '0', '0', '1', '1', '0', '0', '0', '1', '0', '0', '0', '0', '0', '0', '1', '1', '0', '0', '0', '1', '0', '1', '1', '1', '1', '0', '0', '0', '1', '0', '0', '1', '1', '1', '0', '1', '0', '0', '0', '1', '0', '0', '0', '1', '0', '1', '1', '0', '0', '0', '0', '0', '1', '0', '0', '1', '0', '0', '0', '0', '0', '0', '1', '1', '0', '0', '0', '0', '0', '0', '0', '0', '0', '0', '0', '0', '1', '0', '0', '1', '1', '0', '0', '0', '0', '0', '0', '0', '1', '0', '0', '1', '0', '0', '0', '0', '1', '0', '1', '0', '0', '0', '1', '0', '0', '0', '0', '1', '0', '0', '1', '0', '0', '1', '0', '1', '0', '1', '0', '0', '1', '0', '0', '0', '0', '1', '0', '0', '0', '0', '0', '0', '1', '0', '0', '0', '1', '1', '0', '0', '0', '0', '0', '1', '0', '1', '0', '0', '0', '1', '0', '1', '0', '1', '1', '1', '0', '1', '1', '1', '0', '0', '0', '0', '0', '0', '1', '0', '0', '0', '0', '1', '1', '0', '0', '0', '0', '0', '1', '0', '0', '0', '1', '1', '1', '1', '1', '0', '0', '0', '0', '0', '1', '1', '1', '1', '0', '0', '1', '1', '1', '0', '1', '0', '1', '1', '1', '0', '0', '0', '0', '0', '1', '0', '1', '0', '0', '0', '0', '1', '0', '0', '1', '1', '0', '0', '1', '1', '1', '1', '1', '0', '0', '1', '0', '0', '0', '0', '0', '0', '0', '0', '1', '0', '0', '1', '1', '0', '0', '1', '0', '1', '0', '1', '0', '1', '1', '0', '0', '0', '0', '1', '0', '1', '1', '0', '1', '0', '0', '0', '0', '0', '0', '0', '0', '0', '0', '0', '0', '1', '0', '0', '1', '0', '0', '0', '1', '1', '0', '0', '1', '0', '0', '0', '0', '0', '0', '0', '0', '1', '0', '0', '1', '0', '1', '0', '0', '1', '0', '0', '1', '1', '1', '1', '1', '0', '1', '0', '1', '1', '0', '0', '0', '1', '0', '1', '1', '0', '0', '0', '0', '0', '0', '0', '0', '0', '1', '1', '0', '0', '1', '1', '1', '1', '1', '1', '1', '0', '0', '0', '0', '0', '0', '1', '1', '0', '1', '1', '0', '0', '1', '0', '1', '1', '0', '0', '0', '0', '1', '0', '0', '0', '0', '1', '0', '0', '0', '0', '1', '1', '0', '1', '0', '1', '1', '0', '0', '1', '0', '1', '0', '0', '1', '1', '0', '1', '0', '1', '1', '0', '0', '0', '0', '1', '1', '0', '0', '0', '1', '0', '0', '1', '0', '1', '0', '1', '0', '0', '0', '0', '0', '0', '0', '0', '0', '1', '0', '0', '1', '0', '0', '0', '1', '0', '0', '0', '1', '1', '1', '1', '0', '1', '0', '1', '1', '0', '0', '0', '0', '0', '0', '1', '0', '0', '1', '1', '0', '0', '1', '1', '0', '1', '0', '1', '0', '0', '1', '0', '0', '0', '1', '1', '0', '0', '0', '1', '0', '0', '1', '1', '0', '1', '0', '0', '1', '0', '1', '0', '1', '0', '1', '1', '0', '0', '0', '1', '0', '1', '0', '0', '1', '0', '0', '0', '0', '1', '1', '0', '0', '1', '0', '0', '1', '0', '0', '0', '0', '1', '0', '1', '0', '0', '0', '0', '0', '0', '0', '0', '0', '1', '1', '1', '0', '0', '1', '1', '0', '0', '0', '1', '0', '1', '0', '1', '0', '0', '0', '0', '1', '0', '0', '0', '1', '1', '0', '0', '1', '1', '0', '1', '1', '0', '0', '0', '0', '1', '0', '1', '1', '0', '0', '1', '0', '1', '1', '0', '1', '0', '0', '0', '0', '1', '0', '0', '1', '0', '0', '1', '0', '0', '0', '0', '0', '0', '1', '1', '1', '0', '0', '0', '1', '0', '1', '0', '0', '0', '0', '0', '1', '1', '0', '0', '1', '0', '1', '1', '1', '0', '0', '0', '0', '1', '1', '0', '1', '0', '1', '0', '1', '0', '0', '0', '0', '0', '0', '0', '0', '0', '0', '1', '0', '1', '0', '0', '0', '0', '1', '0', '0', '0', '1', '0', '0', '0', '0', '0', '0', '0', '1', '0', '1', '0', '0', '0', '0', '0', '0', '0', '0', '1', '0', '0', '0', '0', '0', '1', '0', '1', '1', '0', '0', '0', '0', '1', '0', '1', '1', '0', '1', '1', '1', '0', '1', '1', '0', '0', '0', '1', '0', '0', '0', '0', '0', '0', '0', '1', '0', '1', '1', '1', '1', '1', '0', '0', '1', '1', '0', '0', '0', '0', '0', '0', '1', '1', '0', '1', '1', '1', '0', '1', '1', '0', '1', '1', '1', '1', '0', '0', '1', '0', '0', '0', '1', '0', '0', '0', '0', '0', '1', '1', '0', '0', '1', '0', '1', '0', '1', '0', '1', '1', '1', '0', '0', '1', '0', '1', '1', '0', '0', '1', '0', '0', '0', '0', '1', '1', '0', '1', '0', '1', '1', '0', '0', '0', '0', '0', '1', '0', '0', '0', '0', '0']"
      ]
    }
  ],
  "metadata": {
    "colab": {
      "collapsed_sections": [],
      "name": "Autoencoder.ipynb",
      "provenance": [],
      "include_colab_link": true
    },
    "interpreter": {
      "hash": "4193431db75dd95d08522ab33607675bd9a9c95a3c8b336953bbf2120927085f"
    },
    "kernelspec": {
      "display_name": "Python 3.9.10 64-bit (windows store)",
      "language": "python",
      "name": "python3"
    },
    "language_info": {
      "codemirror_mode": {
        "name": "ipython",
        "version": 3
      },
      "file_extension": ".py",
      "mimetype": "text/x-python",
      "name": "python",
      "nbconvert_exporter": "python",
      "pygments_lexer": "ipython3",
      "version": "3.9.10"
    }
  },
  "nbformat": 4,
  "nbformat_minor": 0
}