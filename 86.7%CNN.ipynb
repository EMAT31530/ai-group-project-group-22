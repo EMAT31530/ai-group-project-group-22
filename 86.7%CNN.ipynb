{
 "cells": [
  {
   "cell_type": "code",
   "execution_count": 1,
   "id": "5ecf90bc",
   "metadata": {},
   "outputs": [],
   "source": [
    "import os\n",
    "import shutil\n",
    "import numpy as np\n",
    "import pandas as pd\n",
    "import matplotlib.pyplot as plt\n",
    "import matplotlib.patches as patches\n",
    "import cv2 as cv\n",
    "from numpy.random import seed\n",
    "seed(42)\n",
    "import pickle\n",
    "\n",
    "from sklearn.utils import shuffle\n",
    "from sklearn.metrics import confusion_matrix\n",
    "from sklearn.model_selection import train_test_split\n",
    "import tensorflow as tf\n",
    "from tensorflow.keras.callbacks import ModelCheckpoint, ReduceLROnPlateau, EarlyStopping\n",
    "from tensorflow.keras.models import Sequential\n",
    "from tensorflow.keras.layers import *\n",
    "from tensorflow.keras.preprocessing.image import ImageDataGenerator\n",
    "from glob import glob \n",
    "%matplotlib inline"
   ]
  },
  {
   "cell_type": "markdown",
   "id": "4d919234",
   "metadata": {},
   "source": [
    "Some learning parameters"
   ]
  },
  {
   "cell_type": "code",
   "execution_count": 20,
   "id": "d36ddddc",
   "metadata": {},
   "outputs": [],
   "source": [
    "IMG_CHANNELS = 3\n",
    "#TRAIN_SIZE=80000\n",
    "TRAIN_SIZE = 80000\n",
    "BATCH_SIZE = 64\n",
    "EPOCHS = 30\n"
   ]
  },
  {
   "cell_type": "markdown",
   "id": "1cf5c24c",
   "metadata": {},
   "source": [
    "Data exploration"
   ]
  },
  {
   "cell_type": "code",
   "execution_count": 21,
   "id": "97caf6a7",
   "metadata": {},
   "outputs": [
    {
     "data": {
      "text/plain": [
       "0    130908\n",
       "1     89117\n",
       "Name: label, dtype: int64"
      ]
     },
     "execution_count": 21,
     "metadata": {},
     "output_type": "execute_result"
    }
   ],
   "source": [
    "#I used cropped images\n",
    "train_labels = pd.read_csv('train_labels.csv')\n",
    "train_labels['label'].value_counts()\n"
   ]
  },
  {
   "cell_type": "code",
   "execution_count": 22,
   "id": "d3cb32a7",
   "metadata": {},
   "outputs": [
    {
     "data": {
      "text/html": [
       "<div>\n",
       "<style scoped>\n",
       "    .dataframe tbody tr th:only-of-type {\n",
       "        vertical-align: middle;\n",
       "    }\n",
       "\n",
       "    .dataframe tbody tr th {\n",
       "        vertical-align: top;\n",
       "    }\n",
       "\n",
       "    .dataframe thead th {\n",
       "        text-align: right;\n",
       "    }\n",
       "</style>\n",
       "<table border=\"1\" class=\"dataframe\">\n",
       "  <thead>\n",
       "    <tr style=\"text-align: right;\">\n",
       "      <th></th>\n",
       "      <th>label</th>\n",
       "    </tr>\n",
       "  </thead>\n",
       "  <tbody>\n",
       "    <tr>\n",
       "      <th>0</th>\n",
       "      <td>0.594969</td>\n",
       "    </tr>\n",
       "    <tr>\n",
       "      <th>1</th>\n",
       "      <td>0.405031</td>\n",
       "    </tr>\n",
       "  </tbody>\n",
       "</table>\n",
       "</div>"
      ],
      "text/plain": [
       "      label\n",
       "0  0.594969\n",
       "1  0.405031"
      ]
     },
     "execution_count": 22,
     "metadata": {},
     "output_type": "execute_result"
    }
   ],
   "source": [
    "(train_labels.label.value_counts() / len(train_labels)).to_frame()"
   ]
  },
  {
   "cell_type": "markdown",
   "id": "4775bf57",
   "metadata": {},
   "source": [
    "Balancing the data"
   ]
  },
  {
   "cell_type": "code",
   "execution_count": 23,
   "id": "40168315",
   "metadata": {},
   "outputs": [],
   "source": [
    "train_neg = train_labels[train_labels['label']==0].sample(TRAIN_SIZE,random_state=45)\n",
    "train_pos = train_labels[train_labels['label']==1].sample(TRAIN_SIZE,random_state=45)\n",
    "\n",
    "train_data = pd.concat([train_neg, train_pos], axis=0).reset_index(drop=True)\n",
    "\n",
    "train_data = shuffle(train_data)\n"
   ]
  },
  {
   "cell_type": "code",
   "execution_count": 24,
   "id": "88d35fb7",
   "metadata": {},
   "outputs": [
    {
     "data": {
      "text/plain": [
       "0    80000\n",
       "1    80000\n",
       "Name: label, dtype: int64"
      ]
     },
     "execution_count": 24,
     "metadata": {},
     "output_type": "execute_result"
    }
   ],
   "source": [
    "train_data['label'].value_counts()"
   ]
  },
  {
   "cell_type": "code",
   "execution_count": 25,
   "id": "8c97a4d8",
   "metadata": {},
   "outputs": [],
   "source": [
    "def append_ext(fn):\n",
    "    return fn+\".tif\""
   ]
  },
  {
   "cell_type": "code",
   "execution_count": 26,
   "id": "20859e16",
   "metadata": {},
   "outputs": [
    {
     "name": "stdout",
     "output_type": "stream",
     "text": [
      "(128000, 2)\n",
      "(32000, 2)\n"
     ]
    }
   ],
   "source": [
    "y = train_data['label']\n",
    "train_df, valid_df = train_test_split(train_data, test_size=0.2, random_state=45, stratify=y)\n",
    "\n",
    "print(train_df.shape)\n",
    "print(valid_df.shape)"
   ]
  },
  {
   "cell_type": "code",
   "execution_count": 27,
   "id": "e9adaf9c",
   "metadata": {},
   "outputs": [
    {
     "data": {
      "text/html": [
       "<div>\n",
       "<style scoped>\n",
       "    .dataframe tbody tr th:only-of-type {\n",
       "        vertical-align: middle;\n",
       "    }\n",
       "\n",
       "    .dataframe tbody tr th {\n",
       "        vertical-align: top;\n",
       "    }\n",
       "\n",
       "    .dataframe thead th {\n",
       "        text-align: right;\n",
       "    }\n",
       "</style>\n",
       "<table border=\"1\" class=\"dataframe\">\n",
       "  <thead>\n",
       "    <tr style=\"text-align: right;\">\n",
       "      <th></th>\n",
       "      <th>id</th>\n",
       "      <th>label</th>\n",
       "    </tr>\n",
       "  </thead>\n",
       "  <tbody>\n",
       "    <tr>\n",
       "      <th>53542</th>\n",
       "      <td>87f5894925a0b2d7c157ef7591e3818b81f4fa50.tif</td>\n",
       "      <td>0</td>\n",
       "    </tr>\n",
       "    <tr>\n",
       "      <th>46578</th>\n",
       "      <td>e354401762727ee30f82fefb24146d9a20e81899.tif</td>\n",
       "      <td>0</td>\n",
       "    </tr>\n",
       "    <tr>\n",
       "      <th>54154</th>\n",
       "      <td>f63aec1b48e26f41ce8a4ad8fab0fda3517b7a90.tif</td>\n",
       "      <td>0</td>\n",
       "    </tr>\n",
       "    <tr>\n",
       "      <th>137678</th>\n",
       "      <td>713f6d6a38be9ee7831b142403d85f2261f15056.tif</td>\n",
       "      <td>1</td>\n",
       "    </tr>\n",
       "    <tr>\n",
       "      <th>83385</th>\n",
       "      <td>0a712f489695bb37dea4131a7b749b67579b31f5.tif</td>\n",
       "      <td>1</td>\n",
       "    </tr>\n",
       "  </tbody>\n",
       "</table>\n",
       "</div>"
      ],
      "text/plain": [
       "                                                  id  label\n",
       "53542   87f5894925a0b2d7c157ef7591e3818b81f4fa50.tif      0\n",
       "46578   e354401762727ee30f82fefb24146d9a20e81899.tif      0\n",
       "54154   f63aec1b48e26f41ce8a4ad8fab0fda3517b7a90.tif      0\n",
       "137678  713f6d6a38be9ee7831b142403d85f2261f15056.tif      1\n",
       "83385   0a712f489695bb37dea4131a7b749b67579b31f5.tif      1"
      ]
     },
     "execution_count": 27,
     "metadata": {},
     "output_type": "execute_result"
    }
   ],
   "source": [
    "train_df['id'] = train_df['id'].apply(append_ext)\n",
    "valid_df['id'] = valid_df['id'].apply(append_ext)\n",
    "train_df.head()"
   ]
  },
  {
   "cell_type": "markdown",
   "id": "d1f1b76c",
   "metadata": {},
   "source": [
    "Image generator that load images in batches"
   ]
  },
  {
   "cell_type": "code",
   "execution_count": 28,
   "id": "a80fa3af",
   "metadata": {},
   "outputs": [],
   "source": [
    "train_datagen = ImageDataGenerator(rescale=1/255)\n",
    "valid_datagen = ImageDataGenerator(rescale=1/255)"
   ]
  },
  {
   "cell_type": "code",
   "execution_count": 29,
   "id": "29809c24",
   "metadata": {},
   "outputs": [
    {
     "name": "stdout",
     "output_type": "stream",
     "text": [
      "Found 128000 validated image filenames belonging to 2 classes.\n",
      "Found 32000 validated image filenames belonging to 2 classes.\n"
     ]
    }
   ],
   "source": [
    "BATCH_SIZE = 64\n",
    "train_path = './train'\n",
    "train_df['label'] = train_df['label'].astype(str)\n",
    "valid_df['label'] = valid_df['label'].astype(str)\n",
    "\n",
    "train_loader = train_datagen.flow_from_dataframe(\n",
    "    dataframe = train_df,\n",
    "    directory = train_path,\n",
    "    x_col = 'id',\n",
    "    y_col = 'label',\n",
    "    batch_size = BATCH_SIZE,\n",
    "    seed = 42,\n",
    "    shuffle = True,\n",
    "    class_mode = 'categorical',\n",
    "    target_size = (32,32)\n",
    ")\n",
    "\n",
    "valid_loader = valid_datagen.flow_from_dataframe(\n",
    "    dataframe = valid_df,\n",
    "    directory = train_path,\n",
    "    x_col = 'id',\n",
    "    y_col = 'label',\n",
    "    batch_size = BATCH_SIZE,\n",
    "    seed = 42,\n",
    "    shuffle = True,\n",
    "    class_mode = 'categorical',\n",
    "    target_size = (32,32)\n",
    ")\n"
   ]
  },
  {
   "cell_type": "code",
   "execution_count": 30,
   "id": "6036ed6e",
   "metadata": {},
   "outputs": [
    {
     "name": "stdout",
     "output_type": "stream",
     "text": [
      "2000\n",
      "500\n"
     ]
    }
   ],
   "source": [
    "TR_STEPS = len(train_loader)\n",
    "VA_STEPS = len(valid_loader)\n",
    "\n",
    "print(TR_STEPS)\n",
    "print(VA_STEPS)"
   ]
  },
  {
   "cell_type": "code",
   "execution_count": 39,
   "id": "a6c605ac",
   "metadata": {},
   "outputs": [],
   "source": [
    "cnn = Sequential([\n",
    "    Conv2D(32, (3,3), activation = 'relu', padding = 'same', input_shape=(32,32,3)),\n",
    "    Conv2D(32, (3,3), activation = 'relu', padding = 'same'),\n",
    "    Conv2D(32, (3,3), activation = 'relu', padding = 'same'),\n",
    "    BatchNormalization(),\n",
    "    MaxPooling2D(pool_size=(2, 2), strides=(2, 2)),\n",
    "    Dropout(0.4),\n",
    "    BatchNormalization(),\n",
    "\n",
    "    Conv2D(64, (3,3), activation = 'relu', padding = 'same'),\n",
    "    Conv2D(64, (3,3), activation = 'relu', padding = 'same'),\n",
    "    Conv2D(64, (3,3), activation = 'relu', padding = 'same'),\n",
    "    BatchNormalization(),\n",
    "    MaxPooling2D(pool_size=(2, 2), strides=(2, 2)),\n",
    "    Dropout(0.3),\n",
    "    BatchNormalization(),\n",
    "    \n",
    "    Conv2D(128, (3,3), activation = 'relu', padding = 'same'),\n",
    "    Conv2D(128, (3,3), activation = 'relu', padding = 'same'),\n",
    "    Conv2D(128, (3,3), activation = 'relu', padding = 'same'),\n",
    "    BatchNormalization(),\n",
    "    MaxPooling2D(pool_size=(2, 2), strides=(2, 2)),\n",
    "    Dropout(0.2),\n",
    "    BatchNormalization(),\n",
    "\n",
    "    Flatten(),\n",
    "     Dense(128, activation='relu'),\n",
    "    Dense(16, activation='relu'),\n",
    "    Dense(8, activation='relu'),\n",
    "    Dense(2, activation='sigmoid')\n",
    "])\n"
   ]
  },
  {
   "cell_type": "markdown",
   "id": "12c51f8a",
   "metadata": {},
   "source": [
    "Round one training"
   ]
  },
  {
   "cell_type": "code",
   "execution_count": 40,
   "id": "f105a591",
   "metadata": {},
   "outputs": [],
   "source": [
    "opt = tf.keras.optimizers.Adam(0.001)\n",
    "cnn.compile(loss='binary_crossentropy', optimizer=opt, metrics=['accuracy', tf.keras.metrics.AUC()])"
   ]
  },
  {
   "cell_type": "code",
   "execution_count": 42,
   "id": "fa3c3a99",
   "metadata": {
    "scrolled": true
   },
   "outputs": [
    {
     "name": "stdout",
     "output_type": "stream",
     "text": [
      "Epoch 1/30\n",
      "WARNING:tensorflow:AutoGraph could not transform <function Model.make_train_function.<locals>.train_function at 0x28bccdf70> and will run it as-is.\n",
      "Please report this to the TensorFlow team. When filing the bug, set the verbosity to 10 (on Linux, `export AUTOGRAPH_VERBOSITY=10`) and attach the full output.\n",
      "Cause: unsupported operand type(s) for -: 'NoneType' and 'int'\n",
      "To silence this warning, decorate the function with @tf.autograph.experimental.do_not_convert\n",
      "WARNING: AutoGraph could not transform <function Model.make_train_function.<locals>.train_function at 0x28bccdf70> and will run it as-is.\n",
      "Please report this to the TensorFlow team. When filing the bug, set the verbosity to 10 (on Linux, `export AUTOGRAPH_VERBOSITY=10`) and attach the full output.\n",
      "Cause: unsupported operand type(s) for -: 'NoneType' and 'int'\n",
      "To silence this warning, decorate the function with @tf.autograph.experimental.do_not_convert\n",
      "2000/2000 [==============================] - ETA: 0s - loss: 0.4929 - accuracy: 0.7700 - auc_2: 0.8415WARNING:tensorflow:AutoGraph could not transform <function Model.make_test_function.<locals>.test_function at 0x17b74df70> and will run it as-is.\n",
      "Please report this to the TensorFlow team. When filing the bug, set the verbosity to 10 (on Linux, `export AUTOGRAPH_VERBOSITY=10`) and attach the full output.\n",
      "Cause: unsupported operand type(s) for -: 'NoneType' and 'int'\n",
      "To silence this warning, decorate the function with @tf.autograph.experimental.do_not_convert\n",
      "WARNING: AutoGraph could not transform <function Model.make_test_function.<locals>.test_function at 0x17b74df70> and will run it as-is.\n",
      "Please report this to the TensorFlow team. When filing the bug, set the verbosity to 10 (on Linux, `export AUTOGRAPH_VERBOSITY=10`) and attach the full output.\n",
      "Cause: unsupported operand type(s) for -: 'NoneType' and 'int'\n",
      "To silence this warning, decorate the function with @tf.autograph.experimental.do_not_convert\n",
      "2000/2000 [==============================] - 134s 66ms/step - loss: 0.4928 - accuracy: 0.7700 - auc_2: 0.8415 - val_loss: 0.5817 - val_accuracy: 0.7106 - val_auc_2: 0.7810\n",
      "Epoch 2/30\n",
      "2000/2000 [==============================] - 131s 66ms/step - loss: 0.4436 - accuracy: 0.7972 - auc_2: 0.8754 - val_loss: 0.4795 - val_accuracy: 0.7809 - val_auc_2: 0.8562\n",
      "Epoch 3/30\n",
      "2000/2000 [==============================] - 130s 65ms/step - loss: 0.4276 - accuracy: 0.8067 - auc_2: 0.8849 - val_loss: 0.4494 - val_accuracy: 0.7892 - val_auc_2: 0.8717\n",
      "Epoch 4/30\n",
      "2000/2000 [==============================] - 132s 66ms/step - loss: 0.4157 - accuracy: 0.8125 - auc_2: 0.8915 - val_loss: 0.4578 - val_accuracy: 0.8001 - val_auc_2: 0.8727\n",
      "Epoch 5/30\n",
      "2000/2000 [==============================] - 130s 65ms/step - loss: 0.4081 - accuracy: 0.8169 - auc_2: 0.8957 - val_loss: 0.4296 - val_accuracy: 0.8027 - val_auc_2: 0.8836\n",
      "Epoch 6/30\n",
      "2000/2000 [==============================] - 131s 65ms/step - loss: 0.3980 - accuracy: 0.8210 - auc_2: 0.9009 - val_loss: 0.9569 - val_accuracy: 0.6905 - val_auc_2: 0.7021\n",
      "Epoch 7/30\n",
      "2000/2000 [==============================] - 130s 65ms/step - loss: 0.3805 - accuracy: 0.8340 - auc_2: 0.9100 - val_loss: 0.3852 - val_accuracy: 0.8290 - val_auc_2: 0.9085\n",
      "Epoch 8/30\n",
      "2000/2000 [==============================] - 132s 66ms/step - loss: 0.3666 - accuracy: 0.8412 - auc_2: 0.9166 - val_loss: 0.5825 - val_accuracy: 0.7481 - val_auc_2: 0.8314\n",
      "Epoch 9/30\n",
      "2000/2000 [==============================] - 136s 68ms/step - loss: 0.3569 - accuracy: 0.8456 - auc_2: 0.9213 - val_loss: 0.4297 - val_accuracy: 0.8054 - val_auc_2: 0.8865\n",
      "Epoch 10/30\n",
      "2000/2000 [==============================] - 135s 68ms/step - loss: 0.3513 - accuracy: 0.8478 - auc_2: 0.9239 - val_loss: 0.3739 - val_accuracy: 0.8315 - val_auc_2: 0.9138\n",
      "Epoch 11/30\n",
      "2000/2000 [==============================] - 135s 68ms/step - loss: 0.3513 - accuracy: 0.8484 - auc_2: 0.9238 - val_loss: 0.3849 - val_accuracy: 0.8320 - val_auc_2: 0.9081\n",
      "Epoch 12/30\n",
      "2000/2000 [==============================] - 133s 67ms/step - loss: 0.3442 - accuracy: 0.8508 - auc_2: 0.9269 - val_loss: 0.8588 - val_accuracy: 0.6984 - val_auc_2: 0.7656\n",
      "Epoch 13/30\n",
      "2000/2000 [==============================] - 132s 66ms/step - loss: 0.3387 - accuracy: 0.8540 - auc_2: 0.9293 - val_loss: 0.3407 - val_accuracy: 0.8511 - val_auc_2: 0.9288\n",
      "Epoch 14/30\n",
      "2000/2000 [==============================] - 131s 66ms/step - loss: 0.3335 - accuracy: 0.8566 - auc_2: 0.9315 - val_loss: 0.4155 - val_accuracy: 0.8023 - val_auc_2: 0.8913\n",
      "Epoch 15/30\n",
      "2000/2000 [==============================] - 134s 67ms/step - loss: 0.3326 - accuracy: 0.8578 - auc_2: 0.9319 - val_loss: 0.7907 - val_accuracy: 0.7031 - val_auc_2: 0.7693\n",
      "Epoch 16/30\n",
      "2000/2000 [==============================] - 130s 65ms/step - loss: 0.3239 - accuracy: 0.8621 - auc_2: 0.9355 - val_loss: 0.4585 - val_accuracy: 0.8049 - val_auc_2: 0.8866\n",
      "Epoch 17/30\n",
      "2000/2000 [==============================] - 131s 65ms/step - loss: 0.3214 - accuracy: 0.8630 - auc_2: 0.9365 - val_loss: 0.4128 - val_accuracy: 0.8240 - val_auc_2: 0.9019\n",
      "Epoch 18/30\n",
      "2000/2000 [==============================] - 132s 66ms/step - loss: 0.3222 - accuracy: 0.8620 - auc_2: 0.9362 - val_loss: 0.4310 - val_accuracy: 0.8155 - val_auc_2: 0.8928\n",
      "Epoch 19/30\n",
      "2000/2000 [==============================] - 1069s 535ms/step - loss: 0.3146 - accuracy: 0.8662 - auc_2: 0.9392 - val_loss: 0.3431 - val_accuracy: 0.8488 - val_auc_2: 0.9275\n",
      "Epoch 20/30\n",
      "2000/2000 [==============================] - 137s 68ms/step - loss: 0.3129 - accuracy: 0.8672 - auc_2: 0.9398 - val_loss: 0.3241 - val_accuracy: 0.8579 - val_auc_2: 0.9354\n",
      "Epoch 21/30\n",
      "2000/2000 [==============================] - 129s 65ms/step - loss: 0.3067 - accuracy: 0.8695 - auc_2: 0.9423 - val_loss: 0.4097 - val_accuracy: 0.8189 - val_auc_2: 0.9014\n",
      "Epoch 22/30\n",
      "2000/2000 [==============================] - 130s 65ms/step - loss: 0.3098 - accuracy: 0.8684 - auc_2: 0.9411 - val_loss: 0.4689 - val_accuracy: 0.7852 - val_auc_2: 0.8726\n",
      "Epoch 23/30\n",
      "2000/2000 [==============================] - 148s 74ms/step - loss: 0.3044 - accuracy: 0.8700 - auc_2: 0.9431 - val_loss: 0.3340 - val_accuracy: 0.8561 - val_auc_2: 0.9317\n",
      "Epoch 24/30\n",
      "2000/2000 [==============================] - 141s 70ms/step - loss: 0.3024 - accuracy: 0.8706 - auc_2: 0.9439 - val_loss: 0.3384 - val_accuracy: 0.8563 - val_auc_2: 0.9304\n",
      "Epoch 25/30\n",
      "2000/2000 [==============================] - 137s 69ms/step - loss: 0.2995 - accuracy: 0.8730 - auc_2: 0.9450 - val_loss: 0.4708 - val_accuracy: 0.7969 - val_auc_2: 0.8779\n",
      "Epoch 26/30\n",
      "2000/2000 [==============================] - 493s 246ms/step - loss: 0.2937 - accuracy: 0.8757 - auc_2: 0.9471 - val_loss: 0.3627 - val_accuracy: 0.8433 - val_auc_2: 0.9216\n",
      "Epoch 27/30\n",
      "2000/2000 [==============================] - 431s 215ms/step - loss: 0.2897 - accuracy: 0.8782 - auc_2: 0.9485 - val_loss: 0.3189 - val_accuracy: 0.8650 - val_auc_2: 0.9384\n",
      "Epoch 28/30\n",
      "2000/2000 [==============================] - 1105s 553ms/step - loss: 0.2907 - accuracy: 0.8766 - auc_2: 0.9483 - val_loss: 0.3742 - val_accuracy: 0.8351 - val_auc_2: 0.9161\n",
      "Epoch 29/30\n",
      "2000/2000 [==============================] - 1063s 532ms/step - loss: 0.2869 - accuracy: 0.8774 - auc_2: 0.9496 - val_loss: 0.3995 - val_accuracy: 0.8410 - val_auc_2: 0.9153\n",
      "Epoch 30/30\n",
      "2000/2000 [==============================] - 129s 65ms/step - loss: 0.2942 - accuracy: 0.8749 - auc_2: 0.9470 - val_loss: 0.3496 - val_accuracy: 0.8487 - val_auc_2: 0.9267\n",
      "Epoch 1/30\n",
      "2000/2000 [==============================] - 130s 65ms/step - loss: 0.2599 - accuracy: 0.8911 - auc_2: 0.9587 - val_loss: 0.3342 - val_accuracy: 0.8618 - val_auc_2: 0.9366\n",
      "Epoch 2/30\n",
      "2000/2000 [==============================] - 129s 64ms/step - loss: 0.2538 - accuracy: 0.8933 - auc_2: 0.9606 - val_loss: 0.3171 - val_accuracy: 0.8679 - val_auc_2: 0.9417\n",
      "Epoch 3/30\n",
      "2000/2000 [==============================] - 132s 66ms/step - loss: 0.2498 - accuracy: 0.8958 - auc_2: 0.9618 - val_loss: 0.3185 - val_accuracy: 0.8698 - val_auc_2: 0.9414\n",
      "Epoch 4/30\n",
      "2000/2000 [==============================] - 133s 66ms/step - loss: 0.2487 - accuracy: 0.8964 - auc_2: 0.9622 - val_loss: 0.3137 - val_accuracy: 0.8708 - val_auc_2: 0.9426\n",
      "Epoch 5/30\n"
     ]
    },
    {
     "name": "stdout",
     "output_type": "stream",
     "text": [
      "2000/2000 [==============================] - 130s 65ms/step - loss: 0.2468 - accuracy: 0.8972 - auc_2: 0.9627 - val_loss: 0.3250 - val_accuracy: 0.8651 - val_auc_2: 0.9394\n",
      "Epoch 6/30\n",
      "2000/2000 [==============================] - 131s 65ms/step - loss: 0.2458 - accuracy: 0.8968 - auc_2: 0.9631 - val_loss: 0.3387 - val_accuracy: 0.8586 - val_auc_2: 0.9351\n",
      "Epoch 7/30\n",
      "2000/2000 [==============================] - 131s 66ms/step - loss: 0.2441 - accuracy: 0.8978 - auc_2: 0.9636 - val_loss: 0.3213 - val_accuracy: 0.8683 - val_auc_2: 0.9407\n",
      "Epoch 8/30\n",
      "2000/2000 [==============================] - 1148s 574ms/step - loss: 0.2437 - accuracy: 0.8978 - auc_2: 0.9637 - val_loss: 0.3449 - val_accuracy: 0.8584 - val_auc_2: 0.9347\n",
      "Epoch 9/30\n",
      "2000/2000 [==============================] - 1062s 531ms/step - loss: 0.2412 - accuracy: 0.8993 - auc_2: 0.9644 - val_loss: 0.3241 - val_accuracy: 0.8657 - val_auc_2: 0.9399\n",
      "Epoch 10/30\n",
      "2000/2000 [==============================] - 131s 66ms/step - loss: 0.2401 - accuracy: 0.9010 - auc_2: 0.9647 - val_loss: 0.3271 - val_accuracy: 0.8645 - val_auc_2: 0.9394\n",
      "Epoch 11/30\n",
      "2000/2000 [==============================] - 1135s 568ms/step - loss: 0.2376 - accuracy: 0.9009 - auc_2: 0.9655 - val_loss: 0.3269 - val_accuracy: 0.8663 - val_auc_2: 0.9396\n",
      "Epoch 12/30\n",
      "2000/2000 [==============================] - 131s 66ms/step - loss: 0.2371 - accuracy: 0.9012 - auc_2: 0.9656 - val_loss: 0.3342 - val_accuracy: 0.8641 - val_auc_2: 0.9378\n",
      "Epoch 13/30\n",
      "2000/2000 [==============================] - 131s 65ms/step - loss: 0.2373 - accuracy: 0.9010 - auc_2: 0.9656 - val_loss: 0.3207 - val_accuracy: 0.8685 - val_auc_2: 0.9408\n",
      "Epoch 14/30\n",
      "2000/2000 [==============================] - 129s 65ms/step - loss: 0.2369 - accuracy: 0.9007 - auc_2: 0.9657 - val_loss: 0.3289 - val_accuracy: 0.8658 - val_auc_2: 0.9395\n",
      "Epoch 15/30\n",
      "2000/2000 [==============================] - 130s 65ms/step - loss: 0.2345 - accuracy: 0.9024 - auc_2: 0.9664 - val_loss: 0.3261 - val_accuracy: 0.8657 - val_auc_2: 0.9399\n",
      "Epoch 16/30\n",
      "2000/2000 [==============================] - 132s 66ms/step - loss: 0.2345 - accuracy: 0.9025 - auc_2: 0.9664 - val_loss: 0.3370 - val_accuracy: 0.8640 - val_auc_2: 0.9380\n",
      "Epoch 17/30\n",
      "2000/2000 [==============================] - 136s 68ms/step - loss: 0.2329 - accuracy: 0.9031 - auc_2: 0.9669 - val_loss: 0.3336 - val_accuracy: 0.8647 - val_auc_2: 0.9392\n",
      "Epoch 18/30\n",
      "2000/2000 [==============================] - 131s 65ms/step - loss: 0.2320 - accuracy: 0.9036 - auc_2: 0.9671 - val_loss: 0.3234 - val_accuracy: 0.8670 - val_auc_2: 0.9411\n",
      "Epoch 19/30\n",
      "2000/2000 [==============================] - 1083s 542ms/step - loss: 0.2309 - accuracy: 0.9047 - auc_2: 0.9674 - val_loss: 0.3290 - val_accuracy: 0.8659 - val_auc_2: 0.9394\n",
      "Epoch 20/30\n",
      "2000/2000 [==============================] - 1139s 570ms/step - loss: 0.2299 - accuracy: 0.9047 - auc_2: 0.9676 - val_loss: 0.3272 - val_accuracy: 0.8698 - val_auc_2: 0.9408\n",
      "Epoch 21/30\n",
      "2000/2000 [==============================] - 130s 65ms/step - loss: 0.2292 - accuracy: 0.9048 - auc_2: 0.9679 - val_loss: 0.3446 - val_accuracy: 0.8618 - val_auc_2: 0.9355\n",
      "Epoch 22/30\n",
      "2000/2000 [==============================] - 129s 65ms/step - loss: 0.2292 - accuracy: 0.9047 - auc_2: 0.9679 - val_loss: 0.3320 - val_accuracy: 0.8663 - val_auc_2: 0.9388\n",
      "Epoch 23/30\n",
      "2000/2000 [==============================] - 131s 65ms/step - loss: 0.2251 - accuracy: 0.9070 - auc_2: 0.9690 - val_loss: 0.3337 - val_accuracy: 0.8664 - val_auc_2: 0.9387\n",
      "Epoch 24/30\n",
      "2000/2000 [==============================] - 132s 66ms/step - loss: 0.2264 - accuracy: 0.9056 - auc_2: 0.9687 - val_loss: 0.3394 - val_accuracy: 0.8625 - val_auc_2: 0.9363\n",
      "Epoch 25/30\n",
      "2000/2000 [==============================] - 131s 65ms/step - loss: 0.2261 - accuracy: 0.9065 - auc_2: 0.9687 - val_loss: 0.3322 - val_accuracy: 0.8671 - val_auc_2: 0.9393\n",
      "Epoch 26/30\n",
      "2000/2000 [==============================] - 131s 65ms/step - loss: 0.2242 - accuracy: 0.9066 - auc_2: 0.9693 - val_loss: 0.3354 - val_accuracy: 0.8668 - val_auc_2: 0.9384\n",
      "Epoch 27/30\n",
      "2000/2000 [==============================] - 128s 64ms/step - loss: 0.2227 - accuracy: 0.9074 - auc_2: 0.9697 - val_loss: 0.3466 - val_accuracy: 0.8622 - val_auc_2: 0.9360\n",
      "Epoch 28/30\n",
      "2000/2000 [==============================] - 130s 65ms/step - loss: 0.2232 - accuracy: 0.9074 - auc_2: 0.9695 - val_loss: 0.3314 - val_accuracy: 0.8672 - val_auc_2: 0.9397\n",
      "Epoch 29/30\n",
      "2000/2000 [==============================] - 130s 65ms/step - loss: 0.2237 - accuracy: 0.9071 - auc_2: 0.9694 - val_loss: 0.3349 - val_accuracy: 0.8657 - val_auc_2: 0.9380\n",
      "Epoch 30/30\n",
      "2000/2000 [==============================] - 132s 66ms/step - loss: 0.2224 - accuracy: 0.9088 - auc_2: 0.9697 - val_loss: 0.3337 - val_accuracy: 0.8667 - val_auc_2: 0.9386\n",
      "Epoch 1/30\n",
      "2000/2000 [==============================] - 136s 68ms/step - loss: 0.2171 - accuracy: 0.9094 - auc_2: 0.9712 - val_loss: 0.3314 - val_accuracy: 0.8666 - val_auc_2: 0.9398\n",
      "Epoch 2/30\n",
      "2000/2000 [==============================] - 129s 65ms/step - loss: 0.2151 - accuracy: 0.9111 - auc_2: 0.9718 - val_loss: 0.3336 - val_accuracy: 0.8670 - val_auc_2: 0.9395\n",
      "Epoch 3/30\n",
      "2000/2000 [==============================] - 131s 65ms/step - loss: 0.2153 - accuracy: 0.9105 - auc_2: 0.9717 - val_loss: 0.3336 - val_accuracy: 0.8676 - val_auc_2: 0.9398\n",
      "Epoch 4/30\n",
      "2000/2000 [==============================] - 129s 65ms/step - loss: 0.2158 - accuracy: 0.9111 - auc_2: 0.9715 - val_loss: 0.3348 - val_accuracy: 0.8677 - val_auc_2: 0.9396\n",
      "Epoch 5/30\n",
      "2000/2000 [==============================] - 129s 65ms/step - loss: 0.2179 - accuracy: 0.9094 - auc_2: 0.9710 - val_loss: 0.3329 - val_accuracy: 0.8677 - val_auc_2: 0.9398\n",
      "Epoch 6/30\n",
      "2000/2000 [==============================] - 129s 64ms/step - loss: 0.2153 - accuracy: 0.9106 - auc_2: 0.9717 - val_loss: 0.3335 - val_accuracy: 0.8677 - val_auc_2: 0.9399\n",
      "Epoch 7/30\n",
      "2000/2000 [==============================] - 128s 64ms/step - loss: 0.2160 - accuracy: 0.9102 - auc_2: 0.9715 - val_loss: 0.3332 - val_accuracy: 0.8677 - val_auc_2: 0.9398\n",
      "Epoch 8/30\n",
      "2000/2000 [==============================] - 129s 65ms/step - loss: 0.2154 - accuracy: 0.9108 - auc_2: 0.9716 - val_loss: 0.3336 - val_accuracy: 0.8675 - val_auc_2: 0.9399\n",
      "Epoch 9/30\n",
      "2000/2000 [==============================] - 129s 64ms/step - loss: 0.2157 - accuracy: 0.9106 - auc_2: 0.9715 - val_loss: 0.3337 - val_accuracy: 0.8675 - val_auc_2: 0.9397\n",
      "Epoch 10/30\n",
      "2000/2000 [==============================] - 130s 65ms/step - loss: 0.2156 - accuracy: 0.9107 - auc_2: 0.9716 - val_loss: 0.3339 - val_accuracy: 0.8678 - val_auc_2: 0.9400\n",
      "Epoch 11/30\n",
      "2000/2000 [==============================] - 129s 64ms/step - loss: 0.2162 - accuracy: 0.9111 - auc_2: 0.9714 - val_loss: 0.3339 - val_accuracy: 0.8673 - val_auc_2: 0.9396\n",
      "Epoch 12/30\n",
      "2000/2000 [==============================] - 130s 65ms/step - loss: 0.2157 - accuracy: 0.9098 - auc_2: 0.9716 - val_loss: 0.3333 - val_accuracy: 0.8678 - val_auc_2: 0.9398\n",
      "Epoch 13/30\n",
      "2000/2000 [==============================] - 128s 64ms/step - loss: 0.2152 - accuracy: 0.9113 - auc_2: 0.9716 - val_loss: 0.3336 - val_accuracy: 0.8678 - val_auc_2: 0.9399\n",
      "Epoch 14/30\n",
      "2000/2000 [==============================] - 1057s 529ms/step - loss: 0.2141 - accuracy: 0.9120 - auc_2: 0.9719 - val_loss: 0.3340 - val_accuracy: 0.8674 - val_auc_2: 0.9398\n",
      "Epoch 15/30\n",
      "2000/2000 [==============================] - 134s 67ms/step - loss: 0.2143 - accuracy: 0.9112 - auc_2: 0.9719 - val_loss: 0.3346 - val_accuracy: 0.8674 - val_auc_2: 0.9395\n",
      "Epoch 16/30\n",
      "2000/2000 [==============================] - 130s 65ms/step - loss: 0.2134 - accuracy: 0.9119 - auc_2: 0.9722 - val_loss: 0.3350 - val_accuracy: 0.8673 - val_auc_2: 0.9398\n",
      "Epoch 17/30\n",
      "2000/2000 [==============================] - 132s 66ms/step - loss: 0.2158 - accuracy: 0.9106 - auc_2: 0.9715 - val_loss: 0.3343 - val_accuracy: 0.8675 - val_auc_2: 0.9398\n",
      "Epoch 18/30\n",
      "2000/2000 [==============================] - 129s 64ms/step - loss: 0.2158 - accuracy: 0.9106 - auc_2: 0.9716 - val_loss: 0.3341 - val_accuracy: 0.8675 - val_auc_2: 0.9398\n",
      "Epoch 19/30\n"
     ]
    },
    {
     "name": "stdout",
     "output_type": "stream",
     "text": [
      "2000/2000 [==============================] - 130s 65ms/step - loss: 0.2151 - accuracy: 0.9115 - auc_2: 0.9717 - val_loss: 0.3347 - val_accuracy: 0.8671 - val_auc_2: 0.9397\n",
      "Epoch 20/30\n",
      "2000/2000 [==============================] - 129s 65ms/step - loss: 0.2135 - accuracy: 0.9118 - auc_2: 0.9721 - val_loss: 0.3340 - val_accuracy: 0.8679 - val_auc_2: 0.9398\n",
      "Epoch 21/30\n",
      "2000/2000 [==============================] - 130s 65ms/step - loss: 0.2147 - accuracy: 0.9113 - auc_2: 0.9718 - val_loss: 0.3351 - val_accuracy: 0.8671 - val_auc_2: 0.9395\n",
      "Epoch 22/30\n",
      "2000/2000 [==============================] - 130s 65ms/step - loss: 0.2144 - accuracy: 0.9111 - auc_2: 0.9719 - val_loss: 0.3356 - val_accuracy: 0.8670 - val_auc_2: 0.9394\n",
      "Epoch 23/30\n",
      "2000/2000 [==============================] - 1031s 516ms/step - loss: 0.2137 - accuracy: 0.9113 - auc_2: 0.9721 - val_loss: 0.3353 - val_accuracy: 0.8674 - val_auc_2: 0.9398\n",
      "Epoch 24/30\n",
      "2000/2000 [==============================] - 1029s 515ms/step - loss: 0.2146 - accuracy: 0.9112 - auc_2: 0.9719 - val_loss: 0.3348 - val_accuracy: 0.8677 - val_auc_2: 0.9395\n",
      "Epoch 25/30\n",
      "2000/2000 [==============================] - 129s 64ms/step - loss: 0.2130 - accuracy: 0.9130 - auc_2: 0.9722 - val_loss: 0.3360 - val_accuracy: 0.8674 - val_auc_2: 0.9394\n",
      "Epoch 26/30\n",
      "2000/2000 [==============================] - 130s 65ms/step - loss: 0.2149 - accuracy: 0.9116 - auc_2: 0.9717 - val_loss: 0.3362 - val_accuracy: 0.8676 - val_auc_2: 0.9396\n",
      "Epoch 27/30\n",
      "2000/2000 [==============================] - 129s 64ms/step - loss: 0.2137 - accuracy: 0.9115 - auc_2: 0.9721 - val_loss: 0.3347 - val_accuracy: 0.8671 - val_auc_2: 0.9395\n",
      "Epoch 28/30\n",
      "2000/2000 [==============================] - 135s 67ms/step - loss: 0.2134 - accuracy: 0.9121 - auc_2: 0.9721 - val_loss: 0.3357 - val_accuracy: 0.8675 - val_auc_2: 0.9396\n",
      "Epoch 29/30\n",
      "2000/2000 [==============================] - 134s 67ms/step - loss: 0.2144 - accuracy: 0.9111 - auc_2: 0.9719 - val_loss: 0.3350 - val_accuracy: 0.8676 - val_auc_2: 0.9398\n",
      "Epoch 30/30\n",
      "2000/2000 [==============================] - 131s 65ms/step - loss: 0.2134 - accuracy: 0.9118 - auc_2: 0.9722 - val_loss: 0.3368 - val_accuracy: 0.8673 - val_auc_2: 0.9391\n"
     ]
    }
   ],
   "source": [
    "h1 = cnn.fit(\n",
    "    x = train_loader, \n",
    "    steps_per_epoch = TR_STEPS, \n",
    "    epochs = 30,\n",
    "    validation_data = valid_loader, \n",
    "    validation_steps = VA_STEPS, \n",
    "    verbose = 1\n",
    ")\n",
    "\n",
    "tf.keras.backend.set_value(cnn.optimizer.learning_rate, 0.0001)\n",
    "\n",
    "h2 = cnn.fit(\n",
    "    x = train_loader, \n",
    "    steps_per_epoch = TR_STEPS, \n",
    "    epochs = 30,\n",
    "    validation_data = valid_loader, \n",
    "    validation_steps = VA_STEPS, \n",
    "    verbose = 1\n",
    ")\n",
    "\n",
    "tf.keras.backend.set_value(cnn.optimizer.learning_rate, 0.00001)\n",
    "\n",
    "\n",
    "h3 = cnn.fit(\n",
    "    x = train_loader, \n",
    "    steps_per_epoch = TR_STEPS, \n",
    "    epochs = 30,\n",
    "    validation_data = valid_loader, \n",
    "    validation_steps = VA_STEPS, \n",
    "    verbose = 1\n",
    ")"
   ]
  },
  {
   "cell_type": "markdown",
   "id": "d0aa589e",
   "metadata": {},
   "source": [
    "Final outcome 95.88%, historical highest 96.02%"
   ]
  },
  {
   "cell_type": "code",
   "execution_count": null,
   "id": "647c852b",
   "metadata": {},
   "outputs": [],
   "source": []
  }
 ],
 "metadata": {
  "kernelspec": {
   "display_name": "Python 3 (ipykernel)",
   "language": "python",
   "name": "python3"
  },
  "language_info": {
   "codemirror_mode": {
    "name": "ipython",
    "version": 3
   },
   "file_extension": ".py",
   "mimetype": "text/x-python",
   "name": "python",
   "nbconvert_exporter": "python",
   "pygments_lexer": "ipython3",
   "version": "3.8.12"
  }
 },
 "nbformat": 4,
 "nbformat_minor": 5
}
