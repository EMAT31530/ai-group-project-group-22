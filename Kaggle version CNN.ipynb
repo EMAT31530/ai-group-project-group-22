{
 "cells": [
  {
   "cell_type": "code",
   "execution_count": 27,
   "id": "5ecf90bc",
   "metadata": {},
   "outputs": [],
   "source": [
    "import os\n",
    "import shutil\n",
    "import numpy as np\n",
    "import pandas as pd\n",
    "import matplotlib.pyplot as plt\n",
    "import matplotlib.patches as patches\n",
    "import cv2 as cv\n",
    "from numpy.random import seed\n",
    "seed(42)\n",
    "import pickle\n",
    "\n",
    "from sklearn.utils import shuffle\n",
    "from sklearn.metrics import confusion_matrix\n",
    "from sklearn.model_selection import train_test_split\n",
    "import tensorflow as tf\n",
    "from tensorflow.keras.callbacks import ModelCheckpoint, ReduceLROnPlateau, EarlyStopping\n",
    "from tensorflow.keras.models import Sequential\n",
    "from tensorflow.keras.layers import *\n",
    "from tensorflow.keras.preprocessing.image import ImageDataGenerator\n",
    "from glob import glob \n",
    "%matplotlib inline"
   ]
  },
  {
   "cell_type": "code",
   "execution_count": 8,
   "id": "409d0fe3",
   "metadata": {},
   "outputs": [],
   "source": [
    "IMG_SIZE = 96\n",
    "IMG_CHANNELS = 3\n",
    "#TRAIN_SIZE=80000\n",
    "TRAIN_SIZE = 8000\n",
    "BATCH_SIZE = 64\n",
    "EPOCHS = 30\n"
   ]
  },
  {
   "cell_type": "code",
   "execution_count": 9,
   "id": "97caf6a7",
   "metadata": {},
   "outputs": [
    {
     "data": {
      "text/plain": [
       "0    130908\n",
       "1     89117\n",
       "Name: label, dtype: int64"
      ]
     },
     "execution_count": 9,
     "metadata": {},
     "output_type": "execute_result"
    }
   ],
   "source": [
    "#I used cropped images\n",
    "train_labels = pd.read_csv('train_labels.csv')\n",
    "train_labels['label'].value_counts()\n"
   ]
  },
  {
   "cell_type": "code",
   "execution_count": 10,
   "id": "d3cb32a7",
   "metadata": {},
   "outputs": [
    {
     "data": {
      "text/html": [
       "<div>\n",
       "<style scoped>\n",
       "    .dataframe tbody tr th:only-of-type {\n",
       "        vertical-align: middle;\n",
       "    }\n",
       "\n",
       "    .dataframe tbody tr th {\n",
       "        vertical-align: top;\n",
       "    }\n",
       "\n",
       "    .dataframe thead th {\n",
       "        text-align: right;\n",
       "    }\n",
       "</style>\n",
       "<table border=\"1\" class=\"dataframe\">\n",
       "  <thead>\n",
       "    <tr style=\"text-align: right;\">\n",
       "      <th></th>\n",
       "      <th>label</th>\n",
       "    </tr>\n",
       "  </thead>\n",
       "  <tbody>\n",
       "    <tr>\n",
       "      <th>0</th>\n",
       "      <td>0.594969</td>\n",
       "    </tr>\n",
       "    <tr>\n",
       "      <th>1</th>\n",
       "      <td>0.405031</td>\n",
       "    </tr>\n",
       "  </tbody>\n",
       "</table>\n",
       "</div>"
      ],
      "text/plain": [
       "      label\n",
       "0  0.594969\n",
       "1  0.405031"
      ]
     },
     "execution_count": 10,
     "metadata": {},
     "output_type": "execute_result"
    }
   ],
   "source": [
    "(train_labels.label.value_counts() / len(train_labels)).to_frame()"
   ]
  },
  {
   "cell_type": "code",
   "execution_count": 11,
   "id": "40168315",
   "metadata": {},
   "outputs": [],
   "source": [
    "train_neg = train_labels[train_labels['label']==0].sample(TRAIN_SIZE,random_state=45)\n",
    "train_pos = train_labels[train_labels['label']==1].sample(TRAIN_SIZE,random_state=45)\n",
    "\n",
    "train_data = pd.concat([train_neg, train_pos], axis=0).reset_index(drop=True)\n",
    "\n",
    "train_data = shuffle(train_data)\n"
   ]
  },
  {
   "cell_type": "code",
   "execution_count": 12,
   "id": "88d35fb7",
   "metadata": {},
   "outputs": [
    {
     "data": {
      "text/plain": [
       "1    8000\n",
       "0    8000\n",
       "Name: label, dtype: int64"
      ]
     },
     "execution_count": 12,
     "metadata": {},
     "output_type": "execute_result"
    }
   ],
   "source": [
    "train_data['label'].value_counts()"
   ]
  },
  {
   "cell_type": "code",
   "execution_count": 13,
   "id": "8c97a4d8",
   "metadata": {},
   "outputs": [],
   "source": [
    "def append_ext(fn):\n",
    "    return fn+\".tif\""
   ]
  },
  {
   "cell_type": "code",
   "execution_count": 14,
   "id": "20859e16",
   "metadata": {},
   "outputs": [
    {
     "name": "stdout",
     "output_type": "stream",
     "text": [
      "(12800, 2)\n",
      "(3200, 2)\n"
     ]
    }
   ],
   "source": [
    "y = train_data['label']\n",
    "train_df, valid_df = train_test_split(train_data, test_size=0.2, random_state=45, stratify=y)\n",
    "\n",
    "print(train_df.shape)\n",
    "print(valid_df.shape)"
   ]
  },
  {
   "cell_type": "code",
   "execution_count": 15,
   "id": "e9adaf9c",
   "metadata": {},
   "outputs": [
    {
     "data": {
      "text/html": [
       "<div>\n",
       "<style scoped>\n",
       "    .dataframe tbody tr th:only-of-type {\n",
       "        vertical-align: middle;\n",
       "    }\n",
       "\n",
       "    .dataframe tbody tr th {\n",
       "        vertical-align: top;\n",
       "    }\n",
       "\n",
       "    .dataframe thead th {\n",
       "        text-align: right;\n",
       "    }\n",
       "</style>\n",
       "<table border=\"1\" class=\"dataframe\">\n",
       "  <thead>\n",
       "    <tr style=\"text-align: right;\">\n",
       "      <th></th>\n",
       "      <th>id</th>\n",
       "      <th>label</th>\n",
       "    </tr>\n",
       "  </thead>\n",
       "  <tbody>\n",
       "    <tr>\n",
       "      <th>12571</th>\n",
       "      <td>4e2c9a6d0be94031e10013cffc9dd8747520e9bd.tif</td>\n",
       "      <td>1</td>\n",
       "    </tr>\n",
       "    <tr>\n",
       "      <th>875</th>\n",
       "      <td>f87538389122888cd4c56cbe1b9b22b79a2a1c93.tif</td>\n",
       "      <td>0</td>\n",
       "    </tr>\n",
       "    <tr>\n",
       "      <th>4506</th>\n",
       "      <td>43c463fdc93bc0ad76bb64b5a5b3761648b70c2d.tif</td>\n",
       "      <td>0</td>\n",
       "    </tr>\n",
       "    <tr>\n",
       "      <th>12453</th>\n",
       "      <td>816336cfb3623fa6693bf0a0012b897dddec6b7f.tif</td>\n",
       "      <td>1</td>\n",
       "    </tr>\n",
       "    <tr>\n",
       "      <th>2101</th>\n",
       "      <td>72da772f3577ecc920101422201d0d3f03e87c07.tif</td>\n",
       "      <td>0</td>\n",
       "    </tr>\n",
       "  </tbody>\n",
       "</table>\n",
       "</div>"
      ],
      "text/plain": [
       "                                                 id  label\n",
       "12571  4e2c9a6d0be94031e10013cffc9dd8747520e9bd.tif      1\n",
       "875    f87538389122888cd4c56cbe1b9b22b79a2a1c93.tif      0\n",
       "4506   43c463fdc93bc0ad76bb64b5a5b3761648b70c2d.tif      0\n",
       "12453  816336cfb3623fa6693bf0a0012b897dddec6b7f.tif      1\n",
       "2101   72da772f3577ecc920101422201d0d3f03e87c07.tif      0"
      ]
     },
     "execution_count": 15,
     "metadata": {},
     "output_type": "execute_result"
    }
   ],
   "source": [
    "train_df['id'] = train_df['id'].apply(append_ext)\n",
    "valid_df['id'] = valid_df['id'].apply(append_ext)\n",
    "train_df.head()"
   ]
  },
  {
   "cell_type": "code",
   "execution_count": 16,
   "id": "a80fa3af",
   "metadata": {},
   "outputs": [],
   "source": [
    "train_datagen = ImageDataGenerator(rescale=1/255)\n",
    "valid_datagen = ImageDataGenerator(rescale=1/255)"
   ]
  },
  {
   "cell_type": "code",
   "execution_count": 17,
   "id": "29809c24",
   "metadata": {},
   "outputs": [
    {
     "name": "stdout",
     "output_type": "stream",
     "text": [
      "Found 12800 validated image filenames belonging to 2 classes.\n",
      "Found 3200 validated image filenames belonging to 2 classes.\n"
     ]
    }
   ],
   "source": [
    "BATCH_SIZE = 64\n",
    "train_path = './train'\n",
    "train_df['label'] = train_df['label'].astype(str)\n",
    "valid_df['label'] = valid_df['label'].astype(str)\n",
    "\n",
    "train_loader = train_datagen.flow_from_dataframe(\n",
    "    dataframe = train_df,\n",
    "    directory = train_path,\n",
    "    x_col = 'id',\n",
    "    y_col = 'label',\n",
    "    batch_size = BATCH_SIZE,\n",
    "    seed = 42,\n",
    "    shuffle = True,\n",
    "    class_mode = 'categorical',\n",
    "    target_size = (32,32)\n",
    ")\n",
    "\n",
    "valid_loader = valid_datagen.flow_from_dataframe(\n",
    "    dataframe = valid_df,\n",
    "    directory = train_path,\n",
    "    x_col = 'id',\n",
    "    y_col = 'label',\n",
    "    batch_size = BATCH_SIZE,\n",
    "    seed = 42,\n",
    "    shuffle = True,\n",
    "    class_mode = 'categorical',\n",
    "    target_size = (32,32)\n",
    ")\n"
   ]
  },
  {
   "cell_type": "code",
   "execution_count": 18,
   "id": "6036ed6e",
   "metadata": {},
   "outputs": [
    {
     "name": "stdout",
     "output_type": "stream",
     "text": [
      "200\n",
      "50\n"
     ]
    }
   ],
   "source": [
    "TR_STEPS = len(train_loader)\n",
    "VA_STEPS = len(valid_loader)\n",
    "\n",
    "print(TR_STEPS)\n",
    "print(VA_STEPS)"
   ]
  },
  {
   "cell_type": "code",
   "execution_count": 20,
   "id": "a6c605ac",
   "metadata": {},
   "outputs": [],
   "source": [
    "cnn = Sequential([\n",
    "    Conv2D(32, (3,3), activation = 'relu', padding = 'same', input_shape=(32,32,3)),\n",
    "    Conv2D(32, (3,3), activation = 'relu', padding = 'same'),\n",
    "    Conv2D(32, (3,3), activation = 'relu', padding = 'same'),\n",
    "    MaxPooling2D(2,2),\n",
    "    Dropout(0.4),\n",
    "    BatchNormalization(),\n",
    "\n",
    "    Conv2D(64, (3,3), activation = 'relu', padding = 'same'),\n",
    "    Conv2D(64, (3,3), activation = 'relu', padding = 'same'),\n",
    "    Conv2D(64, (3,3), activation = 'relu', padding = 'same'),\n",
    "    MaxPooling2D(2,2),\n",
    "    Dropout(0.5),\n",
    "    BatchNormalization(),\n",
    "    \n",
    "    Conv2D(128, (3,3), activation = 'relu', padding = 'same'),\n",
    "    Conv2D(128, (3,3), activation = 'relu', padding = 'same'),\n",
    "    Conv2D(128, (3,3), activation = 'relu', padding = 'same'),\n",
    "    MaxPooling2D(2,2),\n",
    "    Dropout(0.6),\n",
    "    BatchNormalization(),\n",
    "\n",
    "    Flatten(),\n",
    "     Dense(128, activation='relu'),\n",
    "    Dropout(0.5),\n",
    "    Dense(16, activation='relu'),\n",
    "    Dropout(0.4),\n",
    "    Dense(8, activation='relu'),\n",
    "    Dropout(0.3),\n",
    "    BatchNormalization(),\n",
    "    Dense(2, activation='softmax')\n",
    "])\n"
   ]
  },
  {
   "cell_type": "code",
   "execution_count": 21,
   "id": "f105a591",
   "metadata": {},
   "outputs": [],
   "source": [
    "opt = tf.keras.optimizers.Adam(0.001)\n",
    "cnn.compile(loss='categorical_crossentropy', optimizer=opt, metrics=['accuracy', tf.keras.metrics.AUC()])"
   ]
  },
  {
   "cell_type": "code",
   "execution_count": 22,
   "id": "fa3c3a99",
   "metadata": {
    "scrolled": false
   },
   "outputs": [
    {
     "name": "stdout",
     "output_type": "stream",
     "text": [
      "Epoch 1/30\n",
      "WARNING:tensorflow:AutoGraph could not transform <function Model.make_train_function.<locals>.train_function at 0x1681f5a60> and will run it as-is.\n",
      "Please report this to the TensorFlow team. When filing the bug, set the verbosity to 10 (on Linux, `export AUTOGRAPH_VERBOSITY=10`) and attach the full output.\n",
      "Cause: unsupported operand type(s) for -: 'NoneType' and 'int'\n",
      "To silence this warning, decorate the function with @tf.autograph.experimental.do_not_convert\n",
      "WARNING: AutoGraph could not transform <function Model.make_train_function.<locals>.train_function at 0x1681f5a60> and will run it as-is.\n",
      "Please report this to the TensorFlow team. When filing the bug, set the verbosity to 10 (on Linux, `export AUTOGRAPH_VERBOSITY=10`) and attach the full output.\n",
      "Cause: unsupported operand type(s) for -: 'NoneType' and 'int'\n",
      "To silence this warning, decorate the function with @tf.autograph.experimental.do_not_convert\n"
     ]
    },
    {
     "name": "stderr",
     "output_type": "stream",
     "text": [
      "2022-03-04 10:56:48.406332: I tensorflow/compiler/mlir/mlir_graph_optimization_pass.cc:116] None of the MLIR optimization passes are enabled (registered 2)\n",
      "2022-03-04 10:56:48.406725: W tensorflow/core/platform/profile_utils/cpu_utils.cc:126] Failed to get CPU frequency: 0 Hz\n"
     ]
    },
    {
     "name": "stdout",
     "output_type": "stream",
     "text": [
      "200/200 [==============================] - ETA: 0s - loss: 0.7263 - accuracy: 0.5155 - auc: 0.5168WARNING:tensorflow:AutoGraph could not transform <function Model.make_test_function.<locals>.test_function at 0x177d32c10> and will run it as-is.\n",
      "Please report this to the TensorFlow team. When filing the bug, set the verbosity to 10 (on Linux, `export AUTOGRAPH_VERBOSITY=10`) and attach the full output.\n",
      "Cause: unsupported operand type(s) for -: 'NoneType' and 'int'\n",
      "To silence this warning, decorate the function with @tf.autograph.experimental.do_not_convert\n",
      "WARNING: AutoGraph could not transform <function Model.make_test_function.<locals>.test_function at 0x177d32c10> and will run it as-is.\n",
      "Please report this to the TensorFlow team. When filing the bug, set the verbosity to 10 (on Linux, `export AUTOGRAPH_VERBOSITY=10`) and attach the full output.\n",
      "Cause: unsupported operand type(s) for -: 'NoneType' and 'int'\n",
      "To silence this warning, decorate the function with @tf.autograph.experimental.do_not_convert\n",
      "200/200 [==============================] - 14s 66ms/step - loss: 0.7262 - accuracy: 0.5156 - auc: 0.5169 - val_loss: 29.2717 - val_accuracy: 0.4984 - val_auc: 0.4991\n",
      "Epoch 2/30\n",
      "200/200 [==============================] - 12s 61ms/step - loss: 0.6683 - accuracy: 0.5895 - auc: 0.6183 - val_loss: 6.3616 - val_accuracy: 0.4966 - val_auc: 0.4873\n",
      "Epoch 3/30\n",
      "200/200 [==============================] - 12s 61ms/step - loss: 0.6629 - accuracy: 0.5983 - auc: 0.6280 - val_loss: 1.4815 - val_accuracy: 0.4819 - val_auc: 0.5276\n",
      "Epoch 4/30\n",
      "200/200 [==============================] - 12s 60ms/step - loss: 0.6564 - accuracy: 0.6031 - auc: 0.6374 - val_loss: 1.2174 - val_accuracy: 0.4822 - val_auc: 0.5333\n",
      "Epoch 5/30\n",
      "200/200 [==============================] - 12s 61ms/step - loss: 0.6516 - accuracy: 0.6100 - auc: 0.6508 - val_loss: 0.8675 - val_accuracy: 0.5138 - val_auc: 0.5544\n",
      "Epoch 6/30\n",
      "200/200 [==============================] - 12s 61ms/step - loss: 0.6585 - accuracy: 0.6095 - auc: 0.6428 - val_loss: 0.8381 - val_accuracy: 0.5191 - val_auc: 0.5598\n",
      "Epoch 7/30\n",
      "200/200 [==============================] - 12s 61ms/step - loss: 0.6574 - accuracy: 0.6058 - auc: 0.6388 - val_loss: 0.9297 - val_accuracy: 0.5044 - val_auc: 0.5457\n",
      "Epoch 8/30\n",
      "200/200 [==============================] - 12s 61ms/step - loss: 0.6551 - accuracy: 0.6134 - auc: 0.6471 - val_loss: 0.7033 - val_accuracy: 0.5525 - val_auc: 0.5976\n",
      "Epoch 9/30\n",
      "200/200 [==============================] - 12s 61ms/step - loss: 0.6565 - accuracy: 0.6116 - auc: 0.6480 - val_loss: 0.7422 - val_accuracy: 0.5437 - val_auc: 0.5875\n",
      "Epoch 10/30\n",
      "200/200 [==============================] - 12s 62ms/step - loss: 0.6530 - accuracy: 0.6155 - auc: 0.6529 - val_loss: 0.7062 - val_accuracy: 0.5644 - val_auc: 0.6121\n",
      "Epoch 11/30\n",
      "200/200 [==============================] - 13s 63ms/step - loss: 0.6560 - accuracy: 0.6090 - auc: 0.6509 - val_loss: 0.7411 - val_accuracy: 0.5531 - val_auc: 0.5984\n",
      "Epoch 12/30\n",
      "200/200 [==============================] - 12s 61ms/step - loss: 0.6534 - accuracy: 0.6054 - auc: 0.6509 - val_loss: 0.6951 - val_accuracy: 0.5716 - val_auc: 0.6250\n",
      "Epoch 13/30\n",
      "200/200 [==============================] - 13s 63ms/step - loss: 0.6560 - accuracy: 0.6091 - auc: 0.6563 - val_loss: 0.7253 - val_accuracy: 0.5625 - val_auc: 0.6154\n",
      "Epoch 14/30\n",
      "200/200 [==============================] - 12s 62ms/step - loss: 0.6499 - accuracy: 0.6180 - auc: 0.6681 - val_loss: 0.6880 - val_accuracy: 0.5731 - val_auc: 0.6286\n",
      "Epoch 15/30\n",
      "200/200 [==============================] - 12s 61ms/step - loss: 0.6513 - accuracy: 0.6164 - auc: 0.6696 - val_loss: 0.7151 - val_accuracy: 0.5806 - val_auc: 0.6249\n",
      "Epoch 16/30\n",
      "200/200 [==============================] - 12s 61ms/step - loss: 0.6455 - accuracy: 0.6235 - auc: 0.6808 - val_loss: 0.6804 - val_accuracy: 0.6028 - val_auc: 0.6477\n",
      "Epoch 17/30\n",
      "200/200 [==============================] - 12s 61ms/step - loss: 0.6428 - accuracy: 0.6348 - auc: 0.6856 - val_loss: 0.9002 - val_accuracy: 0.5531 - val_auc: 0.5893\n",
      "Epoch 18/30\n",
      "200/200 [==============================] - 12s 61ms/step - loss: 0.6370 - accuracy: 0.6437 - auc: 0.6950 - val_loss: 0.8653 - val_accuracy: 0.5550 - val_auc: 0.5909\n",
      "Epoch 19/30\n",
      "200/200 [==============================] - 12s 61ms/step - loss: 0.6396 - accuracy: 0.6420 - auc: 0.6920 - val_loss: 0.7364 - val_accuracy: 0.5978 - val_auc: 0.6432\n",
      "Epoch 20/30\n",
      "200/200 [==============================] - 12s 61ms/step - loss: 0.6292 - accuracy: 0.6546 - auc: 0.7096 - val_loss: 0.8390 - val_accuracy: 0.5341 - val_auc: 0.6372\n",
      "Epoch 21/30\n",
      "200/200 [==============================] - 12s 62ms/step - loss: 0.6150 - accuracy: 0.6757 - auc: 0.7354 - val_loss: 3.2925 - val_accuracy: 0.5000 - val_auc: 0.4601\n",
      "Epoch 22/30\n",
      "200/200 [==============================] - 12s 62ms/step - loss: 0.5868 - accuracy: 0.7077 - auc: 0.7683 - val_loss: 1.4924 - val_accuracy: 0.5166 - val_auc: 0.5652\n",
      "Epoch 23/30\n",
      "200/200 [==============================] - 13s 64ms/step - loss: 0.5841 - accuracy: 0.7082 - auc: 0.7729 - val_loss: 0.7153 - val_accuracy: 0.6669 - val_auc: 0.7298\n",
      "Epoch 24/30\n",
      "200/200 [==============================] - 12s 61ms/step - loss: 0.5781 - accuracy: 0.7180 - auc: 0.7790 - val_loss: 0.6915 - val_accuracy: 0.6794 - val_auc: 0.7446\n",
      "Epoch 25/30\n",
      "200/200 [==============================] - 12s 60ms/step - loss: 0.5854 - accuracy: 0.7145 - auc: 0.7741 - val_loss: 0.6438 - val_accuracy: 0.6956 - val_auc: 0.7571\n",
      "Epoch 26/30\n",
      "200/200 [==============================] - 12s 60ms/step - loss: 0.5773 - accuracy: 0.7158 - auc: 0.7790 - val_loss: 0.5986 - val_accuracy: 0.7131 - val_auc: 0.7738\n",
      "Epoch 27/30\n",
      "200/200 [==============================] - 12s 60ms/step - loss: 0.5726 - accuracy: 0.7236 - auc: 0.7836 - val_loss: 0.6405 - val_accuracy: 0.6975 - val_auc: 0.7553\n",
      "Epoch 28/30\n",
      "200/200 [==============================] - 12s 60ms/step - loss: 0.5739 - accuracy: 0.7214 - auc: 0.7834 - val_loss: 0.6257 - val_accuracy: 0.6950 - val_auc: 0.7595\n",
      "Epoch 29/30\n",
      "200/200 [==============================] - 12s 61ms/step - loss: 0.5717 - accuracy: 0.7189 - auc: 0.7835 - val_loss: 0.6086 - val_accuracy: 0.7128 - val_auc: 0.7748\n",
      "Epoch 30/30\n",
      "200/200 [==============================] - 12s 60ms/step - loss: 0.5693 - accuracy: 0.7265 - auc: 0.7876 - val_loss: 0.6038 - val_accuracy: 0.7216 - val_auc: 0.7835\n"
     ]
    }
   ],
   "source": [
    "h1 = cnn.fit(\n",
    "    x = train_loader, \n",
    "    steps_per_epoch = TR_STEPS, \n",
    "    epochs = 30,\n",
    "    validation_data = valid_loader, \n",
    "    validation_steps = VA_STEPS, \n",
    "    verbose = 1\n",
    ")"
   ]
  },
  {
   "cell_type": "code",
   "execution_count": 23,
   "id": "d1309050",
   "metadata": {},
   "outputs": [],
   "source": [
    "tf.keras.backend.set_value(cnn.optimizer.learning_rate, 0.0001)"
   ]
  },
  {
   "cell_type": "code",
   "execution_count": 24,
   "id": "7bd67d53",
   "metadata": {},
   "outputs": [
    {
     "name": "stdout",
     "output_type": "stream",
     "text": [
      "Epoch 1/30\n",
      "200/200 [==============================] - 13s 63ms/step - loss: 0.5673 - accuracy: 0.7268 - auc: 0.7884 - val_loss: 0.5287 - val_accuracy: 0.7584 - val_auc: 0.8158\n",
      "Epoch 2/30\n",
      "200/200 [==============================] - 12s 61ms/step - loss: 0.5660 - accuracy: 0.7273 - auc: 0.7897 - val_loss: 0.5266 - val_accuracy: 0.7606 - val_auc: 0.8176\n",
      "Epoch 3/30\n",
      "200/200 [==============================] - 12s 61ms/step - loss: 0.5665 - accuracy: 0.7266 - auc: 0.7883 - val_loss: 0.5267 - val_accuracy: 0.7588 - val_auc: 0.8182\n",
      "Epoch 4/30\n",
      "200/200 [==============================] - 12s 60ms/step - loss: 0.5706 - accuracy: 0.7216 - auc: 0.7844 - val_loss: 0.5279 - val_accuracy: 0.7606 - val_auc: 0.8183\n",
      "Epoch 5/30\n",
      "200/200 [==============================] - 12s 60ms/step - loss: 0.5653 - accuracy: 0.7279 - auc: 0.7913 - val_loss: 0.5271 - val_accuracy: 0.7609 - val_auc: 0.8186\n",
      "Epoch 6/30\n",
      "200/200 [==============================] - 12s 62ms/step - loss: 0.5640 - accuracy: 0.7252 - auc: 0.7909 - val_loss: 0.5268 - val_accuracy: 0.7594 - val_auc: 0.8182\n",
      "Epoch 7/30\n",
      "200/200 [==============================] - 14s 70ms/step - loss: 0.5661 - accuracy: 0.7266 - auc: 0.7885 - val_loss: 0.5265 - val_accuracy: 0.7609 - val_auc: 0.8183\n",
      "Epoch 8/30\n",
      "200/200 [==============================] - 13s 64ms/step - loss: 0.5680 - accuracy: 0.7228 - auc: 0.7879 - val_loss: 0.5282 - val_accuracy: 0.7606 - val_auc: 0.8166\n",
      "Epoch 9/30\n",
      "200/200 [==============================] - 13s 63ms/step - loss: 0.5636 - accuracy: 0.7307 - auc: 0.7921 - val_loss: 0.5266 - val_accuracy: 0.7606 - val_auc: 0.8184\n",
      "Epoch 10/30\n",
      "200/200 [==============================] - 12s 62ms/step - loss: 0.5630 - accuracy: 0.7275 - auc: 0.7903 - val_loss: 0.5267 - val_accuracy: 0.7609 - val_auc: 0.8192\n",
      "Epoch 11/30\n",
      "200/200 [==============================] - 13s 64ms/step - loss: 0.5629 - accuracy: 0.7296 - auc: 0.7910 - val_loss: 0.5264 - val_accuracy: 0.7609 - val_auc: 0.8188\n",
      "Epoch 12/30\n",
      "200/200 [==============================] - 13s 63ms/step - loss: 0.5676 - accuracy: 0.7205 - auc: 0.7878 - val_loss: 0.5271 - val_accuracy: 0.7588 - val_auc: 0.8177\n",
      "Epoch 13/30\n",
      "200/200 [==============================] - 13s 63ms/step - loss: 0.5627 - accuracy: 0.7267 - auc: 0.7923 - val_loss: 0.5266 - val_accuracy: 0.7613 - val_auc: 0.8183\n",
      "Epoch 14/30\n",
      "200/200 [==============================] - 12s 62ms/step - loss: 0.5615 - accuracy: 0.7295 - auc: 0.7928 - val_loss: 0.5262 - val_accuracy: 0.7603 - val_auc: 0.8186\n",
      "Epoch 15/30\n",
      "200/200 [==============================] - 13s 63ms/step - loss: 0.5653 - accuracy: 0.7253 - auc: 0.7898 - val_loss: 0.5257 - val_accuracy: 0.7606 - val_auc: 0.8195\n",
      "Epoch 16/30\n",
      "200/200 [==============================] - 12s 62ms/step - loss: 0.5592 - accuracy: 0.7278 - auc: 0.7933 - val_loss: 0.5257 - val_accuracy: 0.7625 - val_auc: 0.8195\n",
      "Epoch 17/30\n",
      "200/200 [==============================] - 12s 62ms/step - loss: 0.5670 - accuracy: 0.7270 - auc: 0.7879 - val_loss: 0.5280 - val_accuracy: 0.7597 - val_auc: 0.8187\n",
      "Epoch 18/30\n",
      "200/200 [==============================] - 13s 63ms/step - loss: 0.5667 - accuracy: 0.7291 - auc: 0.7894 - val_loss: 0.5279 - val_accuracy: 0.7613 - val_auc: 0.8186\n",
      "Epoch 19/30\n",
      "200/200 [==============================] - 12s 61ms/step - loss: 0.5642 - accuracy: 0.7259 - auc: 0.7909 - val_loss: 0.5266 - val_accuracy: 0.7622 - val_auc: 0.8197\n",
      "Epoch 20/30\n",
      "200/200 [==============================] - 13s 63ms/step - loss: 0.5658 - accuracy: 0.7227 - auc: 0.7885 - val_loss: 0.5259 - val_accuracy: 0.7606 - val_auc: 0.8195\n",
      "Epoch 21/30\n",
      "200/200 [==============================] - 12s 62ms/step - loss: 0.5622 - accuracy: 0.7273 - auc: 0.7915 - val_loss: 0.5256 - val_accuracy: 0.7609 - val_auc: 0.8198\n",
      "Epoch 22/30\n",
      "200/200 [==============================] - 12s 62ms/step - loss: 0.5601 - accuracy: 0.7304 - auc: 0.7938 - val_loss: 0.5280 - val_accuracy: 0.7609 - val_auc: 0.8173\n",
      "Epoch 23/30\n",
      "200/200 [==============================] - 12s 62ms/step - loss: 0.5617 - accuracy: 0.7309 - auc: 0.7917 - val_loss: 0.5270 - val_accuracy: 0.7628 - val_auc: 0.8192\n",
      "Epoch 24/30\n",
      "200/200 [==============================] - 12s 62ms/step - loss: 0.5607 - accuracy: 0.7302 - auc: 0.7947 - val_loss: 0.5260 - val_accuracy: 0.7631 - val_auc: 0.8185\n",
      "Epoch 25/30\n",
      "200/200 [==============================] - 13s 66ms/step - loss: 0.5611 - accuracy: 0.7282 - auc: 0.7937 - val_loss: 0.5274 - val_accuracy: 0.7641 - val_auc: 0.8180\n",
      "Epoch 26/30\n",
      "200/200 [==============================] - 13s 65ms/step - loss: 0.5639 - accuracy: 0.7262 - auc: 0.7932 - val_loss: 0.5264 - val_accuracy: 0.7628 - val_auc: 0.8191\n",
      "Epoch 27/30\n",
      "200/200 [==============================] - 13s 63ms/step - loss: 0.5657 - accuracy: 0.7242 - auc: 0.7902 - val_loss: 0.5263 - val_accuracy: 0.7622 - val_auc: 0.8189\n",
      "Epoch 28/30\n",
      "200/200 [==============================] - 13s 63ms/step - loss: 0.5678 - accuracy: 0.7223 - auc: 0.7891 - val_loss: 0.5268 - val_accuracy: 0.7638 - val_auc: 0.8182\n",
      "Epoch 29/30\n",
      "200/200 [==============================] - 13s 63ms/step - loss: 0.5625 - accuracy: 0.7226 - auc: 0.7918 - val_loss: 0.5269 - val_accuracy: 0.7628 - val_auc: 0.8181\n",
      "Epoch 30/30\n",
      "200/200 [==============================] - 13s 64ms/step - loss: 0.5609 - accuracy: 0.7309 - auc: 0.7941 - val_loss: 0.5265 - val_accuracy: 0.7641 - val_auc: 0.8180\n"
     ]
    }
   ],
   "source": [
    "h2 = cnn.fit(\n",
    "    x = train_loader, \n",
    "    steps_per_epoch = TR_STEPS, \n",
    "    epochs = 30,\n",
    "    validation_data = valid_loader, \n",
    "    validation_steps = VA_STEPS, \n",
    "    verbose = 1\n",
    ")"
   ]
  },
  {
   "cell_type": "code",
   "execution_count": 25,
   "id": "e6d67e34",
   "metadata": {},
   "outputs": [],
   "source": [
    "tf.keras.backend.set_value(cnn.optimizer.learning_rate, 0.00001)"
   ]
  },
  {
   "cell_type": "code",
   "execution_count": 26,
   "id": "a4b795ce",
   "metadata": {},
   "outputs": [
    {
     "name": "stdout",
     "output_type": "stream",
     "text": [
      "Epoch 1/30\n",
      "200/200 [==============================] - 13s 65ms/step - loss: 0.5631 - accuracy: 0.7291 - auc: 0.7931 - val_loss: 0.5277 - val_accuracy: 0.7606 - val_auc: 0.8177\n",
      "Epoch 2/30\n",
      "200/200 [==============================] - 13s 67ms/step - loss: 0.5630 - accuracy: 0.7253 - auc: 0.7933 - val_loss: 0.5284 - val_accuracy: 0.7606 - val_auc: 0.8177\n",
      "Epoch 3/30\n",
      "200/200 [==============================] - 13s 65ms/step - loss: 0.5659 - accuracy: 0.7267 - auc: 0.7901 - val_loss: 0.5281 - val_accuracy: 0.7613 - val_auc: 0.8177\n",
      "Epoch 4/30\n",
      "200/200 [==============================] - 13s 63ms/step - loss: 0.5632 - accuracy: 0.7255 - auc: 0.7924 - val_loss: 0.5285 - val_accuracy: 0.7594 - val_auc: 0.8172\n",
      "Epoch 5/30\n",
      "200/200 [==============================] - 13s 65ms/step - loss: 0.5621 - accuracy: 0.7302 - auc: 0.7933 - val_loss: 0.5283 - val_accuracy: 0.7619 - val_auc: 0.8174\n",
      "Epoch 6/30\n",
      "200/200 [==============================] - 13s 65ms/step - loss: 0.5623 - accuracy: 0.7306 - auc: 0.7942 - val_loss: 0.5285 - val_accuracy: 0.7606 - val_auc: 0.8178\n",
      "Epoch 7/30\n",
      "200/200 [==============================] - 13s 64ms/step - loss: 0.5659 - accuracy: 0.7265 - auc: 0.7915 - val_loss: 0.5283 - val_accuracy: 0.7609 - val_auc: 0.8178\n",
      "Epoch 8/30\n",
      "200/200 [==============================] - 13s 63ms/step - loss: 0.5677 - accuracy: 0.7219 - auc: 0.7897 - val_loss: 0.5279 - val_accuracy: 0.7628 - val_auc: 0.8179\n",
      "Epoch 9/30\n",
      "200/200 [==============================] - 13s 63ms/step - loss: 0.5637 - accuracy: 0.7288 - auc: 0.7935 - val_loss: 0.5280 - val_accuracy: 0.7616 - val_auc: 0.8178\n",
      "Epoch 10/30\n",
      "200/200 [==============================] - 13s 64ms/step - loss: 0.5604 - accuracy: 0.7319 - auc: 0.7960 - val_loss: 0.5282 - val_accuracy: 0.7609 - val_auc: 0.8176\n",
      "Epoch 11/30\n",
      "200/200 [==============================] - 13s 64ms/step - loss: 0.5631 - accuracy: 0.7259 - auc: 0.7925 - val_loss: 0.5278 - val_accuracy: 0.7609 - val_auc: 0.8180\n",
      "Epoch 12/30\n",
      "200/200 [==============================] - 12s 62ms/step - loss: 0.5644 - accuracy: 0.7304 - auc: 0.7935 - val_loss: 0.5284 - val_accuracy: 0.7619 - val_auc: 0.8175\n",
      "Epoch 13/30\n",
      "200/200 [==============================] - 13s 64ms/step - loss: 0.5651 - accuracy: 0.7261 - auc: 0.7912 - val_loss: 0.5283 - val_accuracy: 0.7619 - val_auc: 0.8177\n",
      "Epoch 14/30\n",
      "200/200 [==============================] - 13s 63ms/step - loss: 0.5622 - accuracy: 0.7305 - auc: 0.7940 - val_loss: 0.5279 - val_accuracy: 0.7619 - val_auc: 0.8181\n",
      "Epoch 15/30\n",
      "200/200 [==============================] - 13s 63ms/step - loss: 0.5623 - accuracy: 0.7261 - auc: 0.7923 - val_loss: 0.5282 - val_accuracy: 0.7609 - val_auc: 0.8175\n",
      "Epoch 16/30\n",
      "200/200 [==============================] - 13s 63ms/step - loss: 0.5611 - accuracy: 0.7304 - auc: 0.7941 - val_loss: 0.5282 - val_accuracy: 0.7600 - val_auc: 0.8177\n",
      "Epoch 17/30\n",
      "200/200 [==============================] - 13s 63ms/step - loss: 0.5615 - accuracy: 0.7278 - auc: 0.7927 - val_loss: 0.5282 - val_accuracy: 0.7613 - val_auc: 0.8176\n",
      "Epoch 18/30\n",
      "200/200 [==============================] - 12s 62ms/step - loss: 0.5623 - accuracy: 0.7244 - auc: 0.7922 - val_loss: 0.5282 - val_accuracy: 0.7619 - val_auc: 0.8180\n",
      "Epoch 19/30\n",
      "200/200 [==============================] - 13s 63ms/step - loss: 0.5630 - accuracy: 0.7326 - auc: 0.7952 - val_loss: 0.5283 - val_accuracy: 0.7597 - val_auc: 0.8176\n",
      "Epoch 20/30\n",
      "200/200 [==============================] - 13s 63ms/step - loss: 0.5626 - accuracy: 0.7319 - auc: 0.7941 - val_loss: 0.5282 - val_accuracy: 0.7616 - val_auc: 0.8175\n",
      "Epoch 21/30\n",
      "200/200 [==============================] - 13s 63ms/step - loss: 0.5569 - accuracy: 0.7312 - auc: 0.7973 - val_loss: 0.5277 - val_accuracy: 0.7616 - val_auc: 0.8181\n",
      "Epoch 22/30\n",
      "200/200 [==============================] - 13s 63ms/step - loss: 0.5621 - accuracy: 0.7261 - auc: 0.7933 - val_loss: 0.5281 - val_accuracy: 0.7609 - val_auc: 0.8178\n",
      "Epoch 23/30\n",
      "200/200 [==============================] - 13s 64ms/step - loss: 0.5592 - accuracy: 0.7271 - auc: 0.7945 - val_loss: 0.5278 - val_accuracy: 0.7613 - val_auc: 0.8179\n",
      "Epoch 24/30\n",
      "200/200 [==============================] - 13s 63ms/step - loss: 0.5653 - accuracy: 0.7269 - auc: 0.7903 - val_loss: 0.5278 - val_accuracy: 0.7616 - val_auc: 0.8182\n",
      "Epoch 25/30\n",
      "200/200 [==============================] - 12s 62ms/step - loss: 0.5614 - accuracy: 0.7354 - auc: 0.7951 - val_loss: 0.5281 - val_accuracy: 0.7613 - val_auc: 0.8178\n",
      "Epoch 26/30\n",
      "200/200 [==============================] - 13s 64ms/step - loss: 0.5624 - accuracy: 0.7287 - auc: 0.7937 - val_loss: 0.5279 - val_accuracy: 0.7625 - val_auc: 0.8181\n",
      "Epoch 27/30\n",
      "200/200 [==============================] - 13s 64ms/step - loss: 0.5679 - accuracy: 0.7257 - auc: 0.7898 - val_loss: 0.5280 - val_accuracy: 0.7613 - val_auc: 0.8181\n",
      "Epoch 28/30\n",
      "200/200 [==============================] - 13s 63ms/step - loss: 0.5592 - accuracy: 0.7295 - auc: 0.7950 - val_loss: 0.5281 - val_accuracy: 0.7616 - val_auc: 0.8178\n",
      "Epoch 29/30\n",
      "200/200 [==============================] - 13s 63ms/step - loss: 0.5619 - accuracy: 0.7273 - auc: 0.7932 - val_loss: 0.5278 - val_accuracy: 0.7609 - val_auc: 0.8179\n",
      "Epoch 30/30\n",
      "200/200 [==============================] - 13s 63ms/step - loss: 0.5660 - accuracy: 0.7295 - auc: 0.7933 - val_loss: 0.5282 - val_accuracy: 0.7616 - val_auc: 0.8177\n"
     ]
    }
   ],
   "source": [
    " h3 = cnn.fit(\n",
    "    x = train_loader, \n",
    "    steps_per_epoch = TR_STEPS, \n",
    "    epochs = 30,\n",
    "    validation_data = valid_loader, \n",
    "    validation_steps = VA_STEPS, \n",
    "    verbose = 1\n",
    ")"
   ]
  },
  {
   "cell_type": "code",
   "execution_count": null,
   "id": "c04293f3",
   "metadata": {},
   "outputs": [],
   "source": []
  }
 ],
 "metadata": {
  "kernelspec": {
   "display_name": "Python 3 (ipykernel)",
   "language": "python",
   "name": "python3"
  },
  "language_info": {
   "codemirror_mode": {
    "name": "ipython",
    "version": 3
   },
   "file_extension": ".py",
   "mimetype": "text/x-python",
   "name": "python",
   "nbconvert_exporter": "python",
   "pygments_lexer": "ipython3",
   "version": "3.8.12"
  }
 },
 "nbformat": 4,
 "nbformat_minor": 5
}
