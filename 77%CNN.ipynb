{
 "cells": [
  {
   "cell_type": "code",
   "execution_count": 1,
   "id": "5ecf90bc",
   "metadata": {},
   "outputs": [],
   "source": [
    "import os\n",
    "import shutil\n",
    "import numpy as np\n",
    "import pandas as pd\n",
    "import matplotlib.pyplot as plt\n",
    "import matplotlib.patches as patches\n",
    "import cv2 as cv\n",
    "from numpy.random import seed\n",
    "seed(42)\n",
    "import pickle\n",
    "\n",
    "from sklearn.utils import shuffle\n",
    "from sklearn.metrics import confusion_matrix\n",
    "from sklearn.model_selection import train_test_split\n",
    "import tensorflow as tf\n",
    "from tensorflow.keras.callbacks import ModelCheckpoint, ReduceLROnPlateau, EarlyStopping\n",
    "from tensorflow.keras.models import Sequential\n",
    "from tensorflow.keras.layers import *\n",
    "from tensorflow.keras.preprocessing.image import ImageDataGenerator\n",
    "from glob import glob \n",
    "%matplotlib inline"
   ]
  },
  {
   "cell_type": "markdown", 
   "id": "4d919234",
   "metadata": {},
   "source": [
    "Some learning parameters"
   ]
  },
  {
   "cell_type": "code",
   "execution_count": null,
   "id": "d36ddddc",
   "metadata": {},
   "outputs": [],
   "source": [
    "IMG_CHANNELS = 3\n",
    "#TRAIN_SIZE=80000\n",
    "TRAIN_SIZE = 8000\n",
    "BATCH_SIZE = 64\n",
    "EPOCHS = 30\n"
   ]
  },
  {
   "cell_type": "markdown",
   "id": "1cf5c24c",
   "metadata": {},
   "source": [
    "Data exploration"
   ]
  },
  {
   "cell_type": "code",
   "execution_count": 3,
   "id": "97caf6a7",
   "metadata": {},
   "outputs": [
    {
     "data": {
      "text/plain": [
       "0    130908\n",
       "1     89117\n",
       "Name: label, dtype: int64"
      ]
     },
     "execution_count": 3,
     "metadata": {},
     "output_type": "execute_result"
    }
   ],
   "source": [
    "#I used cropped images\n",
    "train_labels = pd.read_csv('train_labels.csv')\n",
    "train_labels['label'].value_counts()\n"
   ]
  },
  {
   "cell_type": "code",
   "execution_count": 4,
   "id": "d3cb32a7",
   "metadata": {},
   "outputs": [
    {
     "data": {
      "text/html": [
       "<div>\n",
       "<style scoped>\n",
       "    .dataframe tbody tr th:only-of-type {\n",
       "        vertical-align: middle;\n",
       "    }\n",
       "\n",
       "    .dataframe tbody tr th {\n",
       "        vertical-align: top;\n",
       "    }\n",
       "\n",
       "    .dataframe thead th {\n",
       "        text-align: right;\n",
       "    }\n",
       "</style>\n",
       "<table border=\"1\" class=\"dataframe\">\n",
       "  <thead>\n",
       "    <tr style=\"text-align: right;\">\n",
       "      <th></th>\n",
       "      <th>label</th>\n",
       "    </tr>\n",
       "  </thead>\n",
       "  <tbody>\n",
       "    <tr>\n",
       "      <th>0</th>\n",
       "      <td>0.594969</td>\n",
       "    </tr>\n",
       "    <tr>\n",
       "      <th>1</th>\n",
       "      <td>0.405031</td>\n",
       "    </tr>\n",
       "  </tbody>\n",
       "</table>\n",
       "</div>"
      ],
      "text/plain": [
       "      label\n",
       "0  0.594969\n",
       "1  0.405031"
      ]
     },
     "execution_count": 4,
     "metadata": {},
     "output_type": "execute_result"
    }
   ],
   "source": [
    "(train_labels.label.value_counts() / len(train_labels)).to_frame()"
   ]
  },
  {
   "cell_type": "markdown",
   "id": "4775bf57",
   "metadata": {},
   "source": [
    "Balancing the data"
   ]
  },
  {
   "cell_type": "code",
   "execution_count": 5,
   "id": "40168315",
   "metadata": {},
   "outputs": [],
   "source": [
    "train_neg = train_labels[train_labels['label']==0].sample(TRAIN_SIZE,random_state=45)\n",
    "train_pos = train_labels[train_labels['label']==1].sample(TRAIN_SIZE,random_state=45)\n",
    "\n",
    "train_data = pd.concat([train_neg, train_pos], axis=0).reset_index(drop=True)\n",
    "\n",
    "train_data = shuffle(train_data)\n"
   ]
  },
  {
   "cell_type": "code",
   "execution_count": 6,
   "id": "88d35fb7",
   "metadata": {},
   "outputs": [
    {
     "data": {
      "text/plain": [
       "1    8000\n",
       "0    8000\n",
       "Name: label, dtype: int64"
      ]
     },
     "execution_count": 6,
     "metadata": {},
     "output_type": "execute_result"
    }
   ],
   "source": [
    "train_data['label'].value_counts()"
   ]
  },
  {
   "cell_type": "code",
   "execution_count": 7,
   "id": "8c97a4d8",
   "metadata": {},
   "outputs": [],
   "source": [
    "def append_ext(fn):\n",
    "    return fn+\".tif\""
   ]
  },
  {
   "cell_type": "code",
   "execution_count": 8,
   "id": "20859e16",
   "metadata": {},
   "outputs": [
    {
     "name": "stdout",
     "output_type": "stream",
     "text": [
      "(12800, 2)\n",
      "(3200, 2)\n"
     ]
    }
   ],
   "source": [
    "y = train_data['label']\n",
    "train_df, valid_df = train_test_split(train_data, test_size=0.2, random_state=45, stratify=y)\n",
    "\n",
    "print(train_df.shape)\n",
    "print(valid_df.shape)"
   ]
  },
  {
   "cell_type": "code",
   "execution_count": 9,
   "id": "e9adaf9c",
   "metadata": {},
   "outputs": [
    {
     "data": {
      "text/html": [
       "<div>\n",
       "<style scoped>\n",
       "    .dataframe tbody tr th:only-of-type {\n",
       "        vertical-align: middle;\n",
       "    }\n",
       "\n",
       "    .dataframe tbody tr th {\n",
       "        vertical-align: top;\n",
       "    }\n",
       "\n",
       "    .dataframe thead th {\n",
       "        text-align: right;\n",
       "    }\n",
       "</style>\n",
       "<table border=\"1\" class=\"dataframe\">\n",
       "  <thead>\n",
       "    <tr style=\"text-align: right;\">\n",
       "      <th></th>\n",
       "      <th>id</th>\n",
       "      <th>label</th>\n",
       "    </tr>\n",
       "  </thead>\n",
       "  <tbody>\n",
       "    <tr>\n",
       "      <th>12571</th>\n",
       "      <td>4e2c9a6d0be94031e10013cffc9dd8747520e9bd.tif</td>\n",
       "      <td>1</td>\n",
       "    </tr>\n",
       "    <tr>\n",
       "      <th>875</th>\n",
       "      <td>f87538389122888cd4c56cbe1b9b22b79a2a1c93.tif</td>\n",
       "      <td>0</td>\n",
       "    </tr>\n",
       "    <tr>\n",
       "      <th>4506</th>\n",
       "      <td>43c463fdc93bc0ad76bb64b5a5b3761648b70c2d.tif</td>\n",
       "      <td>0</td>\n",
       "    </tr>\n",
       "    <tr>\n",
       "      <th>12453</th>\n",
       "      <td>816336cfb3623fa6693bf0a0012b897dddec6b7f.tif</td>\n",
       "      <td>1</td>\n",
       "    </tr>\n",
       "    <tr>\n",
       "      <th>2101</th>\n",
       "      <td>72da772f3577ecc920101422201d0d3f03e87c07.tif</td>\n",
       "      <td>0</td>\n",
       "    </tr>\n",
       "  </tbody>\n",
       "</table>\n",
       "</div>"
      ],
      "text/plain": [
       "                                                 id  label\n",
       "12571  4e2c9a6d0be94031e10013cffc9dd8747520e9bd.tif      1\n",
       "875    f87538389122888cd4c56cbe1b9b22b79a2a1c93.tif      0\n",
       "4506   43c463fdc93bc0ad76bb64b5a5b3761648b70c2d.tif      0\n",
       "12453  816336cfb3623fa6693bf0a0012b897dddec6b7f.tif      1\n",
       "2101   72da772f3577ecc920101422201d0d3f03e87c07.tif      0"
      ]
     },
     "execution_count": 9,
     "metadata": {},
     "output_type": "execute_result"
    }
   ],
   "source": [
    "train_df['id'] = train_df['id'].apply(append_ext)\n",
    "valid_df['id'] = valid_df['id'].apply(append_ext)\n",
    "train_df.head()"
   ]
  },
  {
   "cell_type": "markdown",
   "id": "d1f1b76c",
   "metadata": {},
   "source": [
    "Image generator that load images in batches"
   ]
  },
  {
   "cell_type": "code",
   "execution_count": 10,
   "id": "a80fa3af",
   "metadata": {},
   "outputs": [],
   "source": [
    "train_datagen = ImageDataGenerator(rescale=1/255)\n",
    "valid_datagen = ImageDataGenerator(rescale=1/255)"
   ]
  },
  {
   "cell_type": "code",
   "execution_count": 11,
   "id": "29809c24",
   "metadata": {},
   "outputs": [
    {
     "name": "stdout",
     "output_type": "stream",
     "text": [
      "Found 12800 validated image filenames belonging to 2 classes.\n",
      "Found 3200 validated image filenames belonging to 2 classes.\n"
     ]
    }
   ],
   "source": [
    "BATCH_SIZE = 64\n",
    "train_path = './train'\n",
    "train_df['label'] = train_df['label'].astype(str)\n",
    "valid_df['label'] = valid_df['label'].astype(str)\n",
    "\n",
    "train_loader = train_datagen.flow_from_dataframe(\n",
    "    dataframe = train_df,\n",
    "    directory = train_path,\n",
    "    x_col = 'id',\n",
    "    y_col = 'label',\n",
    "    batch_size = BATCH_SIZE,\n",
    "    seed = 42,\n",
    "    shuffle = True,\n",
    "    class_mode = 'categorical',\n",
    "    target_size = (32,32)\n",
    ")\n",
    "\n",
    "valid_loader = valid_datagen.flow_from_dataframe(\n",
    "    dataframe = valid_df,\n",
    "    directory = train_path,\n",
    "    x_col = 'id',\n",
    "    y_col = 'label',\n",
    "    batch_size = BATCH_SIZE,\n",
    "    seed = 42,\n",
    "    shuffle = True,\n",
    "    class_mode = 'categorical',\n",
    "    target_size = (32,32)\n",
    ")\n"
   ]
  },
  {
   "cell_type": "code",
   "execution_count": 12,
   "id": "6036ed6e",
   "metadata": {},
   "outputs": [
    {
     "name": "stdout",
     "output_type": "stream",
     "text": [
      "200\n",
      "50\n"
     ]
    }
   ],
   "source": [
    "TR_STEPS = len(train_loader)\n",
    "VA_STEPS = len(valid_loader)\n",
    "\n",
    "print(TR_STEPS)\n",
    "print(VA_STEPS)"
   ]
  },
  {
   "cell_type": "code",
   "execution_count": 45,
   "id": "a6c605ac",
   "metadata": {},
   "outputs": [],
   "source": [
    "cnn = Sequential([\n",
    "    Conv2D(32, (3,3), activation = 'relu', padding = 'same', input_shape=(32,32,3)),\n",
    "    #Conv2D(32, (3,3), activation = 'relu', padding = 'same'),\n",
    "    #Conv2D(32, (3,3), activation = 'relu', padding = 'same'),\n",
    "    BatchNormalization(),\n",
    "    MaxPooling2D(2,2),\n",
    "    Dropout(0.4),\n",
    "    BatchNormalization(),\n",
    "\n",
    "    Conv2D(64, (3,3), activation = 'relu', padding = 'same'),\n",
    "    #Conv2D(64, (3,3), activation = 'relu', padding = 'same'),\n",
    "    #Conv2D(64, (3,3), activation = 'relu', padding = 'same'),\n",
    "    BatchNormalization(),\n",
    "    MaxPooling2D(2,2),\n",
    "    Dropout(0.3),\n",
    "    BatchNormalization(),\n",
    "    \n",
    "    Conv2D(128, (3,3), activation = 'relu', padding = 'same'),\n",
    "    #Conv2D(128, (3,3), activation = 'relu', padding = 'same'),\n",
    "    #Conv2D(128, (3,3), activation = 'relu', padding = 'same'),\n",
    "    BatchNormalization(),\n",
    "    MaxPooling2D(2,2),\n",
    "    Dropout(0.2),\n",
    "    BatchNormalization(),\n",
    "\n",
    "    Flatten(),\n",
    "     Dense(128, activation='relu'),\n",
    "    Dense(16, activation='relu'),\n",
    "    Dense(8, activation='relu'),\n",
    "    BatchNormalization(),\n",
    "    Dense(2, activation='softmax')\n",
    "])\n"
   ]
  },
  {
   "cell_type": "markdown",
   "id": "12c51f8a",
   "metadata": {},
   "source": [
    "Round one training"
   ]
  },
  {
   "cell_type": "code",
   "execution_count": 46,
   "id": "f105a591",
   "metadata": {},
   "outputs": [],
   "source": [
    "opt = tf.keras.optimizers.Adam(0.001)\n",
    "cnn.compile(loss='binary_crossentropy', optimizer=opt, metrics=['accuracy', tf.keras.metrics.AUC()])"
   ]
  },
  {
   "cell_type": "code",
   "execution_count": 47,
   "id": "fa3c3a99",
   "metadata": {
    "scrolled": false
   },
   "outputs": [
    {
     "name": "stdout",
     "output_type": "stream",
     "text": [
      "Epoch 1/30\n",
      "WARNING:tensorflow:AutoGraph could not transform <function Model.make_train_function.<locals>.train_function at 0x175b30670> and will run it as-is.\n",
      "Please report this to the TensorFlow team. When filing the bug, set the verbosity to 10 (on Linux, `export AUTOGRAPH_VERBOSITY=10`) and attach the full output.\n",
      "Cause: unsupported operand type(s) for -: 'NoneType' and 'int'\n",
      "To silence this warning, decorate the function with @tf.autograph.experimental.do_not_convert\n",
      "WARNING: AutoGraph could not transform <function Model.make_train_function.<locals>.train_function at 0x175b30670> and will run it as-is.\n",
      "Please report this to the TensorFlow team. When filing the bug, set the verbosity to 10 (on Linux, `export AUTOGRAPH_VERBOSITY=10`) and attach the full output.\n",
      "Cause: unsupported operand type(s) for -: 'NoneType' and 'int'\n",
      "To silence this warning, decorate the function with @tf.autograph.experimental.do_not_convert\n",
      "200/200 [==============================] - ETA: 0s - loss: 0.5679 - accuracy: 0.7153 - auc_5: 0.7869WARNING:tensorflow:AutoGraph could not transform <function Model.make_test_function.<locals>.test_function at 0x17c4e5e50> and will run it as-is.\n",
      "Please report this to the TensorFlow team. When filing the bug, set the verbosity to 10 (on Linux, `export AUTOGRAPH_VERBOSITY=10`) and attach the full output.\n",
      "Cause: unsupported operand type(s) for -: 'NoneType' and 'int'\n",
      "To silence this warning, decorate the function with @tf.autograph.experimental.do_not_convert\n",
      "WARNING: AutoGraph could not transform <function Model.make_test_function.<locals>.test_function at 0x17c4e5e50> and will run it as-is.\n",
      "Please report this to the TensorFlow team. When filing the bug, set the verbosity to 10 (on Linux, `export AUTOGRAPH_VERBOSITY=10`) and attach the full output.\n",
      "Cause: unsupported operand type(s) for -: 'NoneType' and 'int'\n",
      "To silence this warning, decorate the function with @tf.autograph.experimental.do_not_convert\n",
      "200/200 [==============================] - 10s 46ms/step - loss: 0.5677 - accuracy: 0.7155 - auc_5: 0.7870 - val_loss: 2.2466 - val_accuracy: 0.5000 - val_auc_5: 0.5000\n",
      "Epoch 2/30\n",
      "200/200 [==============================] - 8s 41ms/step - loss: 0.5019 - accuracy: 0.7650 - auc_5: 0.8356 - val_loss: 1.3602 - val_accuracy: 0.6181 - val_auc_5: 0.6039\n",
      "Epoch 3/30\n",
      "200/200 [==============================] - 8s 40ms/step - loss: 0.4879 - accuracy: 0.7710 - auc_5: 0.8457 - val_loss: 1.1672 - val_accuracy: 0.5663 - val_auc_5: 0.6419\n",
      "Epoch 4/30\n",
      "200/200 [==============================] - 8s 40ms/step - loss: 0.4861 - accuracy: 0.7702 - auc_5: 0.8459 - val_loss: 0.9681 - val_accuracy: 0.6228 - val_auc_5: 0.6741\n",
      "Epoch 5/30\n",
      "200/200 [==============================] - 8s 39ms/step - loss: 0.4635 - accuracy: 0.7832 - auc_5: 0.8626 - val_loss: 0.5168 - val_accuracy: 0.7753 - val_auc_5: 0.8395\n",
      "Epoch 6/30\n",
      "200/200 [==============================] - 8s 39ms/step - loss: 0.4542 - accuracy: 0.7901 - auc_5: 0.8684 - val_loss: 0.9612 - val_accuracy: 0.6384 - val_auc_5: 0.6806\n",
      "Epoch 7/30\n",
      "200/200 [==============================] - 8s 39ms/step - loss: 0.4630 - accuracy: 0.7840 - auc_5: 0.8624 - val_loss: 1.1749 - val_accuracy: 0.6184 - val_auc_5: 0.6313\n",
      "Epoch 8/30\n",
      "200/200 [==============================] - 8s 38ms/step - loss: 0.4418 - accuracy: 0.7992 - auc_5: 0.8761 - val_loss: 0.5957 - val_accuracy: 0.7416 - val_auc_5: 0.8136\n",
      "Epoch 9/30\n",
      "200/200 [==============================] - 7s 37ms/step - loss: 0.4363 - accuracy: 0.7996 - auc_5: 0.8792 - val_loss: 0.4910 - val_accuracy: 0.7837 - val_auc_5: 0.8536\n",
      "Epoch 10/30\n",
      "200/200 [==============================] - 7s 33ms/step - loss: 0.4344 - accuracy: 0.8002 - auc_5: 0.8807 - val_loss: 0.5598 - val_accuracy: 0.7513 - val_auc_5: 0.8229\n",
      "Epoch 11/30\n",
      "200/200 [==============================] - 7s 33ms/step - loss: 0.4259 - accuracy: 0.8057 - auc_5: 0.8853 - val_loss: 1.1684 - val_accuracy: 0.6469 - val_auc_5: 0.6587\n",
      "Epoch 12/30\n",
      "200/200 [==============================] - 6s 32ms/step - loss: 0.4116 - accuracy: 0.8160 - auc_5: 0.8931 - val_loss: 0.5247 - val_accuracy: 0.7675 - val_auc_5: 0.8476\n",
      "Epoch 13/30\n",
      "200/200 [==============================] - 6s 31ms/step - loss: 0.4148 - accuracy: 0.8148 - auc_5: 0.8909 - val_loss: 0.5856 - val_accuracy: 0.7347 - val_auc_5: 0.8130\n",
      "Epoch 14/30\n",
      "200/200 [==============================] - 6s 31ms/step - loss: 0.4062 - accuracy: 0.8146 - auc_5: 0.8957 - val_loss: 0.8534 - val_accuracy: 0.6906 - val_auc_5: 0.7473\n",
      "Epoch 15/30\n",
      "200/200 [==============================] - 6s 31ms/step - loss: 0.3907 - accuracy: 0.8280 - auc_5: 0.9039 - val_loss: 0.5166 - val_accuracy: 0.7775 - val_auc_5: 0.8545\n",
      "Epoch 16/30\n",
      "200/200 [==============================] - 6s 31ms/step - loss: 0.3833 - accuracy: 0.8282 - auc_5: 0.9072 - val_loss: 0.5375 - val_accuracy: 0.7709 - val_auc_5: 0.8415\n",
      "Epoch 17/30\n",
      "200/200 [==============================] - 6s 31ms/step - loss: 0.3653 - accuracy: 0.8426 - auc_5: 0.9168 - val_loss: 0.6107 - val_accuracy: 0.7416 - val_auc_5: 0.8174\n",
      "Epoch 18/30\n",
      "200/200 [==============================] - 6s 31ms/step - loss: 0.3530 - accuracy: 0.8545 - auc_5: 0.9225 - val_loss: 0.5348 - val_accuracy: 0.7597 - val_auc_5: 0.8253\n",
      "Epoch 19/30\n",
      "200/200 [==============================] - 6s 31ms/step - loss: 0.3346 - accuracy: 0.8594 - auc_5: 0.9297 - val_loss: 0.5187 - val_accuracy: 0.7788 - val_auc_5: 0.8560\n",
      "Epoch 20/30\n",
      "200/200 [==============================] - 6s 31ms/step - loss: 0.3379 - accuracy: 0.8517 - auc_5: 0.9281 - val_loss: 0.7585 - val_accuracy: 0.7322 - val_auc_5: 0.7891\n",
      "Epoch 21/30\n",
      "200/200 [==============================] - 6s 32ms/step - loss: 0.3006 - accuracy: 0.8764 - auc_5: 0.9433 - val_loss: 0.5597 - val_accuracy: 0.7747 - val_auc_5: 0.8386\n",
      "Epoch 22/30\n",
      "200/200 [==============================] - 6s 31ms/step - loss: 0.2994 - accuracy: 0.8712 - auc_5: 0.9436 - val_loss: 0.6788 - val_accuracy: 0.7653 - val_auc_5: 0.8254\n",
      "Epoch 23/30\n",
      "200/200 [==============================] - 6s 31ms/step - loss: 0.3005 - accuracy: 0.8766 - auc_5: 0.9426 - val_loss: 0.7950 - val_accuracy: 0.7506 - val_auc_5: 0.8019\n",
      "Epoch 24/30\n",
      "200/200 [==============================] - 6s 31ms/step - loss: 0.2843 - accuracy: 0.8872 - auc_5: 0.9485 - val_loss: 0.6353 - val_accuracy: 0.7569 - val_auc_5: 0.8228\n",
      "Epoch 25/30\n",
      "200/200 [==============================] - 6s 31ms/step - loss: 0.2661 - accuracy: 0.8889 - auc_5: 0.9545 - val_loss: 0.5917 - val_accuracy: 0.7716 - val_auc_5: 0.8375\n",
      "Epoch 26/30\n",
      "200/200 [==============================] - 6s 31ms/step - loss: 0.2614 - accuracy: 0.8948 - auc_5: 0.9549 - val_loss: 0.6953 - val_accuracy: 0.7391 - val_auc_5: 0.8043\n",
      "Epoch 27/30\n",
      "200/200 [==============================] - 6s 31ms/step - loss: 0.2516 - accuracy: 0.8979 - auc_5: 0.9586 - val_loss: 0.8424 - val_accuracy: 0.7222 - val_auc_5: 0.7838\n",
      "Epoch 28/30\n",
      "200/200 [==============================] - 6s 31ms/step - loss: 0.2316 - accuracy: 0.9029 - auc_5: 0.9653 - val_loss: 0.5920 - val_accuracy: 0.7700 - val_auc_5: 0.8353\n",
      "Epoch 29/30\n",
      "200/200 [==============================] - 6s 31ms/step - loss: 0.2212 - accuracy: 0.9118 - auc_5: 0.9670 - val_loss: 0.7230 - val_accuracy: 0.7634 - val_auc_5: 0.8193\n",
      "Epoch 30/30\n",
      "200/200 [==============================] - 6s 31ms/step - loss: 0.2157 - accuracy: 0.9127 - auc_5: 0.9685 - val_loss: 0.6752 - val_accuracy: 0.7569 - val_auc_5: 0.8094\n"
     ]
    }
   ],
   "source": [
    "h1 = cnn.fit(\n",
    "    x = train_loader, \n",
    "    steps_per_epoch = TR_STEPS, \n",
    "    epochs = 30,\n",
    "    validation_data = valid_loader, \n",
    "    validation_steps = VA_STEPS, \n",
    "    verbose = 1\n",
    ")"
   ]
  },
  {
   "cell_type": "code",
   "execution_count": 48,
   "id": "d1309050",
   "metadata": {},
   "outputs": [],
   "source": [
    "tf.keras.backend.set_value(cnn.optimizer.learning_rate, 0.0001)"
   ]
  },
  {
   "cell_type": "markdown",
   "id": "adefcb4e",
   "metadata": {},
   "source": [
    "Round two training"
   ]
  },
  {
   "cell_type": "code",
   "execution_count": 49,
   "id": "7bd67d53",
   "metadata": {},
   "outputs": [
    {
     "name": "stdout",
     "output_type": "stream",
     "text": [
      "Epoch 1/30\n",
      "200/200 [==============================] - 8s 40ms/step - loss: 0.1922 - accuracy: 0.9251 - auc_5: 0.9755 - val_loss: 0.6874 - val_accuracy: 0.7647 - val_auc_5: 0.8260\n",
      "Epoch 2/30\n",
      "200/200 [==============================] - 7s 37ms/step - loss: 0.1849 - accuracy: 0.9280 - auc_5: 0.9772 - val_loss: 0.6927 - val_accuracy: 0.7675 - val_auc_5: 0.8286\n",
      "Epoch 3/30\n",
      "200/200 [==============================] - 7s 36ms/step - loss: 0.1893 - accuracy: 0.9238 - auc_5: 0.9757 - val_loss: 0.6903 - val_accuracy: 0.7656 - val_auc_5: 0.8263\n",
      "Epoch 4/30\n",
      "200/200 [==============================] - 7s 36ms/step - loss: 0.1839 - accuracy: 0.9288 - auc_5: 0.9763 - val_loss: 0.6796 - val_accuracy: 0.7691 - val_auc_5: 0.8289\n",
      "Epoch 5/30\n",
      "200/200 [==============================] - 7s 33ms/step - loss: 0.1779 - accuracy: 0.9323 - auc_5: 0.9780 - val_loss: 0.6847 - val_accuracy: 0.7738 - val_auc_5: 0.8312\n",
      "Epoch 6/30\n",
      "200/200 [==============================] - 6s 32ms/step - loss: 0.1665 - accuracy: 0.9375 - auc_5: 0.9806 - val_loss: 0.6919 - val_accuracy: 0.7741 - val_auc_5: 0.8319\n",
      "Epoch 7/30\n",
      "200/200 [==============================] - 6s 32ms/step - loss: 0.1704 - accuracy: 0.9334 - auc_5: 0.9800 - val_loss: 0.6881 - val_accuracy: 0.7688 - val_auc_5: 0.8312\n",
      "Epoch 8/30\n",
      "200/200 [==============================] - 6s 32ms/step - loss: 0.1662 - accuracy: 0.9368 - auc_5: 0.9800 - val_loss: 0.6995 - val_accuracy: 0.7706 - val_auc_5: 0.8284\n",
      "Epoch 9/30\n",
      "200/200 [==============================] - 6s 31ms/step - loss: 0.1566 - accuracy: 0.9403 - auc_5: 0.9829 - val_loss: 0.6623 - val_accuracy: 0.7753 - val_auc_5: 0.8363\n",
      "Epoch 10/30\n",
      "200/200 [==============================] - 6s 31ms/step - loss: 0.1647 - accuracy: 0.9368 - auc_5: 0.9805 - val_loss: 0.6620 - val_accuracy: 0.7759 - val_auc_5: 0.8374\n",
      "Epoch 11/30\n",
      "200/200 [==============================] - 6s 31ms/step - loss: 0.1630 - accuracy: 0.9359 - auc_5: 0.9812 - val_loss: 0.7063 - val_accuracy: 0.7731 - val_auc_5: 0.8277\n",
      "Epoch 12/30\n",
      "200/200 [==============================] - 6s 31ms/step - loss: 0.1547 - accuracy: 0.9413 - auc_5: 0.9829 - val_loss: 0.6921 - val_accuracy: 0.7722 - val_auc_5: 0.8308\n",
      "Epoch 13/30\n",
      "200/200 [==============================] - 6s 31ms/step - loss: 0.1519 - accuracy: 0.9440 - auc_5: 0.9833 - val_loss: 0.7283 - val_accuracy: 0.7706 - val_auc_5: 0.8261\n",
      "Epoch 14/30\n",
      "200/200 [==============================] - 6s 31ms/step - loss: 0.1542 - accuracy: 0.9398 - auc_5: 0.9828 - val_loss: 0.7280 - val_accuracy: 0.7709 - val_auc_5: 0.8293\n",
      "Epoch 15/30\n",
      "200/200 [==============================] - 6s 31ms/step - loss: 0.1569 - accuracy: 0.9387 - auc_5: 0.9812 - val_loss: 0.6962 - val_accuracy: 0.7722 - val_auc_5: 0.8329\n",
      "Epoch 16/30\n",
      "200/200 [==============================] - 6s 31ms/step - loss: 0.1531 - accuracy: 0.9427 - auc_5: 0.9822 - val_loss: 0.7061 - val_accuracy: 0.7706 - val_auc_5: 0.8319\n",
      "Epoch 17/30\n",
      "200/200 [==============================] - 6s 31ms/step - loss: 0.1492 - accuracy: 0.9424 - auc_5: 0.9833 - val_loss: 0.6926 - val_accuracy: 0.7734 - val_auc_5: 0.8335\n",
      "Epoch 18/30\n",
      "200/200 [==============================] - 6s 31ms/step - loss: 0.1462 - accuracy: 0.9453 - auc_5: 0.9836 - val_loss: 0.7216 - val_accuracy: 0.7722 - val_auc_5: 0.8296\n",
      "Epoch 19/30\n",
      "200/200 [==============================] - 6s 31ms/step - loss: 0.1458 - accuracy: 0.9438 - auc_5: 0.9838 - val_loss: 0.7127 - val_accuracy: 0.7738 - val_auc_5: 0.8320\n",
      "Epoch 20/30\n",
      "200/200 [==============================] - 6s 31ms/step - loss: 0.1431 - accuracy: 0.9465 - auc_5: 0.9846 - val_loss: 0.7426 - val_accuracy: 0.7706 - val_auc_5: 0.8267\n",
      "Epoch 21/30\n",
      "200/200 [==============================] - 6s 31ms/step - loss: 0.1417 - accuracy: 0.9453 - auc_5: 0.9840 - val_loss: 0.7222 - val_accuracy: 0.7725 - val_auc_5: 0.8288\n",
      "Epoch 22/30\n",
      "200/200 [==============================] - 6s 31ms/step - loss: 0.1426 - accuracy: 0.9462 - auc_5: 0.9847 - val_loss: 0.7528 - val_accuracy: 0.7725 - val_auc_5: 0.8260\n",
      "Epoch 23/30\n",
      "200/200 [==============================] - 6s 31ms/step - loss: 0.1389 - accuracy: 0.9488 - auc_5: 0.9846 - val_loss: 0.7725 - val_accuracy: 0.7709 - val_auc_5: 0.8251\n",
      "Epoch 24/30\n",
      "200/200 [==============================] - 6s 31ms/step - loss: 0.1412 - accuracy: 0.9459 - auc_5: 0.9841 - val_loss: 0.7364 - val_accuracy: 0.7775 - val_auc_5: 0.8302\n",
      "Epoch 25/30\n",
      "200/200 [==============================] - 6s 31ms/step - loss: 0.1423 - accuracy: 0.9466 - auc_5: 0.9838 - val_loss: 0.7695 - val_accuracy: 0.7694 - val_auc_5: 0.8233\n",
      "Epoch 26/30\n",
      "200/200 [==============================] - 6s 31ms/step - loss: 0.1297 - accuracy: 0.9523 - auc_5: 0.9862 - val_loss: 0.7579 - val_accuracy: 0.7734 - val_auc_5: 0.8257\n",
      "Epoch 27/30\n",
      "200/200 [==============================] - 6s 31ms/step - loss: 0.1332 - accuracy: 0.9498 - auc_5: 0.9854 - val_loss: 0.7522 - val_accuracy: 0.7738 - val_auc_5: 0.8255\n",
      "Epoch 28/30\n",
      "200/200 [==============================] - 6s 31ms/step - loss: 0.1375 - accuracy: 0.9472 - auc_5: 0.9849 - val_loss: 0.7420 - val_accuracy: 0.7731 - val_auc_5: 0.8273\n",
      "Epoch 29/30\n",
      "200/200 [==============================] - 6s 31ms/step - loss: 0.1281 - accuracy: 0.9505 - auc_5: 0.9870 - val_loss: 0.7537 - val_accuracy: 0.7741 - val_auc_5: 0.8280\n",
      "Epoch 30/30\n",
      "200/200 [==============================] - 6s 31ms/step - loss: 0.1353 - accuracy: 0.9498 - auc_5: 0.9851 - val_loss: 0.7462 - val_accuracy: 0.7766 - val_auc_5: 0.8295\n"
     ]
    }
   ],
   "source": [
    "h2 = cnn.fit(\n",
    "    x = train_loader, \n",
    "    steps_per_epoch = TR_STEPS, \n",
    "    epochs = 30,\n",
    "    validation_data = valid_loader, \n",
    "    validation_steps = VA_STEPS, \n",
    "    verbose = 1\n",
    ")"
   ]
  },
  {
   "cell_type": "code",
   "execution_count": 50,
   "id": "e6d67e34",
   "metadata": {},
   "outputs": [],
   "source": [
    "tf.keras.backend.set_value(cnn.optimizer.learning_rate, 0.00001)"
   ]
  },
  {
   "cell_type": "markdown",
   "id": "dec7a08d",
   "metadata": {},
   "source": [
    "Round three training"
   ]
  },
  {
   "cell_type": "code",
   "execution_count": 51,
   "id": "a4b795ce",
   "metadata": {},
   "outputs": [
    {
     "name": "stdout",
     "output_type": "stream",
     "text": [
      "Epoch 1/30\n",
      "200/200 [==============================] - 6s 32ms/step - loss: 0.1301 - accuracy: 0.9516 - auc_5: 0.9858 - val_loss: 0.7529 - val_accuracy: 0.7759 - val_auc_5: 0.8270\n",
      "Epoch 2/30\n",
      "200/200 [==============================] - 6s 31ms/step - loss: 0.1290 - accuracy: 0.9508 - auc_5: 0.9861 - val_loss: 0.7524 - val_accuracy: 0.7769 - val_auc_5: 0.8281\n",
      "Epoch 3/30\n",
      "200/200 [==============================] - 6s 30ms/step - loss: 0.1290 - accuracy: 0.9511 - auc_5: 0.9863 - val_loss: 0.7556 - val_accuracy: 0.7759 - val_auc_5: 0.8269\n",
      "Epoch 4/30\n",
      "200/200 [==============================] - 6s 32ms/step - loss: 0.1315 - accuracy: 0.9500 - auc_5: 0.9860 - val_loss: 0.7478 - val_accuracy: 0.7753 - val_auc_5: 0.8275\n",
      "Epoch 5/30\n",
      "200/200 [==============================] - 6s 31ms/step - loss: 0.1261 - accuracy: 0.9535 - auc_5: 0.9868 - val_loss: 0.7530 - val_accuracy: 0.7766 - val_auc_5: 0.8273\n",
      "Epoch 6/30\n",
      "200/200 [==============================] - 6s 31ms/step - loss: 0.1276 - accuracy: 0.9506 - auc_5: 0.9863 - val_loss: 0.7492 - val_accuracy: 0.7753 - val_auc_5: 0.8278\n",
      "Epoch 7/30\n",
      "200/200 [==============================] - 6s 31ms/step - loss: 0.1340 - accuracy: 0.9504 - auc_5: 0.9848 - val_loss: 0.7507 - val_accuracy: 0.7763 - val_auc_5: 0.8275\n",
      "Epoch 8/30\n",
      "200/200 [==============================] - 6s 31ms/step - loss: 0.1328 - accuracy: 0.9509 - auc_5: 0.9854 - val_loss: 0.7524 - val_accuracy: 0.7759 - val_auc_5: 0.8280\n",
      "Epoch 9/30\n",
      "200/200 [==============================] - 6s 31ms/step - loss: 0.1306 - accuracy: 0.9519 - auc_5: 0.9854 - val_loss: 0.7527 - val_accuracy: 0.7756 - val_auc_5: 0.8280\n",
      "Epoch 10/30\n",
      "200/200 [==============================] - 6s 31ms/step - loss: 0.1295 - accuracy: 0.9527 - auc_5: 0.9856 - val_loss: 0.7478 - val_accuracy: 0.7769 - val_auc_5: 0.8276\n",
      "Epoch 11/30\n",
      "200/200 [==============================] - 6s 31ms/step - loss: 0.1235 - accuracy: 0.9545 - auc_5: 0.9870 - val_loss: 0.7538 - val_accuracy: 0.7766 - val_auc_5: 0.8272\n",
      "Epoch 12/30\n",
      "200/200 [==============================] - 6s 31ms/step - loss: 0.1313 - accuracy: 0.9508 - auc_5: 0.9860 - val_loss: 0.7568 - val_accuracy: 0.7756 - val_auc_5: 0.8271\n",
      "Epoch 13/30\n",
      "200/200 [==============================] - 6s 31ms/step - loss: 0.1297 - accuracy: 0.9532 - auc_5: 0.9856 - val_loss: 0.7527 - val_accuracy: 0.7759 - val_auc_5: 0.8275\n",
      "Epoch 14/30\n",
      "200/200 [==============================] - 6s 31ms/step - loss: 0.1276 - accuracy: 0.9516 - auc_5: 0.9867 - val_loss: 0.7532 - val_accuracy: 0.7781 - val_auc_5: 0.8270\n",
      "Epoch 15/30\n",
      "200/200 [==============================] - 6s 31ms/step - loss: 0.1237 - accuracy: 0.9534 - auc_5: 0.9873 - val_loss: 0.7543 - val_accuracy: 0.7769 - val_auc_5: 0.8266\n",
      "Epoch 16/30\n",
      "200/200 [==============================] - 6s 31ms/step - loss: 0.1273 - accuracy: 0.9526 - auc_5: 0.9865 - val_loss: 0.7566 - val_accuracy: 0.7775 - val_auc_5: 0.8264\n",
      "Epoch 17/30\n",
      "200/200 [==============================] - 6s 31ms/step - loss: 0.1273 - accuracy: 0.9516 - auc_5: 0.9868 - val_loss: 0.7568 - val_accuracy: 0.7756 - val_auc_5: 0.8264\n",
      "Epoch 18/30\n",
      "200/200 [==============================] - 6s 31ms/step - loss: 0.1341 - accuracy: 0.9487 - auc_5: 0.9848 - val_loss: 0.7591 - val_accuracy: 0.7769 - val_auc_5: 0.8260\n",
      "Epoch 19/30\n",
      "200/200 [==============================] - 6s 31ms/step - loss: 0.1269 - accuracy: 0.9521 - auc_5: 0.9865 - val_loss: 0.7591 - val_accuracy: 0.7769 - val_auc_5: 0.8266\n",
      "Epoch 20/30\n",
      "200/200 [==============================] - 6s 31ms/step - loss: 0.1272 - accuracy: 0.9523 - auc_5: 0.9865 - val_loss: 0.7568 - val_accuracy: 0.7766 - val_auc_5: 0.8259\n",
      "Epoch 21/30\n",
      "200/200 [==============================] - 6s 31ms/step - loss: 0.1251 - accuracy: 0.9548 - auc_5: 0.9861 - val_loss: 0.7610 - val_accuracy: 0.7772 - val_auc_5: 0.8253\n",
      "Epoch 22/30\n",
      "200/200 [==============================] - 6s 31ms/step - loss: 0.1280 - accuracy: 0.9523 - auc_5: 0.9862 - val_loss: 0.7589 - val_accuracy: 0.7766 - val_auc_5: 0.8259\n",
      "Epoch 23/30\n",
      "200/200 [==============================] - 6s 31ms/step - loss: 0.1249 - accuracy: 0.9553 - auc_5: 0.9868 - val_loss: 0.7598 - val_accuracy: 0.7766 - val_auc_5: 0.8259\n",
      "Epoch 24/30\n",
      "200/200 [==============================] - 6s 31ms/step - loss: 0.1268 - accuracy: 0.9523 - auc_5: 0.9865 - val_loss: 0.7588 - val_accuracy: 0.7763 - val_auc_5: 0.8264\n",
      "Epoch 25/30\n",
      "200/200 [==============================] - 6s 31ms/step - loss: 0.1202 - accuracy: 0.9545 - auc_5: 0.9881 - val_loss: 0.7596 - val_accuracy: 0.7763 - val_auc_5: 0.8271\n",
      "Epoch 26/30\n",
      "200/200 [==============================] - 6s 31ms/step - loss: 0.1293 - accuracy: 0.9513 - auc_5: 0.9857 - val_loss: 0.7550 - val_accuracy: 0.7766 - val_auc_5: 0.8265\n",
      "Epoch 27/30\n",
      "200/200 [==============================] - 6s 31ms/step - loss: 0.1232 - accuracy: 0.9545 - auc_5: 0.9873 - val_loss: 0.7602 - val_accuracy: 0.7772 - val_auc_5: 0.8265\n",
      "Epoch 28/30\n",
      "200/200 [==============================] - 6s 31ms/step - loss: 0.1274 - accuracy: 0.9527 - auc_5: 0.9858 - val_loss: 0.7599 - val_accuracy: 0.7769 - val_auc_5: 0.8255\n",
      "Epoch 29/30\n",
      "200/200 [==============================] - 6s 31ms/step - loss: 0.1270 - accuracy: 0.9528 - auc_5: 0.9860 - val_loss: 0.7601 - val_accuracy: 0.7769 - val_auc_5: 0.8264\n",
      "Epoch 30/30\n",
      "200/200 [==============================] - 6s 31ms/step - loss: 0.1225 - accuracy: 0.9527 - auc_5: 0.9877 - val_loss: 0.7570 - val_accuracy: 0.7750 - val_auc_5: 0.8261\n"
     ]
    }
   ],
   "source": [
    " h3 = cnn.fit(\n",
    "    x = train_loader, \n",
    "    steps_per_epoch = TR_STEPS, \n",
    "    epochs = 30,\n",
    "    validation_data = valid_loader, \n",
    "    validation_steps = VA_STEPS, \n",
    "    verbose = 1\n",
    ")"
   ]
  },
  {
   "cell_type": "markdown",
   "id": "d0aa589e",
   "metadata": {},
   "source": [
    "Final outcome 95.3%, historical highest 95.53%"
   ]
  },
  {
   "cell_type": "code",
   "execution_count": null,
   "id": "647c852b",
   "metadata": {},
   "outputs": [],
   "source": []
  }
 ],
 "metadata": {
  "kernelspec": {
   "display_name": "Python 3 (ipykernel)",
   "language": "python",
   "name": "python3"
  },
  "language_info": {
   "codemirror_mode": {
    "name": "ipython",
    "version": 3
   },
   "file_extension": ".py",
   "mimetype": "text/x-python",
   "name": "python",
   "nbconvert_exporter": "python",
   "pygments_lexer": "ipython3",
   "version": "3.8.12"
  }
 },
 "nbformat": 4,
 "nbformat_minor": 5
}
